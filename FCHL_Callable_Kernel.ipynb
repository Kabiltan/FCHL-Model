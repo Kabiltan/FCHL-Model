{
  "metadata": {
    "orig_nbformat": 4,
    "kernelspec": {
      "display_name": "Python 3 (ipykernel)",
      "language": "python",
      "name": "python3"
    },
    "language_info": {
      "codemirror_mode": {
        "name": "ipython",
        "version": 3
      },
      "file_extension": ".py",
      "mimetype": "text/x-python",
      "name": "python",
      "nbconvert_exporter": "python",
      "pygments_lexer": "ipython3",
      "version": "3.7.10"
    },
    "colab": {
      "name": "fchl-in-one-notebook - Nystroem Pipeline .ipynb",
      "provenance": []
    }
  },
  "nbformat_minor": 0,
  "nbformat": 4,
  "cells": [
    {
      "cell_type": "markdown",
      "source": [
        "# FCHL in One Notebook\n",
        "This notebook is designed to explain the [\"FCHL\" machine learning technique](https://aip.scitation.org/doi/full/10.1063/1.5020710) from 2018.\n",
        "FCHL is a\n",
        "- [ ] kernel method\n",
        "- [ ] created with atomistic, scalable kernels\n",
        "- [ ] that use \"alchemical\" many-body similarity functions\n",
        "- [ ] to regress atomic properties with ridge regression.\n",
        "\n",
        "Our goal in this notebook is to explain what each of those bullets means.\n",
        "We will presume that you are familiar, in general, with regression methods and how to use the PyData stack (e.g., numpy, pandas, sklearn)."
      ],
      "metadata": {
        "id": "lry3JNz8s8lT"
      }
    },
    {
      "cell_type": "code",
      "source": [
        "!pip install git+https://github.com/qmlcode/qml@develop"
      ],
      "metadata": {
        "colab": {
          "base_uri": "https://localhost:8080/"
        },
        "id": "AiFizhwztL7p",
        "outputId": "6dff9f1c-629d-4d3c-e15f-4e9f11ee02aa"
      },
      "execution_count": 1,
      "outputs": [
        {
          "metadata": {
            "tags": null
          },
          "name": "stdout",
          "output_type": "stream",
          "text": [
            "Collecting git+https://github.com/qmlcode/qml@develop\n",
            "  Cloning https://github.com/qmlcode/qml (to revision develop) to /tmp/pip-req-build-tmyuminm\n",
            "  Running command git clone -q https://github.com/qmlcode/qml /tmp/pip-req-build-tmyuminm\n",
            "  Running command git checkout -b develop --track origin/develop\n",
            "  Switched to a new branch 'develop'\n",
            "  Branch 'develop' set up to track remote branch 'develop' from 'origin'.\n",
            "Requirement already satisfied: numpy>=1.13 in /usr/local/lib/python3.7/dist-packages (from qml==0.4.0.12) (1.21.5)\n",
            "Requirement already satisfied: scipy in /usr/local/lib/python3.7/dist-packages (from qml==0.4.0.12) (1.4.1)\n",
            "Requirement already satisfied: scikit-learn in /usr/local/lib/python3.7/dist-packages (from qml==0.4.0.12) (1.0.2)\n",
            "Requirement already satisfied: six in /usr/local/lib/python3.7/dist-packages (from qml==0.4.0.12) (1.15.0)\n",
            "Requirement already satisfied: threadpoolctl>=2.0.0 in /usr/local/lib/python3.7/dist-packages (from scikit-learn->qml==0.4.0.12) (3.1.0)\n",
            "Requirement already satisfied: joblib>=0.11 in /usr/local/lib/python3.7/dist-packages (from scikit-learn->qml==0.4.0.12) (1.1.0)\n",
            "Building wheels for collected packages: qml\n",
            "  Building wheel for qml (setup.py) ... \u001b[?25l\u001b[?25hdone\n",
            "  Created wheel for qml: filename=qml-0.4.0.12-cp37-cp37m-linux_x86_64.whl size=2152267 sha256=66840baccab440ad6ad9abf2170401d05531b4223d94d4a1200e054ef3191e88\n",
            "  Stored in directory: /tmp/pip-ephem-wheel-cache-asfv8cit/wheels/86/8c/bf/c4dfb820c6410f97a6bdf9d03b0c180e33dc6f918c809c321f\n",
            "Successfully built qml\n",
            "Installing collected packages: qml\n",
            "Successfully installed qml-0.4.0.12\n"
          ]
        }
      ]
    },
    {
      "cell_type": "code",
      "source": [
        "%matplotlib inline\n",
        "from matplotlib import pyplot as plt\n",
        "from qml.fchl import get_local_kernels, get_local_symmetric_kernels\n",
        "from qml import Compound\n",
        "from sklearn.model_selection import GridSearchCV, ShuffleSplit, train_test_split\n",
        "from sklearn.metrics.pairwise import rbf_kernel\n",
        "from sklearn.metrics import mean_absolute_error\n",
        "from sklearn.kernel_ridge import KernelRidge\n",
        "from sklearn.base import BaseEstimator\n",
        "from sklearn.pipeline import Pipeline\n",
        "from scipy.stats import linregress\n",
        "from time import perf_counter\n",
        "from io import StringIO\n",
        "from tqdm import tqdm\n",
        "import pandas as pd\n",
        "import numpy as np\n",
        "import os"
      ],
      "metadata": {
        "tags": [],
        "trusted": true,
        "id": "Bt9fwOJss8ld"
      },
      "execution_count": 16,
      "outputs": []
    },
    {
      "cell_type": "markdown",
      "source": [
        "## Kernel Methods\n",
        "The [\"kernel\" trick](https://en.wikipedia.org/wiki/Kernel_method) is make a supervised learning problem easier by creating new input features based on pairwise similarities between a new input point and each point from the training set. The kernel creates a new set of $N$ features where each feature is the similarity between a certain entry and each of $N$ points from the training set. The similiarity function used to compute the new features is called _the kernel_.\n",
        "\n",
        "Here, we will demonstrate how the kernel can drastically simplify the learning problem."
      ],
      "metadata": {
        "id": "eTiC24jls8li"
      }
    },
    {
      "cell_type": "code",
      "source": [
        "x = np.arange(-2, 2.1, 1)\n",
        "y = (-1 <= x) & (x <= 1)"
      ],
      "metadata": {
        "execution": {
          "iopub.execute_input": "2021-01-25T13:59:18.893632Z",
          "iopub.status.busy": "2021-01-25T13:59:18.892925Z",
          "iopub.status.idle": "2021-01-25T13:59:18.896245Z",
          "shell.execute_reply": "2021-01-25T13:59:18.895326Z"
        },
        "id": "I-Uaf7gcs8lk"
      },
      "execution_count": null,
      "outputs": []
    },
    {
      "cell_type": "code",
      "source": [
        "fig, ax = plt.subplots(figsize=(3.5, 2.5))\n",
        "\n",
        "ax.scatter(x, [0]*5, c=y, s=100, ec='k')\n",
        "ax.set_ylim(ax.get_ylim())\n",
        "for i in [-1.5, 1.5]:\n",
        "    ax.plot([i]*2, ax.get_ylim(), 'k--')\n",
        "\n",
        "ax.set_yticklabels([])\n",
        "ax.set_xlabel('$x$')\n",
        "fig.tight_layout()\n",
        "fig.savefig('figures/without-kernel.svg')"
      ],
      "metadata": {
        "execution": {
          "iopub.execute_input": "2021-01-25T13:59:18.939671Z",
          "iopub.status.busy": "2021-01-25T13:59:18.938679Z",
          "iopub.status.idle": "2021-01-25T13:59:19.803921Z",
          "shell.execute_reply": "2021-01-25T13:59:19.804794Z"
        },
        "id": "UDFV-PjNs8ll",
        "outputId": "2dfb0f43-724e-40d9-9517-8d4b6f92b3c1"
      },
      "execution_count": null,
      "outputs": [
        {
          "output_type": "display_data",
          "data": {
            "image/png": "[encoded data removed]",
            "text/plain": "<Figure size 252x180 with 1 Axes>"
          },
          "metadata": {
            "needs_background": "light"
          }
        }
      ]
    },
    {
      "cell_type": "markdown",
      "source": [
        "Note how this problem is not linearly separable. You need 2 rules to separate the two classes.\n",
        "\n",
        "Now, we apply a kernel trick to create a new set of features. We use the [\"RBF Kernel\"](https://scikit-learn.org/stable/modules/generated/sklearn.metrics.pairwise.rbf_kernel.html)\n",
        "to generate new features. The RBF kernel uses a Gaussian function to create new features\n",
        "\n",
        "$f_i = k(x, x_i) = \\exp(-(x - x_i)^2/\\sigma))$\n",
        "\n",
        "Applying the kernel function to all of the data yields the so-called, \"kernel matrix\" where\n",
        "\n",
        "$K_{ij} = k(x_i, y_j)$\n",
        "\n",
        "We will use this term in the remainder of the notebook"
      ],
      "metadata": {
        "id": "r-gHFj2Ys8ln"
      }
    },
    {
      "cell_type": "code",
      "source": [
        "f = rbf_kernel(x[:, None])"
      ],
      "metadata": {
        "execution": {
          "iopub.execute_input": "2021-01-25T13:59:19.812131Z",
          "iopub.status.busy": "2021-01-25T13:59:19.811163Z",
          "iopub.status.idle": "2021-01-25T13:59:19.813716Z",
          "shell.execute_reply": "2021-01-25T13:59:19.814420Z"
        },
        "id": "L_p9878ns8lp"
      },
      "execution_count": null,
      "outputs": []
    },
    {
      "cell_type": "code",
      "source": [
        "fig, ax = plt.subplots(figsize=(3.5, 2.5))\n",
        "\n",
        "ax.scatter(x, f[:, 2], c=y, s=100, ec='k')\n",
        "ax.set_xlim(ax.get_xlim())\n",
        "ax.plot(ax.get_xlim(), [0.2]*2, 'k--')\n",
        "\n",
        "ax.set_ylabel('$f_2$')\n",
        "ax.set_xlabel('$x$')\n",
        "fig.tight_layout()\n",
        "fig.savefig('figures/with-kernel.svg')"
      ],
      "metadata": {
        "execution": {
          "iopub.execute_input": "2021-01-25T13:59:19.874934Z",
          "iopub.status.busy": "2021-01-25T13:59:19.874477Z",
          "iopub.status.idle": "2021-01-25T13:59:20.042766Z",
          "shell.execute_reply": "2021-01-25T13:59:20.042323Z"
        },
        "id": "CRd6aA9bs8lq",
        "outputId": "7c3381fc-1a03-41ca-ac76-c69e75949529"
      },
      "execution_count": null,
      "outputs": [
        {
          "output_type": "display_data",
          "data": {
            "image/png": "[encoded data removed]",
            "text/plain": "<Figure size 252x180 with 1 Axes>"
          },
          "metadata": {
            "needs_background": "light"
          }
        }
      ]
    },
    {
      "cell_type": "markdown",
      "source": [
        "Now my features are linear separable based on $f_2$. We've made the learning problem easier by transforming the data to a new space.\n",
        "\n",
        "FCHL operates based on this idea of \"apply a similiarty function to make learning easier.\" The secret is finding a function that maps \"materials\" into a similiarly easy space for ML to learn a simple function"
      ],
      "metadata": {
        "id": "Y15imXv2s8ls"
      }
    },
    {
      "cell_type": "markdown",
      "source": [
        "## Atomistic Kernel\n",
        "The first concept used by FCHL is the notion of a atomistics kernel, which leverages the fact that many molecular properties can be represented as sums over atomic properties.\n",
        "Energy is a good example due to most quantum effects being local: two atoms with similar _local_ environemnts should have similiar energies.\n",
        "An atomistic kernel definies the kernel (read: similarity) function between two molecules as a sum over kernels describe each atom:\n",
        "\n",
        "$K(x, y) = \\sum_i \\sum_j k(x_i, y_j)$\n",
        "\n",
        "Here, we show how that simplifies molecular machine learning."
      ],
      "metadata": {
        "id": "shXOdto_s8lt"
      }
    },
    {
      "cell_type": "markdown",
      "source": [
        "Consider an (artificial) case where we have a single molecule where the atom's local environment can be described by a feature vector: `[1]`\n",
        "\n",
        "We assign it an energy of -1"
      ],
      "metadata": {
        "id": "cU7Cz5x-s8lu"
      }
    },
    {
      "cell_type": "code",
      "source": [
        "molA = np.ones((1, 1))\n",
        "molA"
      ],
      "metadata": {
        "execution": {
          "iopub.execute_input": "2021-01-25T13:59:20.047311Z",
          "iopub.status.busy": "2021-01-25T13:59:20.046699Z",
          "iopub.status.idle": "2021-01-25T13:59:20.049759Z",
          "shell.execute_reply": "2021-01-25T13:59:20.049319Z"
        },
        "id": "z23HWIdTs8lu",
        "outputId": "65a93106-0f12-4886-edba-d1aa69a922b5"
      },
      "execution_count": null,
      "outputs": [
        {
          "execution_count": 1,
          "output_type": "execute_result",
          "data": {
            "text/plain": "array([[1.]])"
          },
          "metadata": {}
        }
      ]
    },
    {
      "cell_type": "markdown",
      "source": [
        "We assume an energy model based on a kernel regression: $E(x) = \\sum_i K(x, x_i)$ where $x_i$ is a molecule from the training set and $\\alpha_i$ is a learned parameter"
      ],
      "metadata": {
        "id": "Pr5637-Is8lw"
      }
    },
    {
      "cell_type": "code",
      "source": [
        "def scalable_kernel(x: np.ndarray, y: np.ndarray) -> float:\n",
        "    \"\"\"Compute a scalable kernel\n",
        "    \n",
        "    Args:\n",
        "        x: 2D representation for a molecule\n",
        "        y: 2D representation for a second molecule\n",
        "    \"\"\"\n",
        "    \n",
        "    k = rbf_kernel(x, y)\n",
        "    return k.sum()"
      ],
      "metadata": {
        "execution": {
          "iopub.execute_input": "2021-01-25T13:59:20.054745Z",
          "iopub.status.busy": "2021-01-25T13:59:20.054057Z",
          "iopub.status.idle": "2021-01-25T13:59:20.056465Z",
          "shell.execute_reply": "2021-01-25T13:59:20.057011Z"
        },
        "id": "I5nqZMg1s8lx"
      },
      "execution_count": null,
      "outputs": []
    },
    {
      "cell_type": "markdown",
      "source": [
        "Solving for the only learned parameter, $\\alpha_0$: $E(molA) = \\alpha_0 \\times K(molA, molA)$"
      ],
      "metadata": {
        "id": "7hJ3kdHXs8lx"
      }
    },
    {
      "cell_type": "code",
      "source": [
        "alpha_0 = -1 / scalable_kernel(molA, molA)\n",
        "print(f'alpha_0 = {alpha_0:.2f}')"
      ],
      "metadata": {
        "execution": {
          "iopub.execute_input": "2021-01-25T13:59:20.062217Z",
          "iopub.status.busy": "2021-01-25T13:59:20.061547Z",
          "iopub.status.idle": "2021-01-25T13:59:20.065033Z",
          "shell.execute_reply": "2021-01-25T13:59:20.064400Z"
        },
        "id": "Mkp24wNIs8ly",
        "outputId": "ca4fee28-3fc7-4fde-b241-379c8cf99ffa"
      },
      "execution_count": null,
      "outputs": [
        {
          "name": "stdout",
          "output_type": "stream",
          "text": "alpha_0 = -1.00\n"
        }
      ]
    },
    {
      "cell_type": "markdown",
      "source": [
        "We now predict the properties of several molecules which have atoms with similar environemnts but with different numbers of atoms"
      ],
      "metadata": {
        "id": "IhrDMhMls8l0"
      }
    },
    {
      "cell_type": "code",
      "source": [
        "fig, ax = plt.subplots(figsize=(3.5, 2.5))\n",
        "\n",
        "n = np.arange(1, 10, 1)\n",
        "e = [alpha_0 * scalable_kernel(np.ones((i, 1)), molA) for i in n]\n",
        "\n",
        "ax.scatter(n, e)\n",
        "\n",
        "ax.set_xlabel('Size')\n",
        "ax.set_ylabel('Energy')\n",
        "fig.tight_layout()\n",
        "fig.savefig('figures/atomic-kernel.svg')"
      ],
      "metadata": {
        "execution": {
          "iopub.execute_input": "2021-01-25T13:59:20.084627Z",
          "iopub.status.busy": "2021-01-25T13:59:20.080688Z",
          "iopub.status.idle": "2021-01-25T13:59:20.330004Z",
          "shell.execute_reply": "2021-01-25T13:59:20.329514Z"
        },
        "id": "fd2dMCa3s8l0",
        "outputId": "a7fb1baf-5045-4c6e-91d5-2176aa339ed2"
      },
      "execution_count": null,
      "outputs": [
        {
          "output_type": "display_data",
          "data": {
            "image/png": "[encoded data removed]",
            "text/plain": "<Figure size 252x180 with 1 Axes>"
          },
          "metadata": {
            "needs_background": "light"
          }
        }
      ]
    },
    {
      "cell_type": "markdown",
      "source": [
        "The scalable kernel captures the scaling between molecule size and energy by construction."
      ],
      "metadata": {
        "id": "xDNk_f0Gs8l1"
      }
    },
    {
      "cell_type": "markdown",
      "source": [
        "## Alchemical Kernels\n",
        "The other ingredient of FCHL is how local environments are compared using a \"many-body atomistic kernel.\"\n",
        "The atomistic kernels are based on a simple concept: similar atoms have similar elements\n",
        "and neighboring atoms at similar positions with similar elements.\n",
        "This principle of \"similar environments\" is captured by representing the local environment as a series of \n",
        "functions that capture 1-body, 2-body and 3-body interactions in the environment.\n",
        "The functions are based on Gaussians in a coordinate space where some directions spatial (e.g., distances\n",
        "and angles between atoms) and others are chemical (e.g., position on periodic table). \n",
        "The similarity between atomic environments are then expressed as integrals over the difference between \n",
        "the two functions.\n",
        "\n",
        "\n",
        "For example, the 1-body representation can be written as\n",
        "\n",
        "$A_1(I, x_0, x_1) = \\exp(-\\frac{(P_I - x_0)^2}{2\\sigma_P^2}-\\frac{(G_I - x_1)^2}{2\\sigma_G^2})$\n",
        "\n",
        "where $P_I$ and $G_I$ are the period and group of atom $I$, and $x_0$ and $x_1$ are the inputs to the function.\n",
        "We then compute the difference between two atomic environments by integrating out $x_0$ and $x_1$\n",
        "\n",
        "$k_1(I, J) = \\iint (A_1(I, x_0, x_1) - A_2(J, x_0, x_1))^2 \\,dx_0 \\,dx_1\n",
        "= \\frac{1}{2} \\exp(-\\frac{(P_I - P_J)^2}{4\\sigma_P^2}-\\frac{(G_I - G_J)^2}{4\\sigma_G^2})$\n",
        "\n",
        "Choosing Gaussians as the basis of the representation function leads to these integrals having analytical solutions.\n",
        "The technique for the 2- and 3-body terms is similar, with integrals over not just the elemental similarity variables\n",
        "but also over spatial terms.\n",
        "\n",
        "<center>\n",
        "<img width=300px src=\"https://aip.scitation.org/na101/home/literatum/publisher/aip/journals/content/jcp/2018/jcp.2018.148.issue-24/1.5020710/20180320/images/medium/1.5020710.figures.online.f1.jpg\"/>\n",
        "</center>\n",
        "\n",
        "Here, we demonstrate how to compute such kernels using [QML](https://github.com/qmlcode/qml/tree/develop)"
      ],
      "metadata": {
        "id": "UWr3XP1Qs8l1"
      }
    },
    {
      "cell_type": "code",
      "source": [
        "# Downsample to only a few thousand points. As we will demonstrate\n",
        "#  FCHL can be costly to run on large datasets\n",
        "data = pd.read_json('qm9.json.gz', lines=True).sample(2000, random_state=1)"
      ],
      "metadata": {
        "tags": [],
        "trusted": true,
        "id": "jB9LGTzRs8l2"
      },
      "execution_count": 17,
      "outputs": []
    },
    {
      "cell_type": "markdown",
      "source": [
        "QML is primary designed for providing the low-level operations needed to build ML tools, \n",
        "but does offer [a scikit-learn-compatible interface](https://github.com/qmlcode/qml/blob/develop/qml/qmlearn/__init__.py). \n",
        "We will eschew using it for teaching purposes and, instead, build these tools ourselves.\n",
        "\n",
        "The first step of using FCHL from QML is to pre-compute the representation used to compute the FCHL kernel.\n",
        "For this, we must first parse the molecular structure from an XYZ into QML's internal [Compound object](http://www.qmlcode.org/qml.html#qml-compound-class).\n",
        "We then use the [`generate_fchl_representation`](http://www.qmlcode.org/qml.html#qml.Compound.generate_fchl_representation) method to compute a\n",
        "description of the molecule that is ready for using to compute the kernel."
      ],
      "metadata": {
        "id": "O8KId9_rs8l2"
      }
    },
    {
      "cell_type": "code",
      "source": [
        "%%time\n",
        "# I use StringIO to turn the XYZ strings into the file object needed by Compound,\n",
        "#  `map` for parsimony, and set the `max_size` to 30 to capture all molecuels in QM9\n",
        "def make_representation(x):\n",
        "    # Step 1: Compute the representation\n",
        "    c = Compound(StringIO(x))\n",
        "    c.generate_fchl_representation(max_size=30)\n",
        "    \n",
        "    # Step 2: Return it\n",
        "    return c.representation\n",
        "data['fchl_rep'] = data['xyz'].apply(make_representation)"
      ],
      "metadata": {
        "tags": [],
        "trusted": true,
        "colab": {
          "base_uri": "https://localhost:8080/"
        },
        "id": "4SUipdTYs8l3",
        "outputId": "11eb3a57-4061-4cdd-a37d-b4e411b3f933"
      },
      "execution_count": 18,
      "outputs": [
        {
          "output_type": "stream",
          "name": "stdout",
          "text": [
            "CPU times: user 1.74 s, sys: 9.91 ms, total: 1.75 s\n",
            "Wall time: 1.75 s\n"
          ]
        }
      ]
    },
    {
      "cell_type": "markdown",
      "source": [
        "The FCHL method uses Kernel Ridge Regression (KRR) to learn atomic properties.\n",
        "\n",
        "### Theory: Kernel Ridge Regression\n",
        "Kernel ridge regression creates a model of the functional form:\n",
        "\n",
        "$f(x) = \\sum_i \\alpha_i K(x, x_i)$\n",
        "\n",
        "where the sum is over all points in the training set and $x_i$ is training point $i$.\n",
        "\n",
        "The coefficients of this equation, $\\alpha_i$, are learned by minimizing\n",
        "\n",
        "$\\sum_i (y_i - f(x_i))^2 + \\lambda \\left\\Vert{\\bf \\alpha}\\right\\Vert^2$\n",
        "\n",
        "where the squared error to the training data is $\\sum_i (y_i - f(x_i))^2$,\n",
        "the sum of squares of the weights is $\\left\\Vert{\\bf \\alpha}\\right\\Vert^2$ (i.e., $L_2$-norm), \n",
        "and $\\lambda$ controls the tradeoff between minimizing model error and\n",
        "model complexity (larger weights lead to a more complex model).\n",
        "\n",
        "This equation has a convenient [analytic solution](https://en.wikipedia.org/wiki/Tikhonov_regularization)\n",
        "based on the fact it involves solving a system of linear equations.\n",
        "The costly step in that equation is a matrix inversion, which can be solved efficiently \n",
        "using [Cholesky decomposition](https://en.wikipedia.org/wiki/Cholesky_decomposition) - a \n",
        "convenience due to symmetry properties of the kernel function."
      ],
      "metadata": {
        "id": "VUqTrbo0s8l4"
      }
    },
    {
      "cell_type": "markdown",
      "source": [
        "### Building a KRR Model using `scikit-learn`\n",
        "\n",
        "We implement the KRR model using a two-step process. First, we use the [FCHL kernel functions from QML](http://www.qmlcode.org/examples.html#generating-the-fchl-kernel) to compute the kernel matrix."
      ],
      "metadata": {
        "id": "quneVV68s8l5"
      }
    },
    {
      "cell_type": "code",
      "source": [
        "class FCHLKernel(BaseEstimator):\n",
        "    \"\"\"Class for computing the kernel matrix using the qml utility functions\n",
        "    \n",
        "    The input `X` to all of the function is a list of FCHL representation vectors\n",
        "    \n",
        "    Follows the \"BaseEstimator\" API so that we can \n",
        "    \"\"\"\n",
        "    \n",
        "    def __init__(self):\n",
        "        super(FCHLKernel, self).__init__()\n",
        "        self.train_points = None\n",
        "    \n",
        "    def fit(self, X, y=None):\n",
        "        # Store the training set\n",
        "        self.train_points = np.array(X)\n",
        "        return self\n",
        "        \n",
        "    def fit_transform(self, X, y=None):\n",
        "        self.fit(X)\n",
        "        # Uses the get_localget_local_symmetric_kernels to halve the\n",
        "        #  computational cost (as the matrix is symmetric)\n",
        "        return np.squeeze(get_local_symmetric_kernels(self.train_points))\n",
        "    \n",
        "    def transform(self, X, y=None):\n",
        "        return get_local_kernels(np.array(X), self.train_points)[0]"
      ],
      "metadata": {
        "tags": [],
        "trusted": true,
        "id": "gqvALzX-s8l5"
      },
      "execution_count": 34,
      "outputs": []
    },
    {
      "cell_type": "code",
      "source": [
        "def FCHL_Nystroem_Kernel(molecule_1, molecule_2):\n",
        "\n",
        "        molecule_1 = molecule_1.reshape(30, 5, 30)\n",
        "        molecule_1 = molecule_1.reshape(1, 30, 5, 30)\n",
        "\n",
        "        molecule_2 = molecule_2.reshape(30, 5, 30)\n",
        "        molecule_2 = molecule_2.reshape(1, 30, 5, 30)\n",
        "\n",
        "        kernel_val = get_local_kernels(molecule_1, molecule_2)\n",
        "        return kernel_val[0][0][0]"
      ],
      "metadata": {
        "id": "KJPcvT3Z_S2f"
      },
      "execution_count": 19,
      "outputs": []
    },
    {
      "cell_type": "code",
      "source": [
        "from sklearn import datasets, svm\n",
        "from sklearn.kernel_approximation import Nystroem"
      ],
      "metadata": {
        "id": "xxT-9qsi-Oqu"
      },
      "execution_count": 40,
      "outputs": []
    },
    {
      "cell_type": "code",
      "source": [
        "fchl_kernel = FCHLKernel()"
      ],
      "metadata": {
        "id": "07ebrmJX9uj1"
      },
      "execution_count": 35,
      "outputs": []
    },
    {
      "cell_type": "code",
      "source": [
        "train_data = data.sample(100, random_state=1)"
      ],
      "metadata": {
        "id": "ZrIjpls_mRtn"
      },
      "execution_count": 20,
      "outputs": []
    },
    {
      "cell_type": "code",
      "source": [
        "all_elements = np.asarray(train_data['fchl_rep'].tolist())"
      ],
      "metadata": {
        "id": "XZKdpI-LLum5"
      },
      "execution_count": 21,
      "outputs": []
    },
    {
      "cell_type": "code",
      "source": [
        "all_elements.shape"
      ],
      "metadata": {
        "colab": {
          "base_uri": "https://localhost:8080/"
        },
        "id": "CQoxyFewZnxi",
        "outputId": "e5fdf72f-d36b-4e4e-af75-89a13ab4e52e"
      },
      "execution_count": 22,
      "outputs": [
        {
          "output_type": "execute_result",
          "data": {
            "text/plain": [
              "(100, 30, 5, 30)"
            ]
          },
          "metadata": {},
          "execution_count": 22
        }
      ]
    },
    {
      "cell_type": "code",
      "source": [
        "all_elements_reshaped = all_elements.reshape(100, 30 * 5 * 30)"
      ],
      "metadata": {
        "id": "z4ickI8XfYkC"
      },
      "execution_count": 23,
      "outputs": []
    },
    {
      "cell_type": "code",
      "source": [
        "all_elements_reshaped.shape"
      ],
      "metadata": {
        "id": "kKy46ryy-LMF",
        "outputId": "fea30f92-1c3e-46e1-93f5-311704f80121",
        "colab": {
          "base_uri": "https://localhost:8080/"
        }
      },
      "execution_count": 39,
      "outputs": [
        {
          "output_type": "execute_result",
          "data": {
            "text/plain": [
              "(100, 4500)"
            ]
          },
          "metadata": {},
          "execution_count": 39
        }
      ]
    },
    {
      "cell_type": "code",
      "source": [
        "ny = Nystroem(kernel=FCHL_Nystroem_Kernel, random_state=1, n_components=50)"
      ],
      "metadata": {
        "id": "Kd2Ndwi6AsaH"
      },
      "execution_count": 25,
      "outputs": []
    },
    {
      "cell_type": "code",
      "source": [
        "result = ny.fit_transform(all_elements_reshaped)"
      ],
      "metadata": {
        "id": "3pK4J9mLBWgy"
      },
      "execution_count": 26,
      "outputs": []
    },
    {
      "cell_type": "code",
      "source": [
        "result.shape"
      ],
      "metadata": {
        "id": "5rhnrqtV6QB-",
        "outputId": "7a5843f8-96e5-4924-87a6-fcc8287f6949",
        "colab": {
          "base_uri": "https://localhost:8080/"
        }
      },
      "execution_count": 30,
      "outputs": [
        {
          "output_type": "execute_result",
          "data": {
            "text/plain": [
              "(100, 50)"
            ]
          },
          "metadata": {},
          "execution_count": 30
        }
      ]
    },
    {
      "cell_type": "code",
      "source": [
        "fchl_matrix = fchl_kernel.fit_transform(train_data['fchl_rep'].tolist())"
      ],
      "metadata": {
        "id": "vaB4sxi-93B1"
      },
      "execution_count": 38,
      "outputs": []
    },
    {
      "cell_type": "code",
      "source": [
        "fchl_matrix.shape"
      ],
      "metadata": {
        "id": "64HVcttz-RVN",
        "outputId": "07a263ab-4040-4cea-823a-2e9f5f1b0b51",
        "colab": {
          "base_uri": "https://localhost:8080/"
        }
      },
      "execution_count": 41,
      "outputs": [
        {
          "output_type": "execute_result",
          "data": {
            "text/plain": [
              "(100, 100)"
            ]
          },
          "metadata": {},
          "execution_count": 41
        }
      ]
    },
    {
      "cell_type": "code",
      "source": [
        "result_new = result[0:50, :]"
      ],
      "metadata": {
        "id": "8TixMHVo7E-L"
      },
      "execution_count": 31,
      "outputs": []
    },
    {
      "cell_type": "code",
      "source": [
        "result_new.shape"
      ],
      "metadata": {
        "id": "kt07uisI7KNj",
        "outputId": "aa0476fd-6a80-4cfd-a08a-ceadea396256",
        "colab": {
          "base_uri": "https://localhost:8080/"
        }
      },
      "execution_count": 32,
      "outputs": [
        {
          "output_type": "execute_result",
          "data": {
            "text/plain": [
              "(50, 50)"
            ]
          },
          "metadata": {},
          "execution_count": 32
        }
      ]
    },
    {
      "cell_type": "code",
      "source": [
        "krr = KernelRidge(kernel=FCHL_Nystroem_Kernel)"
      ],
      "metadata": {
        "id": "ghXFwq0x5892"
      },
      "execution_count": 42,
      "outputs": []
    },
    {
      "cell_type": "code",
      "source": [
        "krr.fit(result, train_data['u0_atom'].tolist())"
      ],
      "metadata": {
        "outputId": "b982f400-88bc-4d9c-b50d-f02fcf55dd30",
        "colab": {
          "base_uri": "https://localhost:8080/",
          "height": 311
        },
        "id": "b26q_vF-5rKQ"
      },
      "execution_count": 43,
      "outputs": [
        {
          "output_type": "error",
          "ename": "ValueError",
          "evalue": "ignored",
          "traceback": [
            "\u001b[0;31m---------------------------------------------------------------------------\u001b[0m",
            "\u001b[0;31mValueError\u001b[0m                                Traceback (most recent call last)",
            "\u001b[0;32m<ipython-input-43-99ba774486ce>\u001b[0m in \u001b[0;36m<module>\u001b[0;34m()\u001b[0m\n\u001b[0;32m----> 1\u001b[0;31m \u001b[0mkrr\u001b[0m\u001b[0;34m.\u001b[0m\u001b[0mfit\u001b[0m\u001b[0;34m(\u001b[0m\u001b[0mresult\u001b[0m\u001b[0;34m,\u001b[0m \u001b[0mtrain_data\u001b[0m\u001b[0;34m[\u001b[0m\u001b[0;34m'u0_atom'\u001b[0m\u001b[0;34m]\u001b[0m\u001b[0;34m.\u001b[0m\u001b[0mtolist\u001b[0m\u001b[0;34m(\u001b[0m\u001b[0;34m)\u001b[0m\u001b[0;34m)\u001b[0m\u001b[0;34m\u001b[0m\u001b[0;34m\u001b[0m\u001b[0m\n\u001b[0m",
            "\u001b[0;32m/usr/local/lib/python3.7/dist-packages/sklearn/kernel_ridge.py\u001b[0m in \u001b[0;36mfit\u001b[0;34m(self, X, y, sample_weight)\u001b[0m\n\u001b[1;32m    195\u001b[0m             \u001b[0msample_weight\u001b[0m \u001b[0;34m=\u001b[0m \u001b[0m_check_sample_weight\u001b[0m\u001b[0;34m(\u001b[0m\u001b[0msample_weight\u001b[0m\u001b[0;34m,\u001b[0m \u001b[0mX\u001b[0m\u001b[0;34m)\u001b[0m\u001b[0;34m\u001b[0m\u001b[0;34m\u001b[0m\u001b[0m\n\u001b[1;32m    196\u001b[0m \u001b[0;34m\u001b[0m\u001b[0m\n\u001b[0;32m--> 197\u001b[0;31m         \u001b[0mK\u001b[0m \u001b[0;34m=\u001b[0m \u001b[0mself\u001b[0m\u001b[0;34m.\u001b[0m\u001b[0m_get_kernel\u001b[0m\u001b[0;34m(\u001b[0m\u001b[0mX\u001b[0m\u001b[0;34m)\u001b[0m\u001b[0;34m\u001b[0m\u001b[0;34m\u001b[0m\u001b[0m\n\u001b[0m\u001b[1;32m    198\u001b[0m         \u001b[0malpha\u001b[0m \u001b[0;34m=\u001b[0m \u001b[0mnp\u001b[0m\u001b[0;34m.\u001b[0m\u001b[0matleast_1d\u001b[0m\u001b[0;34m(\u001b[0m\u001b[0mself\u001b[0m\u001b[0;34m.\u001b[0m\u001b[0malpha\u001b[0m\u001b[0;34m)\u001b[0m\u001b[0;34m\u001b[0m\u001b[0;34m\u001b[0m\u001b[0m\n\u001b[1;32m    199\u001b[0m \u001b[0;34m\u001b[0m\u001b[0m\n",
            "\u001b[0;32m/usr/local/lib/python3.7/dist-packages/sklearn/kernel_ridge.py\u001b[0m in \u001b[0;36m_get_kernel\u001b[0;34m(self, X, Y)\u001b[0m\n\u001b[1;32m    153\u001b[0m         \u001b[0;32melse\u001b[0m\u001b[0;34m:\u001b[0m\u001b[0;34m\u001b[0m\u001b[0;34m\u001b[0m\u001b[0m\n\u001b[1;32m    154\u001b[0m             \u001b[0mparams\u001b[0m \u001b[0;34m=\u001b[0m \u001b[0;34m{\u001b[0m\u001b[0;34m\"gamma\"\u001b[0m\u001b[0;34m:\u001b[0m \u001b[0mself\u001b[0m\u001b[0;34m.\u001b[0m\u001b[0mgamma\u001b[0m\u001b[0;34m,\u001b[0m \u001b[0;34m\"degree\"\u001b[0m\u001b[0;34m:\u001b[0m \u001b[0mself\u001b[0m\u001b[0;34m.\u001b[0m\u001b[0mdegree\u001b[0m\u001b[0;34m,\u001b[0m \u001b[0;34m\"coef0\"\u001b[0m\u001b[0;34m:\u001b[0m \u001b[0mself\u001b[0m\u001b[0;34m.\u001b[0m\u001b[0mcoef0\u001b[0m\u001b[0;34m}\u001b[0m\u001b[0;34m\u001b[0m\u001b[0;34m\u001b[0m\u001b[0m\n\u001b[0;32m--> 155\u001b[0;31m         \u001b[0;32mreturn\u001b[0m \u001b[0mpairwise_kernels\u001b[0m\u001b[0;34m(\u001b[0m\u001b[0mX\u001b[0m\u001b[0;34m,\u001b[0m \u001b[0mY\u001b[0m\u001b[0;34m,\u001b[0m \u001b[0mmetric\u001b[0m\u001b[0;34m=\u001b[0m\u001b[0mself\u001b[0m\u001b[0;34m.\u001b[0m\u001b[0mkernel\u001b[0m\u001b[0;34m,\u001b[0m \u001b[0mfilter_params\u001b[0m\u001b[0;34m=\u001b[0m\u001b[0;32mTrue\u001b[0m\u001b[0;34m,\u001b[0m \u001b[0;34m**\u001b[0m\u001b[0mparams\u001b[0m\u001b[0;34m)\u001b[0m\u001b[0;34m\u001b[0m\u001b[0;34m\u001b[0m\u001b[0m\n\u001b[0m\u001b[1;32m    156\u001b[0m \u001b[0;34m\u001b[0m\u001b[0m\n\u001b[1;32m    157\u001b[0m     \u001b[0;32mdef\u001b[0m \u001b[0m_more_tags\u001b[0m\u001b[0;34m(\u001b[0m\u001b[0mself\u001b[0m\u001b[0;34m)\u001b[0m\u001b[0;34m:\u001b[0m\u001b[0;34m\u001b[0m\u001b[0;34m\u001b[0m\u001b[0m\n",
            "\u001b[0;32m/usr/local/lib/python3.7/dist-packages/sklearn/metrics/pairwise.py\u001b[0m in \u001b[0;36mpairwise_kernels\u001b[0;34m(X, Y, metric, filter_params, n_jobs, **kwds)\u001b[0m\n\u001b[1;32m   2051\u001b[0m         \u001b[0;32mraise\u001b[0m \u001b[0mValueError\u001b[0m\u001b[0;34m(\u001b[0m\u001b[0;34m\"Unknown kernel %r\"\u001b[0m \u001b[0;34m%\u001b[0m \u001b[0mmetric\u001b[0m\u001b[0;34m)\u001b[0m\u001b[0;34m\u001b[0m\u001b[0;34m\u001b[0m\u001b[0m\n\u001b[1;32m   2052\u001b[0m \u001b[0;34m\u001b[0m\u001b[0m\n\u001b[0;32m-> 2053\u001b[0;31m     \u001b[0;32mreturn\u001b[0m \u001b[0m_parallel_pairwise\u001b[0m\u001b[0;34m(\u001b[0m\u001b[0mX\u001b[0m\u001b[0;34m,\u001b[0m \u001b[0mY\u001b[0m\u001b[0;34m,\u001b[0m \u001b[0mfunc\u001b[0m\u001b[0;34m,\u001b[0m \u001b[0mn_jobs\u001b[0m\u001b[0;34m,\u001b[0m \u001b[0;34m**\u001b[0m\u001b[0mkwds\u001b[0m\u001b[0;34m)\u001b[0m\u001b[0;34m\u001b[0m\u001b[0;34m\u001b[0m\u001b[0m\n\u001b[0m",
            "\u001b[0;32m/usr/local/lib/python3.7/dist-packages/sklearn/metrics/pairwise.py\u001b[0m in \u001b[0;36m_parallel_pairwise\u001b[0;34m(X, Y, func, n_jobs, **kwds)\u001b[0m\n\u001b[1;32m   1428\u001b[0m \u001b[0;34m\u001b[0m\u001b[0m\n\u001b[1;32m   1429\u001b[0m     \u001b[0;32mif\u001b[0m \u001b[0meffective_n_jobs\u001b[0m\u001b[0;34m(\u001b[0m\u001b[0mn_jobs\u001b[0m\u001b[0;34m)\u001b[0m \u001b[0;34m==\u001b[0m \u001b[0;36m1\u001b[0m\u001b[0;34m:\u001b[0m\u001b[0;34m\u001b[0m\u001b[0;34m\u001b[0m\u001b[0m\n\u001b[0;32m-> 1430\u001b[0;31m         \u001b[0;32mreturn\u001b[0m \u001b[0mfunc\u001b[0m\u001b[0;34m(\u001b[0m\u001b[0mX\u001b[0m\u001b[0;34m,\u001b[0m \u001b[0mY\u001b[0m\u001b[0;34m,\u001b[0m \u001b[0;34m**\u001b[0m\u001b[0mkwds\u001b[0m\u001b[0;34m)\u001b[0m\u001b[0;34m\u001b[0m\u001b[0;34m\u001b[0m\u001b[0m\n\u001b[0m\u001b[1;32m   1431\u001b[0m \u001b[0;34m\u001b[0m\u001b[0m\n\u001b[1;32m   1432\u001b[0m     \u001b[0;31m# enforce a threading backend to prevent data communication overhead\u001b[0m\u001b[0;34m\u001b[0m\u001b[0;34m\u001b[0m\u001b[0;34m\u001b[0m\u001b[0m\n",
            "\u001b[0;32m/usr/local/lib/python3.7/dist-packages/sklearn/metrics/pairwise.py\u001b[0m in \u001b[0;36m_pairwise_callable\u001b[0;34m(X, Y, metric, force_all_finite, **kwds)\u001b[0m\n\u001b[1;32m   1455\u001b[0m         \u001b[0miterator\u001b[0m \u001b[0;34m=\u001b[0m \u001b[0mitertools\u001b[0m\u001b[0;34m.\u001b[0m\u001b[0mcombinations\u001b[0m\u001b[0;34m(\u001b[0m\u001b[0mrange\u001b[0m\u001b[0;34m(\u001b[0m\u001b[0mX\u001b[0m\u001b[0;34m.\u001b[0m\u001b[0mshape\u001b[0m\u001b[0;34m[\u001b[0m\u001b[0;36m0\u001b[0m\u001b[0;34m]\u001b[0m\u001b[0;34m)\u001b[0m\u001b[0;34m,\u001b[0m \u001b[0;36m2\u001b[0m\u001b[0;34m)\u001b[0m\u001b[0;34m\u001b[0m\u001b[0;34m\u001b[0m\u001b[0m\n\u001b[1;32m   1456\u001b[0m         \u001b[0;32mfor\u001b[0m \u001b[0mi\u001b[0m\u001b[0;34m,\u001b[0m \u001b[0mj\u001b[0m \u001b[0;32min\u001b[0m \u001b[0miterator\u001b[0m\u001b[0;34m:\u001b[0m\u001b[0;34m\u001b[0m\u001b[0;34m\u001b[0m\u001b[0m\n\u001b[0;32m-> 1457\u001b[0;31m             \u001b[0mout\u001b[0m\u001b[0;34m[\u001b[0m\u001b[0mi\u001b[0m\u001b[0;34m,\u001b[0m \u001b[0mj\u001b[0m\u001b[0;34m]\u001b[0m \u001b[0;34m=\u001b[0m \u001b[0mmetric\u001b[0m\u001b[0;34m(\u001b[0m\u001b[0mX\u001b[0m\u001b[0;34m[\u001b[0m\u001b[0mi\u001b[0m\u001b[0;34m]\u001b[0m\u001b[0;34m,\u001b[0m \u001b[0mY\u001b[0m\u001b[0;34m[\u001b[0m\u001b[0mj\u001b[0m\u001b[0;34m]\u001b[0m\u001b[0;34m,\u001b[0m \u001b[0;34m**\u001b[0m\u001b[0mkwds\u001b[0m\u001b[0;34m)\u001b[0m\u001b[0;34m\u001b[0m\u001b[0;34m\u001b[0m\u001b[0m\n\u001b[0m\u001b[1;32m   1458\u001b[0m \u001b[0;34m\u001b[0m\u001b[0m\n\u001b[1;32m   1459\u001b[0m         \u001b[0;31m# Make symmetric\u001b[0m\u001b[0;34m\u001b[0m\u001b[0;34m\u001b[0m\u001b[0;34m\u001b[0m\u001b[0m\n",
            "\u001b[0;32m<ipython-input-19-016c4825e8e4>\u001b[0m in \u001b[0;36mFCHL_Nystroem_Kernel\u001b[0;34m(molecule_1, molecule_2)\u001b[0m\n\u001b[1;32m      1\u001b[0m \u001b[0;32mdef\u001b[0m \u001b[0mFCHL_Nystroem_Kernel\u001b[0m\u001b[0;34m(\u001b[0m\u001b[0mmolecule_1\u001b[0m\u001b[0;34m,\u001b[0m \u001b[0mmolecule_2\u001b[0m\u001b[0;34m)\u001b[0m\u001b[0;34m:\u001b[0m\u001b[0;34m\u001b[0m\u001b[0;34m\u001b[0m\u001b[0m\n\u001b[1;32m      2\u001b[0m \u001b[0;34m\u001b[0m\u001b[0m\n\u001b[0;32m----> 3\u001b[0;31m         \u001b[0mmolecule_1\u001b[0m \u001b[0;34m=\u001b[0m \u001b[0mmolecule_1\u001b[0m\u001b[0;34m.\u001b[0m\u001b[0mreshape\u001b[0m\u001b[0;34m(\u001b[0m\u001b[0;36m30\u001b[0m\u001b[0;34m,\u001b[0m \u001b[0;36m5\u001b[0m\u001b[0;34m,\u001b[0m \u001b[0;36m30\u001b[0m\u001b[0;34m)\u001b[0m\u001b[0;34m\u001b[0m\u001b[0;34m\u001b[0m\u001b[0m\n\u001b[0m\u001b[1;32m      4\u001b[0m         \u001b[0mmolecule_1\u001b[0m \u001b[0;34m=\u001b[0m \u001b[0mmolecule_1\u001b[0m\u001b[0;34m.\u001b[0m\u001b[0mreshape\u001b[0m\u001b[0;34m(\u001b[0m\u001b[0;36m1\u001b[0m\u001b[0;34m,\u001b[0m \u001b[0;36m30\u001b[0m\u001b[0;34m,\u001b[0m \u001b[0;36m5\u001b[0m\u001b[0;34m,\u001b[0m \u001b[0;36m30\u001b[0m\u001b[0;34m)\u001b[0m\u001b[0;34m\u001b[0m\u001b[0;34m\u001b[0m\u001b[0m\n\u001b[1;32m      5\u001b[0m \u001b[0;34m\u001b[0m\u001b[0m\n",
            "\u001b[0;31mValueError\u001b[0m: cannot reshape array of size 50 into shape (30,5,30)"
          ]
        }
      ]
    },
    {
      "cell_type": "code",
      "source": [
        "result.shape"
      ],
      "metadata": {
        "colab": {
          "base_uri": "https://localhost:8080/"
        },
        "id": "A6ssHwFUCf4a",
        "outputId": "7d11dfa4-9db0-4bf4-ecca-8f88dea42d78"
      },
      "execution_count": null,
      "outputs": [
        {
          "output_type": "execute_result",
          "data": {
            "text/plain": [
              "(100, 50)"
            ]
          },
          "metadata": {},
          "execution_count": 128
        }
      ]
    },
    {
      "cell_type": "code",
      "source": [
        "import sys"
      ],
      "metadata": {
        "id": "BemhN9xzTkXd"
      },
      "execution_count": null,
      "outputs": []
    },
    {
      "cell_type": "code",
      "source": [
        "np.set_printoptions(threshold=sys.maxsize)"
      ],
      "metadata": {
        "id": "2JTK3aJUTpcx"
      },
      "execution_count": null,
      "outputs": []
    },
    {
      "cell_type": "code",
      "source": [
        "first_element = all_elements_reshaped[0];"
      ],
      "metadata": {
        "id": "hiYk29V7akmy"
      },
      "execution_count": null,
      "outputs": []
    },
    {
      "cell_type": "code",
      "source": [
        "first_element.shape"
      ],
      "metadata": {
        "colab": {
          "base_uri": "https://localhost:8080/"
        },
        "id": "YdgwIEGegDLI",
        "outputId": "5d5718ef-c872-4903-e77a-35f7b3826746"
      },
      "execution_count": null,
      "outputs": [
        {
          "output_type": "execute_result",
          "data": {
            "text/plain": [
              "(4500,)"
            ]
          },
          "metadata": {},
          "execution_count": 111
        }
      ]
    },
    {
      "cell_type": "code",
      "source": [
        "first_element = first_element.reshape(30, 5, 30)"
      ],
      "metadata": {
        "id": "Kxowy6bba0Yf"
      },
      "execution_count": null,
      "outputs": []
    },
    {
      "cell_type": "code",
      "source": [
        "first_element = first_element.reshape(1, 30, 5, 30)"
      ],
      "metadata": {
        "id": "4Tivk27VhYlU"
      },
      "execution_count": null,
      "outputs": []
    },
    {
      "cell_type": "code",
      "source": [
        "first_element.shape"
      ],
      "metadata": {
        "colab": {
          "base_uri": "https://localhost:8080/"
        },
        "id": "4OUFujw0bQAe",
        "outputId": "3f32ffc8-d235-438a-e5d4-27dc43f7758e"
      },
      "execution_count": null,
      "outputs": [
        {
          "output_type": "execute_result",
          "data": {
            "text/plain": [
              "(1, 30, 5, 30)"
            ]
          },
          "metadata": {},
          "execution_count": 114
        }
      ]
    },
    {
      "cell_type": "code",
      "source": [
        "second_element = all_elements_reshaped[1];"
      ],
      "metadata": {
        "id": "Ro52K93MapA5"
      },
      "execution_count": null,
      "outputs": []
    },
    {
      "cell_type": "code",
      "source": [
        "second_element.shape"
      ],
      "metadata": {
        "colab": {
          "base_uri": "https://localhost:8080/"
        },
        "id": "TuP8wkFBUviX",
        "outputId": "68de1ca9-cf60-4377-b571-26452114d0aa"
      },
      "execution_count": null,
      "outputs": [
        {
          "output_type": "execute_result",
          "data": {
            "text/plain": [
              "(4500,)"
            ]
          },
          "metadata": {},
          "execution_count": 116
        }
      ]
    },
    {
      "cell_type": "code",
      "source": [
        "second_element = second_element.reshape(30, 5, 30)"
      ],
      "metadata": {
        "id": "KqhmlK_ghb4q"
      },
      "execution_count": null,
      "outputs": []
    },
    {
      "cell_type": "code",
      "source": [
        "second_element = second_element.reshape(1, 30, 5, 30)"
      ],
      "metadata": {
        "id": "nYHStysKbGOX"
      },
      "execution_count": null,
      "outputs": []
    },
    {
      "cell_type": "code",
      "source": [
        "F = get_local_kernels(first_element, second_element)"
      ],
      "metadata": {
        "id": "Tyea_5G7K_-s"
      },
      "execution_count": null,
      "outputs": []
    },
    {
      "cell_type": "code",
      "source": [
        "F[0][0][0]"
      ],
      "metadata": {
        "colab": {
          "base_uri": "https://localhost:8080/"
        },
        "id": "azm5HE_fAecl",
        "outputId": "cae3af25-b8b2-4c53-b24c-4e73cb294a69"
      },
      "execution_count": null,
      "outputs": [
        {
          "output_type": "execute_result",
          "data": {
            "text/plain": [
              "250.72707594839096"
            ]
          },
          "metadata": {},
          "execution_count": 123
        }
      ]
    },
    {
      "cell_type": "code",
      "source": [
        "L = get_local_kernels(first_element, first_element)"
      ],
      "metadata": {
        "id": "gj971NE5-YuQ"
      },
      "execution_count": null,
      "outputs": []
    },
    {
      "cell_type": "code",
      "source": [
        "K = get_local_kernels(np.asarray(data.head(1)['fchl_rep'].tolist()), np.asarray(data.tail(1)['fchl_rep'].tolist()))"
      ],
      "metadata": {
        "id": "W2GcvKHOcpce"
      },
      "execution_count": null,
      "outputs": []
    },
    {
      "cell_type": "code",
      "source": [
        "exp = get_local_kernels(np.asarray(data.head(1)['fchl_rep'].tolist()), np.asarray(data.head(1)['fchl_rep'].tolist()))"
      ],
      "metadata": {
        "id": "b_WzawxUUPIo"
      },
      "execution_count": null,
      "outputs": []
    },
    {
      "cell_type": "code",
      "source": [
        "exp"
      ],
      "metadata": {
        "colab": {
          "base_uri": "https://localhost:8080/"
        },
        "id": "_yqC5ERnUSsu",
        "outputId": "57f20ab5-bda8-4101-d6ef-92b928834e31"
      },
      "execution_count": null,
      "outputs": [
        {
          "output_type": "execute_result",
          "data": {
            "text/plain": [
              "array([[[408.41627189]]])"
            ]
          },
          "metadata": {},
          "execution_count": 51
        }
      ]
    },
    {
      "cell_type": "code",
      "source": [
        "F"
      ],
      "metadata": {
        "colab": {
          "base_uri": "https://localhost:8080/"
        },
        "id": "5NyHOl9V-ysb",
        "outputId": "10477dd4-d207-43b0-e379-5f87768eeda4"
      },
      "execution_count": null,
      "outputs": [
        {
          "output_type": "execute_result",
          "data": {
            "text/plain": [
              "array([[[300.32090434]]])"
            ]
          },
          "metadata": {},
          "execution_count": 340
        }
      ]
    },
    {
      "cell_type": "code",
      "source": [
        "L"
      ],
      "metadata": {
        "colab": {
          "base_uri": "https://localhost:8080/"
        },
        "id": "Qg1R5JXr-zsa",
        "outputId": "797605b0-7e1c-4dde-db1d-0bd58c94d774"
      },
      "execution_count": null,
      "outputs": [
        {
          "output_type": "execute_result",
          "data": {
            "text/plain": [
              "array([[[350.16324304]]])"
            ]
          },
          "metadata": {},
          "execution_count": 341
        }
      ]
    },
    {
      "cell_type": "code",
      "source": [
        "K"
      ],
      "metadata": {
        "colab": {
          "base_uri": "https://localhost:8080/"
        },
        "id": "bdsNw_Re-0Sr",
        "outputId": "7213ba70-05f9-437a-d6a1-a665b1cd0e50"
      },
      "execution_count": null,
      "outputs": [
        {
          "output_type": "execute_result",
          "data": {
            "text/plain": [
              "array([[[300.32090434]]])"
            ]
          },
          "metadata": {},
          "execution_count": 342
        }
      ]
    },
    {
      "cell_type": "code",
      "source": [
        "np.array_equal(np.asarray(data.head(1)['fchl_rep'].tolist()), first_element)"
      ],
      "metadata": {
        "colab": {
          "base_uri": "https://localhost:8080/"
        },
        "id": "U7DMQGGdm_de",
        "outputId": "79c4990b-d494-4118-ec08-9abe9f11e7e4"
      },
      "execution_count": null,
      "outputs": [
        {
          "output_type": "execute_result",
          "data": {
            "text/plain": [
              "True"
            ]
          },
          "metadata": {},
          "execution_count": 332
        }
      ]
    },
    {
      "cell_type": "code",
      "source": [
        "np.array_equal(np.asarray(data.tail(1)['fchl_rep'].tolist()), second_element)"
      ],
      "metadata": {
        "colab": {
          "base_uri": "https://localhost:8080/"
        },
        "id": "x8setFxNnW3n",
        "outputId": "e26f6177-ff4f-4dca-fe4a-f2fcdbb2e510"
      },
      "execution_count": null,
      "outputs": [
        {
          "output_type": "execute_result",
          "data": {
            "text/plain": [
              "True"
            ]
          },
          "metadata": {},
          "execution_count": 333
        }
      ]
    },
    {
      "cell_type": "code",
      "source": [
        "K.shape"
      ],
      "metadata": {
        "colab": {
          "base_uri": "https://localhost:8080/"
        },
        "id": "dVtnpJF4RvTY",
        "outputId": "837c9e09-8dea-48a1-e648-89eacf997154"
      },
      "execution_count": null,
      "outputs": [
        {
          "output_type": "execute_result",
          "data": {
            "text/plain": [
              "(1, 1, 1)"
            ]
          },
          "metadata": {},
          "execution_count": 334
        }
      ]
    },
    {
      "cell_type": "code",
      "source": [
        "K"
      ],
      "metadata": {
        "colab": {
          "base_uri": "https://localhost:8080/"
        },
        "id": "wrrQ1p4IRyrl",
        "outputId": "6f5c4e9d-cf8d-475c-c2e9-815877a8b4b8"
      },
      "execution_count": null,
      "outputs": [
        {
          "output_type": "execute_result",
          "data": {
            "text/plain": [
              "array([[[300.32090434]]])"
            ]
          },
          "metadata": {},
          "execution_count": 335
        }
      ]
    },
    {
      "cell_type": "code",
      "source": [
        "F.shape"
      ],
      "metadata": {
        "colab": {
          "base_uri": "https://localhost:8080/"
        },
        "id": "E3NoYZqmgKF2",
        "outputId": "626d2bd4-52ce-40f2-d86a-21441a2e784a"
      },
      "execution_count": null,
      "outputs": [
        {
          "output_type": "execute_result",
          "data": {
            "text/plain": [
              "(1, 1, 1)"
            ]
          },
          "metadata": {},
          "execution_count": 336
        }
      ]
    },
    {
      "cell_type": "code",
      "source": [
        "F"
      ],
      "metadata": {
        "colab": {
          "base_uri": "https://localhost:8080/"
        },
        "id": "w3TCmlbzgyzk",
        "outputId": "6b207edf-f04b-487a-8f09-50e5d44ce723"
      },
      "execution_count": null,
      "outputs": [
        {
          "output_type": "execute_result",
          "data": {
            "text/plain": [
              "array([[[300.32090434]]])"
            ]
          },
          "metadata": {},
          "execution_count": 337
        }
      ]
    },
    {
      "cell_type": "code",
      "source": [
        "all_elements.shape"
      ],
      "metadata": {
        "colab": {
          "base_uri": "https://localhost:8080/"
        },
        "id": "eMCE9zUdXGrX",
        "outputId": "6ccbe4ed-07cd-4e62-8f33-c81b8331e538"
      },
      "execution_count": null,
      "outputs": [
        {
          "output_type": "execute_result",
          "data": {
            "text/plain": [
              "(2000, 30, 5, 30)"
            ]
          },
          "metadata": {},
          "execution_count": 338
        }
      ]
    },
    {
      "cell_type": "code",
      "source": [
        "reshaped_array = all_elements.reshape(-1, 30 * 5 * 30);"
      ],
      "metadata": {
        "id": "WrPNZnGbXSaK"
      },
      "execution_count": null,
      "outputs": []
    },
    {
      "cell_type": "code",
      "source": [
        "reshaped_array.shape"
      ],
      "metadata": {
        "colab": {
          "base_uri": "https://localhost:8080/"
        },
        "id": "8t_EA0sfXdhq",
        "outputId": "29b54a0a-19e4-4374-aa95-ba8192e034b7"
      },
      "execution_count": null,
      "outputs": [
        {
          "output_type": "execute_result",
          "data": {
            "text/plain": [
              "(2000, 4500)"
            ]
          },
          "metadata": {},
          "execution_count": 12
        }
      ]
    },
    {
      "cell_type": "code",
      "source": [
        ""
      ],
      "metadata": {
        "id": "pyjv8AMdXi1A"
      },
      "execution_count": null,
      "outputs": []
    },
    {
      "cell_type": "markdown",
      "source": [
        "This class provides a method for fitting the FCHL kernel, which captures the points used as training entries"
      ],
      "metadata": {
        "id": "tuXOHzVVs8l8"
      }
    },
    {
      "cell_type": "markdown",
      "source": [
        "It can then compute the kernel matrix for new molecules on demand"
      ],
      "metadata": {
        "id": "AauU0EQIs8mA"
      }
    },
    {
      "cell_type": "code",
      "source": [
        "%%time\n",
        "k = fchl_kernel.transform(data['fchl_rep'].tolist())\n",
        "print(f'Computed feature matrix of shape: {k.shape}')"
      ],
      "metadata": {
        "execution": {
          "iopub.execute_input": "2021-01-25T13:59:24.444539Z",
          "iopub.status.busy": "2021-01-25T13:59:24.443758Z",
          "iopub.status.idle": "2021-01-25T13:59:33.714973Z",
          "shell.execute_reply": "2021-01-25T13:59:33.714331Z"
        },
        "id": "UOMKWrnps8mA",
        "outputId": "eb8a46c0-4f0f-446e-912f-462050370537"
      },
      "execution_count": null,
      "outputs": [
        {
          "name": "stdout",
          "output_type": "stream",
          "text": "Computed feature matrix of shape: (2000, 3)\nCPU times: user 22.9 s, sys: 81 ms, total: 23 s\nWall time: 9.27 s\n"
        }
      ]
    },
    {
      "cell_type": "markdown",
      "source": [
        "Now, we build a [`Pipeline`](https://scikit-learn.org/stable/modules/generated/sklearn.pipeline.Pipeline.html) object to streamline fitting the KRR model.\n",
        "The Pipeline will automatically pipe the kernel matrix computed from the FCHL kernel as inputs into the KRR model"
      ],
      "metadata": {
        "id": "bgHFNbzYs8mB"
      }
    },
    {
      "cell_type": "code",
      "source": [
        "model = Pipeline([\n",
        "    ('kernel', ny),\n",
        "    ('krr', KernelRidge(kernel='precomputed'))\n",
        "])"
      ],
      "metadata": {
        "tags": [],
        "trusted": true,
        "id": "5s7Bhu9Fs8mB"
      },
      "execution_count": null,
      "outputs": []
    },
    {
      "cell_type": "markdown",
      "source": [
        "Here, we demonstrate fitting it to a small subset of the training data"
      ],
      "metadata": {
        "id": "Mv1Tz3r6s8mC"
      }
    },
    {
      "cell_type": "code",
      "source": [
        "train_data = np.asarray(data.tail(100)['fchl_rep'].tolist())"
      ],
      "metadata": {
        "id": "Ade3MB2JLH94"
      },
      "execution_count": 10,
      "outputs": []
    },
    {
      "cell_type": "code",
      "source": [
        "train_data_reshaped = train_data.reshape(100, 30 * 5 * 30)"
      ],
      "metadata": {
        "id": "DW7j9JFAK5sL"
      },
      "execution_count": 11,
      "outputs": []
    },
    {
      "cell_type": "code",
      "source": [
        "result = ny.fit_transform(train_data_reshaped, data.tail(100)['u0_atom'].tolist())"
      ],
      "metadata": {
        "id": "fZhw0lETeTQv"
      },
      "execution_count": null,
      "outputs": []
    },
    {
      "cell_type": "code",
      "source": [
        "krr.fit(result, data.tail(100)['u0_atom'].tolist())"
      ],
      "metadata": {
        "colab": {
          "base_uri": "https://localhost:8080/",
          "height": 380
        },
        "id": "cRUmoGOPexU1",
        "outputId": "108645df-76aa-4850-ac37-a22a3026a43f"
      },
      "execution_count": 15,
      "outputs": [
        {
          "output_type": "error",
          "ename": "ValueError",
          "evalue": "ignored",
          "traceback": [
            "\u001b[0;31m---------------------------------------------------------------------------\u001b[0m",
            "\u001b[0;31mValueError\u001b[0m                                Traceback (most recent call last)",
            "\u001b[0;32m<ipython-input-15-472d205cff6b>\u001b[0m in \u001b[0;36m<module>\u001b[0;34m()\u001b[0m\n\u001b[0;32m----> 1\u001b[0;31m \u001b[0mkrr\u001b[0m\u001b[0;34m.\u001b[0m\u001b[0mfit\u001b[0m\u001b[0;34m(\u001b[0m\u001b[0mresult\u001b[0m\u001b[0;34m,\u001b[0m \u001b[0mdata\u001b[0m\u001b[0;34m.\u001b[0m\u001b[0mtail\u001b[0m\u001b[0;34m(\u001b[0m\u001b[0;36m100\u001b[0m\u001b[0;34m)\u001b[0m\u001b[0;34m[\u001b[0m\u001b[0;34m'u0_atom'\u001b[0m\u001b[0;34m]\u001b[0m\u001b[0;34m.\u001b[0m\u001b[0mtolist\u001b[0m\u001b[0;34m(\u001b[0m\u001b[0;34m)\u001b[0m\u001b[0;34m)\u001b[0m\u001b[0;34m\u001b[0m\u001b[0;34m\u001b[0m\u001b[0m\n\u001b[0m",
            "\u001b[0;32m/usr/local/lib/python3.7/dist-packages/sklearn/kernel_ridge.py\u001b[0m in \u001b[0;36mfit\u001b[0;34m(self, X, y, sample_weight)\u001b[0m\n\u001b[1;32m    190\u001b[0m         \u001b[0;31m# Convert data\u001b[0m\u001b[0;34m\u001b[0m\u001b[0;34m\u001b[0m\u001b[0;34m\u001b[0m\u001b[0m\n\u001b[1;32m    191\u001b[0m         X, y = self._validate_data(\n\u001b[0;32m--> 192\u001b[0;31m             \u001b[0mX\u001b[0m\u001b[0;34m,\u001b[0m \u001b[0my\u001b[0m\u001b[0;34m,\u001b[0m \u001b[0maccept_sparse\u001b[0m\u001b[0;34m=\u001b[0m\u001b[0;34m(\u001b[0m\u001b[0;34m\"csr\"\u001b[0m\u001b[0;34m,\u001b[0m \u001b[0;34m\"csc\"\u001b[0m\u001b[0;34m)\u001b[0m\u001b[0;34m,\u001b[0m \u001b[0mmulti_output\u001b[0m\u001b[0;34m=\u001b[0m\u001b[0;32mTrue\u001b[0m\u001b[0;34m,\u001b[0m \u001b[0my_numeric\u001b[0m\u001b[0;34m=\u001b[0m\u001b[0;32mTrue\u001b[0m\u001b[0;34m\u001b[0m\u001b[0;34m\u001b[0m\u001b[0m\n\u001b[0m\u001b[1;32m    193\u001b[0m         )\n\u001b[1;32m    194\u001b[0m         \u001b[0;32mif\u001b[0m \u001b[0msample_weight\u001b[0m \u001b[0;32mis\u001b[0m \u001b[0;32mnot\u001b[0m \u001b[0;32mNone\u001b[0m \u001b[0;32mand\u001b[0m \u001b[0;32mnot\u001b[0m \u001b[0misinstance\u001b[0m\u001b[0;34m(\u001b[0m\u001b[0msample_weight\u001b[0m\u001b[0;34m,\u001b[0m \u001b[0mfloat\u001b[0m\u001b[0;34m)\u001b[0m\u001b[0;34m:\u001b[0m\u001b[0;34m\u001b[0m\u001b[0;34m\u001b[0m\u001b[0m\n",
            "\u001b[0;32m/usr/local/lib/python3.7/dist-packages/sklearn/base.py\u001b[0m in \u001b[0;36m_validate_data\u001b[0;34m(self, X, y, reset, validate_separately, **check_params)\u001b[0m\n\u001b[1;32m    579\u001b[0m                 \u001b[0my\u001b[0m \u001b[0;34m=\u001b[0m \u001b[0mcheck_array\u001b[0m\u001b[0;34m(\u001b[0m\u001b[0my\u001b[0m\u001b[0;34m,\u001b[0m \u001b[0;34m**\u001b[0m\u001b[0mcheck_y_params\u001b[0m\u001b[0;34m)\u001b[0m\u001b[0;34m\u001b[0m\u001b[0;34m\u001b[0m\u001b[0m\n\u001b[1;32m    580\u001b[0m             \u001b[0;32melse\u001b[0m\u001b[0;34m:\u001b[0m\u001b[0;34m\u001b[0m\u001b[0;34m\u001b[0m\u001b[0m\n\u001b[0;32m--> 581\u001b[0;31m                 \u001b[0mX\u001b[0m\u001b[0;34m,\u001b[0m \u001b[0my\u001b[0m \u001b[0;34m=\u001b[0m \u001b[0mcheck_X_y\u001b[0m\u001b[0;34m(\u001b[0m\u001b[0mX\u001b[0m\u001b[0;34m,\u001b[0m \u001b[0my\u001b[0m\u001b[0;34m,\u001b[0m \u001b[0;34m**\u001b[0m\u001b[0mcheck_params\u001b[0m\u001b[0;34m)\u001b[0m\u001b[0;34m\u001b[0m\u001b[0;34m\u001b[0m\u001b[0m\n\u001b[0m\u001b[1;32m    582\u001b[0m             \u001b[0mout\u001b[0m \u001b[0;34m=\u001b[0m \u001b[0mX\u001b[0m\u001b[0;34m,\u001b[0m \u001b[0my\u001b[0m\u001b[0;34m\u001b[0m\u001b[0;34m\u001b[0m\u001b[0m\n\u001b[1;32m    583\u001b[0m \u001b[0;34m\u001b[0m\u001b[0m\n",
            "\u001b[0;32m/usr/local/lib/python3.7/dist-packages/sklearn/utils/validation.py\u001b[0m in \u001b[0;36mcheck_X_y\u001b[0;34m(X, y, accept_sparse, accept_large_sparse, dtype, order, copy, force_all_finite, ensure_2d, allow_nd, multi_output, ensure_min_samples, ensure_min_features, y_numeric, estimator)\u001b[0m\n\u001b[1;32m    974\u001b[0m         \u001b[0mensure_min_samples\u001b[0m\u001b[0;34m=\u001b[0m\u001b[0mensure_min_samples\u001b[0m\u001b[0;34m,\u001b[0m\u001b[0;34m\u001b[0m\u001b[0;34m\u001b[0m\u001b[0m\n\u001b[1;32m    975\u001b[0m         \u001b[0mensure_min_features\u001b[0m\u001b[0;34m=\u001b[0m\u001b[0mensure_min_features\u001b[0m\u001b[0;34m,\u001b[0m\u001b[0;34m\u001b[0m\u001b[0;34m\u001b[0m\u001b[0m\n\u001b[0;32m--> 976\u001b[0;31m         \u001b[0mestimator\u001b[0m\u001b[0;34m=\u001b[0m\u001b[0mestimator\u001b[0m\u001b[0;34m,\u001b[0m\u001b[0;34m\u001b[0m\u001b[0;34m\u001b[0m\u001b[0m\n\u001b[0m\u001b[1;32m    977\u001b[0m     )\n\u001b[1;32m    978\u001b[0m \u001b[0;34m\u001b[0m\u001b[0m\n",
            "\u001b[0;32m/usr/local/lib/python3.7/dist-packages/sklearn/utils/validation.py\u001b[0m in \u001b[0;36mcheck_array\u001b[0;34m(array, accept_sparse, accept_large_sparse, dtype, order, copy, force_all_finite, ensure_2d, allow_nd, ensure_min_samples, ensure_min_features, estimator)\u001b[0m\n\u001b[1;32m    763\u001b[0m                     \u001b[0;34m\"Reshape your data either using array.reshape(-1, 1) if \"\u001b[0m\u001b[0;34m\u001b[0m\u001b[0;34m\u001b[0m\u001b[0m\n\u001b[1;32m    764\u001b[0m                     \u001b[0;34m\"your data has a single feature or array.reshape(1, -1) \"\u001b[0m\u001b[0;34m\u001b[0m\u001b[0;34m\u001b[0m\u001b[0m\n\u001b[0;32m--> 765\u001b[0;31m                     \u001b[0;34m\"if it contains a single sample.\"\u001b[0m\u001b[0;34m.\u001b[0m\u001b[0mformat\u001b[0m\u001b[0;34m(\u001b[0m\u001b[0marray\u001b[0m\u001b[0;34m)\u001b[0m\u001b[0;34m\u001b[0m\u001b[0;34m\u001b[0m\u001b[0m\n\u001b[0m\u001b[1;32m    766\u001b[0m                 )\n\u001b[1;32m    767\u001b[0m             \u001b[0;31m# If input is 1D raise error\u001b[0m\u001b[0;34m\u001b[0m\u001b[0;34m\u001b[0m\u001b[0;34m\u001b[0m\u001b[0m\n",
            "\u001b[0;31mValueError\u001b[0m: Expected 2D array, got scalar array instead:\narray=Nystroem(kernel=<function FCHL_Nystroem_Kernel at 0x7efbdd552200>,\n         n_components=50, random_state=1).\nReshape your data either using array.reshape(-1, 1) if your data has a single feature or array.reshape(1, -1) if it contains a single sample."
          ]
        }
      ]
    },
    {
      "cell_type": "code",
      "source": [
        "%%time\n",
        "model.fit(train_data_reshaped, data.tail(50)['u0_atom'].tolist())"
      ],
      "metadata": {
        "tags": [],
        "trusted": true,
        "id": "qy6j1p33s8mC"
      },
      "execution_count": null,
      "outputs": []
    },
    {
      "cell_type": "markdown",
      "source": [
        "Note that we can compute the kernel matrix and fit the KRR model in one step.\n",
        "\n",
        "Evaluating the model across the entire training set is also simple"
      ],
      "metadata": {
        "id": "2fgH6d6Ps8mD"
      }
    },
    {
      "cell_type": "code",
      "source": [
        "%%time\n",
        "data['u0_atom_pred'] = model.predict(data['fchl_rep'].tolist())"
      ],
      "metadata": {
        "tags": [],
        "trusted": true,
        "id": "dlX97bews8mE"
      },
      "execution_count": null,
      "outputs": []
    },
    {
      "cell_type": "code",
      "source": [
        "mae = mean_absolute_error(data['u0_atom'], data['u0_atom_pred'])\n",
        "print(f'MAE = {mae:.4f} Ha = {mae*627.50947406:.2f} kcal/mol')"
      ],
      "metadata": {
        "tags": [],
        "trusted": true,
        "id": "tOzI0Gnjs8mE",
        "outputId": "b8ee7142-f89a-43bc-c02c-8c4a11060686"
      },
      "execution_count": null,
      "outputs": [
        {
          "traceback": [
            "\u001b[0;31m---------------------------------------------------------------------------\u001b[0m",
            "\u001b[0;31mKeyError\u001b[0m                                  Traceback (most recent call last)",
            "\u001b[0;32m/srv/conda/envs/notebook/lib/python3.7/site-packages/pandas/core/indexes/base.py\u001b[0m in \u001b[0;36mget_loc\u001b[0;34m(self, key, method, tolerance)\u001b[0m\n\u001b[1;32m   3360\u001b[0m             \u001b[0;32mtry\u001b[0m\u001b[0;34m:\u001b[0m\u001b[0;34m\u001b[0m\u001b[0;34m\u001b[0m\u001b[0m\n\u001b[0;32m-> 3361\u001b[0;31m                 \u001b[0;32mreturn\u001b[0m \u001b[0mself\u001b[0m\u001b[0;34m.\u001b[0m\u001b[0m_engine\u001b[0m\u001b[0;34m.\u001b[0m\u001b[0mget_loc\u001b[0m\u001b[0;34m(\u001b[0m\u001b[0mcasted_key\u001b[0m\u001b[0;34m)\u001b[0m\u001b[0;34m\u001b[0m\u001b[0;34m\u001b[0m\u001b[0m\n\u001b[0m\u001b[1;32m   3362\u001b[0m             \u001b[0;32mexcept\u001b[0m \u001b[0mKeyError\u001b[0m \u001b[0;32mas\u001b[0m \u001b[0merr\u001b[0m\u001b[0;34m:\u001b[0m\u001b[0;34m\u001b[0m\u001b[0;34m\u001b[0m\u001b[0m\n",
            "\u001b[0;32m/srv/conda/envs/notebook/lib/python3.7/site-packages/pandas/_libs/index.pyx\u001b[0m in \u001b[0;36mpandas._libs.index.IndexEngine.get_loc\u001b[0;34m()\u001b[0m\n",
            "\u001b[0;32m/srv/conda/envs/notebook/lib/python3.7/site-packages/pandas/_libs/index.pyx\u001b[0m in \u001b[0;36mpandas._libs.index.IndexEngine.get_loc\u001b[0;34m()\u001b[0m\n",
            "\u001b[0;32mpandas/_libs/hashtable_class_helper.pxi\u001b[0m in \u001b[0;36mpandas._libs.hashtable.PyObjectHashTable.get_item\u001b[0;34m()\u001b[0m\n",
            "\u001b[0;32mpandas/_libs/hashtable_class_helper.pxi\u001b[0m in \u001b[0;36mpandas._libs.hashtable.PyObjectHashTable.get_item\u001b[0;34m()\u001b[0m\n",
            "\u001b[0;31mKeyError\u001b[0m: 'u0_atom_pred'",
            "\nThe above exception was the direct cause of the following exception:\n",
            "\u001b[0;31mKeyError\u001b[0m                                  Traceback (most recent call last)",
            "\u001b[0;32m/tmp/ipykernel_165/2721725404.py\u001b[0m in \u001b[0;36m<module>\u001b[0;34m\u001b[0m\n\u001b[0;32m----> 1\u001b[0;31m \u001b[0mmae\u001b[0m \u001b[0;34m=\u001b[0m \u001b[0mmean_absolute_error\u001b[0m\u001b[0;34m(\u001b[0m\u001b[0mdata\u001b[0m\u001b[0;34m[\u001b[0m\u001b[0;34m'u0_atom'\u001b[0m\u001b[0;34m]\u001b[0m\u001b[0;34m,\u001b[0m \u001b[0mdata\u001b[0m\u001b[0;34m[\u001b[0m\u001b[0;34m'u0_atom_pred'\u001b[0m\u001b[0;34m]\u001b[0m\u001b[0;34m)\u001b[0m\u001b[0;34m\u001b[0m\u001b[0;34m\u001b[0m\u001b[0m\n\u001b[0m\u001b[1;32m      2\u001b[0m \u001b[0mprint\u001b[0m\u001b[0;34m(\u001b[0m\u001b[0;34mf'MAE = {mae:.4f} Ha = {mae*627.50947406:.2f} kcal/mol'\u001b[0m\u001b[0;34m)\u001b[0m\u001b[0;34m\u001b[0m\u001b[0;34m\u001b[0m\u001b[0m\n",
            "\u001b[0;32m/srv/conda/envs/notebook/lib/python3.7/site-packages/pandas/core/frame.py\u001b[0m in \u001b[0;36m__getitem__\u001b[0;34m(self, key)\u001b[0m\n\u001b[1;32m   3456\u001b[0m             \u001b[0;32mif\u001b[0m \u001b[0mself\u001b[0m\u001b[0;34m.\u001b[0m\u001b[0mcolumns\u001b[0m\u001b[0;34m.\u001b[0m\u001b[0mnlevels\u001b[0m \u001b[0;34m>\u001b[0m \u001b[0;36m1\u001b[0m\u001b[0;34m:\u001b[0m\u001b[0;34m\u001b[0m\u001b[0;34m\u001b[0m\u001b[0m\n\u001b[1;32m   3457\u001b[0m                 \u001b[0;32mreturn\u001b[0m \u001b[0mself\u001b[0m\u001b[0;34m.\u001b[0m\u001b[0m_getitem_multilevel\u001b[0m\u001b[0;34m(\u001b[0m\u001b[0mkey\u001b[0m\u001b[0;34m)\u001b[0m\u001b[0;34m\u001b[0m\u001b[0;34m\u001b[0m\u001b[0m\n\u001b[0;32m-> 3458\u001b[0;31m             \u001b[0mindexer\u001b[0m \u001b[0;34m=\u001b[0m \u001b[0mself\u001b[0m\u001b[0;34m.\u001b[0m\u001b[0mcolumns\u001b[0m\u001b[0;34m.\u001b[0m\u001b[0mget_loc\u001b[0m\u001b[0;34m(\u001b[0m\u001b[0mkey\u001b[0m\u001b[0;34m)\u001b[0m\u001b[0;34m\u001b[0m\u001b[0;34m\u001b[0m\u001b[0m\n\u001b[0m\u001b[1;32m   3459\u001b[0m             \u001b[0;32mif\u001b[0m \u001b[0mis_integer\u001b[0m\u001b[0;34m(\u001b[0m\u001b[0mindexer\u001b[0m\u001b[0;34m)\u001b[0m\u001b[0;34m:\u001b[0m\u001b[0;34m\u001b[0m\u001b[0;34m\u001b[0m\u001b[0m\n\u001b[1;32m   3460\u001b[0m                 \u001b[0mindexer\u001b[0m \u001b[0;34m=\u001b[0m \u001b[0;34m[\u001b[0m\u001b[0mindexer\u001b[0m\u001b[0;34m]\u001b[0m\u001b[0;34m\u001b[0m\u001b[0;34m\u001b[0m\u001b[0m\n",
            "\u001b[0;32m/srv/conda/envs/notebook/lib/python3.7/site-packages/pandas/core/indexes/base.py\u001b[0m in \u001b[0;36mget_loc\u001b[0;34m(self, key, method, tolerance)\u001b[0m\n\u001b[1;32m   3361\u001b[0m                 \u001b[0;32mreturn\u001b[0m \u001b[0mself\u001b[0m\u001b[0;34m.\u001b[0m\u001b[0m_engine\u001b[0m\u001b[0;34m.\u001b[0m\u001b[0mget_loc\u001b[0m\u001b[0;34m(\u001b[0m\u001b[0mcasted_key\u001b[0m\u001b[0;34m)\u001b[0m\u001b[0;34m\u001b[0m\u001b[0;34m\u001b[0m\u001b[0m\n\u001b[1;32m   3362\u001b[0m             \u001b[0;32mexcept\u001b[0m \u001b[0mKeyError\u001b[0m \u001b[0;32mas\u001b[0m \u001b[0merr\u001b[0m\u001b[0;34m:\u001b[0m\u001b[0;34m\u001b[0m\u001b[0;34m\u001b[0m\u001b[0m\n\u001b[0;32m-> 3363\u001b[0;31m                 \u001b[0;32mraise\u001b[0m \u001b[0mKeyError\u001b[0m\u001b[0;34m(\u001b[0m\u001b[0mkey\u001b[0m\u001b[0;34m)\u001b[0m \u001b[0;32mfrom\u001b[0m \u001b[0merr\u001b[0m\u001b[0;34m\u001b[0m\u001b[0;34m\u001b[0m\u001b[0m\n\u001b[0m\u001b[1;32m   3364\u001b[0m \u001b[0;34m\u001b[0m\u001b[0m\n\u001b[1;32m   3365\u001b[0m         \u001b[0;32mif\u001b[0m \u001b[0mis_scalar\u001b[0m\u001b[0;34m(\u001b[0m\u001b[0mkey\u001b[0m\u001b[0;34m)\u001b[0m \u001b[0;32mand\u001b[0m \u001b[0misna\u001b[0m\u001b[0;34m(\u001b[0m\u001b[0mkey\u001b[0m\u001b[0;34m)\u001b[0m \u001b[0;32mand\u001b[0m \u001b[0;32mnot\u001b[0m \u001b[0mself\u001b[0m\u001b[0;34m.\u001b[0m\u001b[0mhasnans\u001b[0m\u001b[0;34m:\u001b[0m\u001b[0;34m\u001b[0m\u001b[0;34m\u001b[0m\u001b[0m\n",
            "\u001b[0;31mKeyError\u001b[0m: 'u0_atom_pred'"
          ],
          "ename": "KeyError",
          "evalue": "'u0_atom_pred'",
          "output_type": "error"
        }
      ]
    },
    {
      "cell_type": "markdown",
      "source": [
        "We acheive an error of ~20 kcal/mol with only 100 training points. Not bad!"
      ],
      "metadata": {
        "id": "E08GnX00s8mF"
      }
    },
    {
      "cell_type": "code",
      "source": [
        "fig, ax = plt.subplots(figsize=(3.5, 3.5))\n",
        "\n",
        "# Plot the actual vs predicted\n",
        "ax.scatter(data['u0_atom'], data['u0_atom_pred'], s=10)\n",
        "\n",
        "# Place a y=x line on the graph. We fix\n",
        "#  the x and y limits first so that they do not\n",
        "#  re-adjust to create more whitespace after \n",
        "#  adding the new line\n",
        "ax.set_xlim(ax.get_xlim())\n",
        "ax.set_ylim(ax.get_xlim())\n",
        "ax.plot(ax.get_xlim(), ax.get_xlim(), 'k--')\n",
        "\n",
        "ax.set_xlabel('$E_{atom}$, DFT (Ha)')\n",
        "ax.set_ylabel('$E_{atom}$, ML (Ha)')\n",
        "fig.tight_layout()"
      ],
      "metadata": {
        "execution": {
          "iopub.execute_input": "2021-01-25T14:02:39.489599Z",
          "iopub.status.busy": "2021-01-25T14:02:39.485777Z",
          "iopub.status.idle": "2021-01-25T14:02:39.635257Z",
          "shell.execute_reply": "2021-01-25T14:02:39.634812Z"
        },
        "id": "CECi3TtDs8mF",
        "outputId": "00da4576-ba75-4b8b-d46b-0ded8cf6087a"
      },
      "execution_count": null,
      "outputs": [
        {
          "output_type": "display_data",
          "data": {
            "image/png": "[encoded data removed]",
            "text/plain": "<Figure size 252x252 with 1 Axes>"
          },
          "metadata": {
            "needs_background": "light"
          }
        }
      ]
    },
    {
      "cell_type": "markdown",
      "source": [
        "### Fitting Hyperparameters\n",
        "The key hyperparamter for a KRR model is $\\lambda$, which controls the tradeoff between fitness to the training set and model complexity.\n",
        "\n",
        "Scikit-learn provides a convenient tool, [GridSearchCV](https://scikit-learn.org/stable/modules/generated/sklearn.model_selection.GridSearchCV.html), for optimizing hyperparameters that we will use for this exercise."
      ],
      "metadata": {
        "id": "QeEVGD4fs8mF"
      }
    },
    {
      "cell_type": "code",
      "source": [
        "# GridSearchCV wraps over a model performs hyperparameter optimization when you call fit\n",
        "#  by re-running the model with a series of different parameters. For efficiency,\n",
        "#  I wrap the KRR part of the model rather than the whole pipeline so that we do \n",
        "#  not need to re-run the kernel code\n",
        "model = Pipeline([\n",
        "    ('kernel', FCHLKernel()),\n",
        "    ('krr', GridSearchCV(\n",
        "        estimator=KernelRidge(kernel='precomputed'), # Set the estimator to be KRR\n",
        "        param_grid={'alpha': np.logspace(-8, 0, 32)},  # Lambda is known as alpha in sklearn\n",
        "        cv=ShuffleSplit(test_size=0.1, random_state=1),  # Use 10, 90/10% splits\n",
        "        scoring='neg_mean_absolute_error',  # Score based on MAE\n",
        "    ))\n",
        "])"
      ],
      "metadata": {
        "execution": {
          "iopub.execute_input": "2021-01-25T14:02:39.641348Z",
          "iopub.status.busy": "2021-01-25T14:02:39.640671Z",
          "iopub.status.idle": "2021-01-25T14:02:39.643170Z",
          "shell.execute_reply": "2021-01-25T14:02:39.643746Z"
        },
        "id": "SuqX_NRxs8mG"
      },
      "execution_count": null,
      "outputs": []
    },
    {
      "cell_type": "code",
      "source": [
        "%%time\n",
        "model.fit(train_data['fchl_rep'].tolist(), train_data['u0_atom']);"
      ],
      "metadata": {
        "execution": {
          "iopub.execute_input": "2021-01-25T14:02:39.648923Z",
          "iopub.status.busy": "2021-01-25T14:02:39.648172Z",
          "iopub.status.idle": "2021-01-25T14:02:45.389368Z",
          "shell.execute_reply": "2021-01-25T14:02:45.388900Z"
        },
        "id": "IjnLISS_s8mG",
        "outputId": "82a1bd9a-0e5f-4952-d57a-4d6b77386653"
      },
      "execution_count": null,
      "outputs": [
        {
          "name": "stdout",
          "output_type": "stream",
          "text": "CPU times: user 17.4 s, sys: 47.6 ms, total: 17.5 s\nWall time: 5.71 s\n"
        },
        {
          "execution_count": 1,
          "output_type": "execute_result",
          "data": {
            "text/plain": "Pipeline(steps=[('kernel', FCHLKernel()),\n                ('krr',\n                 GridSearchCV(cv=ShuffleSplit(n_splits=10, random_state=1, test_size=0.1, train_size=None),\n                              estimator=KernelRidge(kernel='precomputed'),\n                              param_grid={'alpha': array([1.00000000e-08, 1.81160919e-08, 3.28192787e-08, 5.94557071e-08,\n       1.07710506e-07, 1.95129342e-07, 3.53498111e-07, 6.40400427e-07,\n       1.16015530e-06, 2.10174801...78538e-06,\n       1.24960914e-05, 2.26380341e-05, 4.10112707e-05, 7.42963951e-05,\n       1.34596032e-04, 2.43835410e-04, 4.41734470e-04, 8.00250228e-04,\n       1.44974067e-03, 2.62636353e-03, 4.75794431e-03, 8.61953566e-03,\n       1.56152301e-02, 2.82886943e-02, 5.12480588e-02, 9.28414545e-02,\n       1.68192432e-01, 3.04698957e-01, 5.51995432e-01, 1.00000000e+00])},\n                              scoring='neg_mean_absolute_error'))])"
          },
          "metadata": {}
        }
      ]
    },
    {
      "cell_type": "code",
      "source": [
        "fig, ax = plt.subplots(figsize=(3.5, 2.5))\n",
        "\n",
        "gs = model[1]\n",
        "ax.semilogx(np.array(gs.cv_results_['param_alpha']), -1*gs.cv_results_['mean_test_score'])\n",
        "\n",
        "ax.set_xlabel('$\\lambda$')\n",
        "ax.set_ylabel('MAE (Ha)')\n",
        "fig.tight_layout()"
      ],
      "metadata": {
        "execution": {
          "iopub.execute_input": "2021-01-25T14:02:45.405461Z",
          "iopub.status.busy": "2021-01-25T14:02:45.404975Z",
          "iopub.status.idle": "2021-01-25T14:02:45.649898Z",
          "shell.execute_reply": "2021-01-25T14:02:45.649414Z"
        },
        "id": "kgBP1_2Xs8mG",
        "outputId": "bc4cb3ca-11c6-4c11-e240-89b8444f3028"
      },
      "execution_count": null,
      "outputs": [
        {
          "output_type": "display_data",
          "data": {
            "image/png": "[encoded data removed]",
            "text/plain": "<Figure size 252x180 with 1 Axes>"
          },
          "metadata": {
            "needs_background": "light"
          }
        }
      ]
    },
    {
      "cell_type": "markdown",
      "source": [
        "Note how the error can change by about a factor of 2 when we adjust $\\lambda$"
      ],
      "metadata": {
        "id": "QBWdRCTos8mH"
      }
    },
    {
      "cell_type": "code",
      "source": [
        "%%time\n",
        "data['u0_atom_pred'] = model.predict(data['fchl_rep'].tolist())"
      ],
      "metadata": {
        "execution": {
          "iopub.execute_input": "2021-01-25T14:02:45.653317Z",
          "iopub.status.busy": "2021-01-25T14:02:45.652885Z",
          "iopub.status.idle": "2021-01-25T14:05:48.202377Z",
          "shell.execute_reply": "2021-01-25T14:05:48.201825Z"
        },
        "id": "8ApT5xges8mH",
        "outputId": "eaa2bbbb-7f95-4db5-d9a8-217b73c5c700"
      },
      "execution_count": null,
      "outputs": [
        {
          "name": "stdout",
          "output_type": "stream",
          "text": "CPU times: user 11min 10s, sys: 942 ms, total: 11min 11s\nWall time: 3min 2s\n"
        }
      ]
    },
    {
      "cell_type": "code",
      "source": [
        "mae = mean_absolute_error(data['u0_atom'], data['u0_atom_pred'])\n",
        "print(f'MAE = {mae:.4f} Ha = {mae*627.50947406:.2f} kcal/mol')"
      ],
      "metadata": {
        "execution": {
          "iopub.execute_input": "2021-01-25T14:05:48.206169Z",
          "iopub.status.busy": "2021-01-25T14:05:48.205687Z",
          "iopub.status.idle": "2021-01-25T14:05:48.208365Z",
          "shell.execute_reply": "2021-01-25T14:05:48.208822Z"
        },
        "id": "r8fnYCO2s8mI",
        "outputId": "e1bd2e26-4338-405c-afee-81ebf51f1ed7"
      },
      "execution_count": null,
      "outputs": [
        {
          "name": "stdout",
          "output_type": "stream",
          "text": "MAE = 0.0089 Ha = 5.61 kcal/mol\n"
        }
      ]
    },
    {
      "cell_type": "markdown",
      "source": [
        "By tuning the hyperparameter, we reduced the error to ~5 kcal/mol!"
      ],
      "metadata": {
        "id": "yY_wa0VXs8mI"
      }
    },
    {
      "cell_type": "markdown",
      "source": [
        "### Benefit of Scalable Kernel\n",
        "Here, we repeat the \"split on molecule size\" test from the [Coulomb Matrix example](./fitting-coulomb-matrix.ipynb) to see whether the validation results are as poor."
      ],
      "metadata": {
        "id": "7IX1LVnfs8mJ"
      }
    },
    {
      "cell_type": "code",
      "source": [
        "size = np.percentile(data['n_atom'], 50)\n",
        "train_data = data.query(f'n_atom<={size}').sample(100)\n",
        "test_data = data.query(f'n_atom>{size}') \n",
        "print(f'Made a training set of {len(train_data)} entries and a test set of {len(test_data)} by splitting based on molecule size.')"
      ],
      "metadata": {
        "execution": {
          "iopub.execute_input": "2021-01-25T14:05:48.212991Z",
          "iopub.status.busy": "2021-01-25T14:05:48.212546Z",
          "iopub.status.idle": "2021-01-25T14:05:48.247362Z",
          "shell.execute_reply": "2021-01-25T14:05:48.246901Z"
        },
        "id": "cpWF5xums8mJ",
        "outputId": "d9f61816-6fc6-4376-ed02-1cf4941c491d"
      },
      "execution_count": null,
      "outputs": [
        {
          "name": "stdout",
          "output_type": "stream",
          "text": "Made a training set of 100 entries and a test set of 881 by splitting based on molecule size.\n"
        }
      ]
    },
    {
      "cell_type": "markdown",
      "source": [
        "Train on the smaller size"
      ],
      "metadata": {
        "id": "y4rmEtJ8s8mJ"
      }
    },
    {
      "cell_type": "code",
      "source": [
        "%%time\n",
        "model.fit(train_data['fchl_rep'].tolist(), train_data['u0_atom']);"
      ],
      "metadata": {
        "execution": {
          "iopub.execute_input": "2021-01-25T14:05:48.251444Z",
          "iopub.status.busy": "2021-01-25T14:05:48.250925Z",
          "iopub.status.idle": "2021-01-25T14:05:52.533972Z",
          "shell.execute_reply": "2021-01-25T14:05:52.534451Z"
        },
        "id": "vZjTfnhJs8mK",
        "outputId": "e6946882-343f-4b8d-cf8a-8fd49a051e5e"
      },
      "execution_count": null,
      "outputs": [
        {
          "name": "stdout",
          "output_type": "stream",
          "text": "CPU times: user 11.3 s, sys: 75.7 ms, total: 11.4 s\nWall time: 4.25 s\n"
        },
        {
          "execution_count": 1,
          "output_type": "execute_result",
          "data": {
            "text/plain": "Pipeline(steps=[('kernel', FCHLKernel()),\n                ('krr',\n                 GridSearchCV(cv=ShuffleSplit(n_splits=10, random_state=1, test_size=0.1, train_size=None),\n                              estimator=KernelRidge(kernel='precomputed'),\n                              param_grid={'alpha': array([1.00000000e-08, 1.81160919e-08, 3.28192787e-08, 5.94557071e-08,\n       1.07710506e-07, 1.95129342e-07, 3.53498111e-07, 6.40400427e-07,\n       1.16015530e-06, 2.10174801...78538e-06,\n       1.24960914e-05, 2.26380341e-05, 4.10112707e-05, 7.42963951e-05,\n       1.34596032e-04, 2.43835410e-04, 4.41734470e-04, 8.00250228e-04,\n       1.44974067e-03, 2.62636353e-03, 4.75794431e-03, 8.61953566e-03,\n       1.56152301e-02, 2.82886943e-02, 5.12480588e-02, 9.28414545e-02,\n       1.68192432e-01, 3.04698957e-01, 5.51995432e-01, 1.00000000e+00])},\n                              scoring='neg_mean_absolute_error'))])"
          },
          "metadata": {}
        }
      ]
    },
    {
      "cell_type": "markdown",
      "source": [
        "Evaluate on the larger size"
      ],
      "metadata": {
        "id": "N58Xph2Fs8mK"
      }
    },
    {
      "cell_type": "code",
      "source": [
        "test_data['u0_atom_pred'] = model.predict(test_data['fchl_rep'].tolist())"
      ],
      "metadata": {
        "execution": {
          "iopub.execute_input": "2021-01-25T14:05:52.538440Z",
          "iopub.status.busy": "2021-01-25T14:05:52.537788Z",
          "iopub.status.idle": "2021-01-25T14:07:15.193078Z",
          "shell.execute_reply": "2021-01-25T14:07:15.193683Z"
        },
        "id": "yVK2qQscs8mK",
        "outputId": "f2231d80-6853-4eb2-be12-6aaf2c715f66"
      },
      "execution_count": null,
      "outputs": [
        {
          "name": "stderr",
          "output_type": "stream",
          "text": "/home/wardlt/miniconda3/envs/molml/lib/python3.7/site-packages/ipykernel_launcher.py:1: SettingWithCopyWarning: \nA value is trying to be set on a copy of a slice from a DataFrame.\nTry using .loc[row_indexer,col_indexer] = value instead\n\nSee the caveats in the documentation: https://pandas.pydata.org/pandas-docs/stable/user_guide/indexing.html#returning-a-view-versus-a-copy\n  \"\"\"Entry point for launching an IPython kernel.\n"
        }
      ]
    },
    {
      "cell_type": "code",
      "source": [
        "fig, ax = plt.subplots(figsize=(3.5, 3.5))\n",
        "\n",
        "# Plot the actual vs predicted\n",
        "ax.scatter(test_data['u0_atom'], test_data['u0_atom_pred'], s=10)\n",
        "\n",
        "# Place a y=x line on the graph. We fix\n",
        "#  the x and y limits first so that they do not\n",
        "#  re-adjust to create more whitespace after \n",
        "#  adding the new line\n",
        "ax.set_xlim(ax.get_xlim())\n",
        "ax.set_ylim(ax.get_xlim())\n",
        "ax.plot(ax.get_xlim(), ax.get_xlim(), 'k--')\n",
        "\n",
        "ax.set_xlabel('$E_{atom}$, DFT (Ha)')\n",
        "ax.set_ylabel('$E_{atom}$, ML (Ha)')\n",
        "fig.tight_layout()"
      ],
      "metadata": {
        "execution": {
          "iopub.execute_input": "2021-01-25T14:07:15.210859Z",
          "iopub.status.busy": "2021-01-25T14:07:15.210413Z",
          "iopub.status.idle": "2021-01-25T14:07:15.369258Z",
          "shell.execute_reply": "2021-01-25T14:07:15.368553Z"
        },
        "id": "Q_rWMKKIs8mL",
        "outputId": "227d9e4f-9031-4eda-deda-d63f93e069ce"
      },
      "execution_count": null,
      "outputs": [
        {
          "output_type": "display_data",
          "data": {
            "image/png": "[encoded data removed]",
            "text/plain": "<Figure size 252x252 with 1 Axes>"
          },
          "metadata": {
            "needs_background": "light"
          }
        }
      ]
    },
    {
      "cell_type": "code",
      "source": [
        "mae = mean_absolute_error(test_data['u0_atom'], test_data['u0_atom_pred'])\n",
        "print(f'MAE = {mae:.4f} Ha = {mae*627.50947406:.2f} kcal/mol')"
      ],
      "metadata": {
        "execution": {
          "iopub.execute_input": "2021-01-25T14:07:15.375005Z",
          "iopub.status.busy": "2021-01-25T14:07:15.374306Z",
          "iopub.status.idle": "2021-01-25T14:07:15.377077Z",
          "shell.execute_reply": "2021-01-25T14:07:15.377610Z"
        },
        "id": "qlTySedns8mL",
        "outputId": "521a6c20-8fc0-482d-d400-c58b1c98a345"
      },
      "execution_count": null,
      "outputs": [
        {
          "name": "stdout",
          "output_type": "stream",
          "text": "MAE = 0.0122 Ha = 7.67 kcal/mol\n"
        }
      ]
    },
    {
      "cell_type": "markdown",
      "source": [
        "We still achieve reasonable accuracy on these larger molecules, thanks to the scalable kernel. It is higher than what we observed in the \"random split test,\" but the difference is not as large as what we observed for the Coulomb Matrix."
      ],
      "metadata": {
        "id": "1vE_cw9is8mM"
      }
    },
    {
      "cell_type": "markdown",
      "source": [
        "### Computing a Learning Curve\n",
        "Learning curves show the improvement of a model as you add more training data.\n",
        "Here, we demonstrate how to make a learning curve to illustrate a few additional points about FCHL."
      ],
      "metadata": {
        "id": "oiWiRClWs8mM"
      }
    },
    {
      "cell_type": "code",
      "source": [
        "# Set up the test sizes we will evaluate for the learning curve\n",
        "train_sizes = [10, 30, 100, 300, 1000]"
      ],
      "metadata": {
        "execution": {
          "iopub.execute_input": "2021-01-25T14:07:15.381812Z",
          "iopub.status.busy": "2021-01-25T14:07:15.381216Z",
          "iopub.status.idle": "2021-01-25T14:07:15.383417Z",
          "shell.execute_reply": "2021-01-25T14:07:15.383923Z"
        },
        "id": "fcBqF_oys8mM"
      },
      "execution_count": null,
      "outputs": []
    },
    {
      "cell_type": "code",
      "source": [
        "# Prepare a standard test set\n",
        "train_data, test_data = train_test_split(data, test_size=500, random_state=1) \n",
        "\n",
        "# Avoids warnings about setting values of a copy\n",
        "test_data = test_data.copy()"
      ],
      "metadata": {
        "execution": {
          "iopub.execute_input": "2021-01-25T14:07:15.392111Z",
          "iopub.status.busy": "2021-01-25T14:07:15.391504Z",
          "iopub.status.idle": "2021-01-25T14:07:15.394416Z",
          "shell.execute_reply": "2021-01-25T14:07:15.394983Z"
        },
        "id": "6BEfj8nMs8mN"
      },
      "execution_count": null,
      "outputs": []
    },
    {
      "cell_type": "code",
      "source": [
        "# Loop over the test sizes\n",
        "results = []\n",
        "for ts in tqdm(train_sizes):\n",
        "    # Split off some training data\n",
        "    train_subset = train_data.sample(ts, random_state=1)\n",
        "    \n",
        "    # Fit the model\n",
        "    train_time = perf_counter()\n",
        "    model.fit(train_subset['fchl_rep'].tolist(), train_subset['u0_atom'])\n",
        "    train_time = perf_counter() - train_time\n",
        "    \n",
        "    # Evaluate the model on the test set\n",
        "    test_time = perf_counter()\n",
        "    test_data['u0_atom_pred'] = model.predict(test_data['fchl_rep'].tolist())\n",
        "    test_time = perf_counter() - test_time\n",
        "    \n",
        "    # Store performance information\n",
        "    results.append({\n",
        "        'train_size': ts,\n",
        "        'train_time': train_time,\n",
        "        'test_time': test_time,\n",
        "        'alpha': model[1].best_params_['alpha'],\n",
        "        'mae': mean_absolute_error(test_data['u0_atom'], test_data['u0_atom_pred'])\n",
        "    })"
      ],
      "metadata": {
        "execution": {
          "iopub.execute_input": "2021-01-25T14:07:15.401452Z",
          "iopub.status.busy": "2021-01-25T14:07:15.400944Z",
          "iopub.status.idle": "2021-01-25T14:28:00.438717Z",
          "shell.execute_reply": "2021-01-25T14:28:00.438060Z"
        },
        "id": "5lrB05aNs8mN",
        "outputId": "c666f9c7-4733-477b-c45e-070043aa55ae"
      },
      "execution_count": null,
      "outputs": [
        {
          "name": "stderr",
          "output_type": "stream",
          "text": "100%|██████████| 5/5 [20:45<00:00, 249.01s/it]\n"
        }
      ]
    },
    {
      "cell_type": "code",
      "source": [
        "results = pd.DataFrame(results)"
      ],
      "metadata": {
        "execution": {
          "iopub.execute_input": "2021-01-25T14:28:00.443311Z",
          "iopub.status.busy": "2021-01-25T14:28:00.442696Z",
          "iopub.status.idle": "2021-01-25T14:28:00.444783Z",
          "shell.execute_reply": "2021-01-25T14:28:00.445386Z"
        },
        "id": "WnQtMXA7s8mO"
      },
      "execution_count": null,
      "outputs": []
    },
    {
      "cell_type": "markdown",
      "source": [
        "Comparing performance to the original JCP paper"
      ],
      "metadata": {
        "id": "v_Ejn1Fos8mO"
      }
    },
    {
      "cell_type": "code",
      "source": [
        "jcp_results = pd.DataFrame([\n",
        "    [100, 0.2769171852851224], [1005.3012238214807, 0.06426615177922405],\n",
        "    [2502.606983490659, 0.03831336782897019], [5029.126239917856, 0.02719291345844958],\n",
        "    [10026.471083195112, 0.01905330215897317], [20148.744549550407, 0.013094302135827789]\n",
        "], columns=['size', 'mae'])"
      ],
      "metadata": {
        "execution": {
          "iopub.execute_input": "2021-01-25T14:28:00.451280Z",
          "iopub.status.busy": "2021-01-25T14:28:00.450627Z",
          "iopub.status.idle": "2021-01-25T14:28:00.453598Z",
          "shell.execute_reply": "2021-01-25T14:28:00.452886Z"
        },
        "id": "3dn4T4_Xs8mO"
      },
      "execution_count": null,
      "outputs": []
    },
    {
      "cell_type": "code",
      "source": [
        "fig, ax = plt.subplots()\n",
        "\n",
        "ax.loglog(jcp_results['size'], jcp_results['mae'], 'o--', label='FCHL')\n",
        "ax.loglog(results['train_size'], results['mae'] * 27.2114, 's-', label='This Work')\n",
        "\n",
        "fig.set_size_inches(3.5, 2.5)\n",
        "ax.legend()\n",
        "ax.set_xlabel('Training Set Size')\n",
        "ax.set_ylabel('MAE (eV)')"
      ],
      "metadata": {
        "execution": {
          "iopub.execute_input": "2021-01-25T14:28:00.475519Z",
          "iopub.status.busy": "2021-01-25T14:28:00.475061Z",
          "iopub.status.idle": "2021-01-25T14:28:01.053367Z",
          "shell.execute_reply": "2021-01-25T14:28:01.052834Z"
        },
        "id": "CgEZZmzrs8mO",
        "outputId": "f7458139-25b9-4f9c-cf48-5685997d973c"
      },
      "execution_count": null,
      "outputs": [
        {
          "execution_count": 1,
          "output_type": "execute_result",
          "data": {
            "text/plain": "Text(0, 0.5, 'MAE (eV)')"
          },
          "metadata": {}
        },
        {
          "output_type": "display_data",
          "data": {
            "image/png": "[encoded data removed]",
            "text/plain": "<Figure size 252x180 with 1 Axes>"
          },
          "metadata": {
            "needs_background": "light"
          }
        }
      ]
    },
    {
      "cell_type": "markdown",
      "source": [
        "Our implementation agrees well with the original paper!"
      ],
      "metadata": {
        "id": "SqHbcp3gs8mP"
      }
    },
    {
      "cell_type": "code",
      "source": [
        "fig, axs = plt.subplots(1, 3, figsize=(8.5, 3.))\n",
        "\n",
        "ax = axs[0]\n",
        "ax.loglog(results['train_size'], results['alpha'], '--o')\n",
        "ax.set_ylabel('$\\lambda$')\n",
        "ax.set_title('Hyperparameters')\n",
        "\n",
        "ax = axs[1]\n",
        "ax.loglog(results['train_size'], results['train_time'], '--o')\n",
        "p = linregress(np.log(results['train_size'].iloc[-3:]), np.log(results['train_time'].iloc[-3:]))\n",
        "ax.text(0.1, 0.8, f'$t \\propto N^{{{p[0]:.1f}}}$', transform=ax.transAxes, fontsize=14)\n",
        "ax.set_ylabel('Train Time (s)')\n",
        "ax.set_title('Training Performance')\n",
        "\n",
        "ax = axs[2]\n",
        "ax.loglog(results['train_size'], results['test_time'], '--o')\n",
        "p = linregress(np.log(results['train_size'].iloc[-3:]), np.log(results['test_time'].iloc[-3:]))\n",
        "ax.text(0.1, 0.8, f'$t \\propto N^{{{p[0]:.1f}}}$', transform=ax.transAxes, fontsize=14)\n",
        "ax.set_ylabel('Test Time (s)')\n",
        "ax.set_title('Inference Performance')\n",
        "\n",
        "for ax in axs:\n",
        "    ax.set_xlabel('Train Size')\n",
        "\n",
        "fig.tight_layout()\n",
        "fig.savefig('figures/fchl-scaling.svg')"
      ],
      "metadata": {
        "execution": {
          "iopub.execute_input": "2021-01-25T14:28:01.059143Z",
          "iopub.status.busy": "2021-01-25T14:28:01.058628Z",
          "iopub.status.idle": "2021-01-25T14:28:03.370073Z",
          "shell.execute_reply": "2021-01-25T14:28:03.370614Z"
        },
        "id": "C2UlrAXgs8mP",
        "outputId": "d01f9e10-7efe-4e55-8f3f-4022ccbc6dfe"
      },
      "execution_count": null,
      "outputs": [
        {
          "output_type": "display_data",
          "data": {
            "image/png": "[encoded data removed]",
            "text/plain": "<Figure size 612x216 with 3 Axes>"
          },
          "metadata": {
            "needs_background": "light"
          }
        }
      ]
    },
    {
      "cell_type": "markdown",
      "source": [
        "We can note a few things:\n",
        "\n",
        "1. The hyperparameters do change as a function of training set size. Be careful when fitting this model to always re-tune $\\lambda$\n",
        "2. The training time scales with $O(N^2)$, *i.e.* with the number of training entries. The quadratic scaling is a result of the time it takes to compute the kernel matrix\n",
        "3. The evaluation/test time scales linearly with the training set size, which is driven by the cost of comparing a point to each training entry"
      ],
      "metadata": {
        "id": "-F5kKtt_s8mQ"
      }
    },
    {
      "cell_type": "markdown",
      "source": [
        "## Summary\n",
        "Going back to our learning objectives, let's review that FHCL is...\n",
        "\n",
        "- [x] kernel method (*uses features based on similiarity to training set*)\n",
        "- [x] created with atomistic, scalable kernels (*similarity functions that express atomic contributions to molecular properties*)\n",
        "- [x] that use \"alchemical\" many-body similarity functions (*functions that capture similarity between atoms' environments*)\n",
        "- [x] to regress atomic properties with ridge regression (*using similiarty scores as inputs to a penalized linear regression*)."
      ],
      "metadata": {
        "id": "2O6QdNHns8mQ"
      }
    },
    {
      "cell_type": "code",
      "source": [
        ""
      ],
      "metadata": {
        "id": "3Yd4BbLds8mR"
      },
      "execution_count": null,
      "outputs": []
    }
  ]
}