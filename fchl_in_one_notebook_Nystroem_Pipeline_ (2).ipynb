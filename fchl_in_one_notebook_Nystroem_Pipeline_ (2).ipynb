{
  "metadata": {
    "orig_nbformat": 4,
    "kernelspec": {
      "display_name": "Python 3 (ipykernel)",
      "language": "python",
      "name": "python3"
    },
    "language_info": {
      "codemirror_mode": {
        "name": "ipython",
        "version": 3
      },
      "file_extension": ".py",
      "mimetype": "text/x-python",
      "name": "python",
      "nbconvert_exporter": "python",
      "pygments_lexer": "ipython3",
      "version": "3.7.10"
    },
    "colab": {
      "name": "fchl-in-one-notebook - Nystroem Pipeline .ipynb",
      "provenance": []
    }
  },
  "nbformat_minor": 0,
  "nbformat": 4,
  "cells": [
    {
      "cell_type": "markdown",
      "source": [
        "# FCHL in One Notebook\n",
        "This notebook is designed to explain the [\"FCHL\" machine learning technique](https://aip.scitation.org/doi/full/10.1063/1.5020710) from 2018.\n",
        "FCHL is a\n",
        "- [ ] kernel method\n",
        "- [ ] created with atomistic, scalable kernels\n",
        "- [ ] that use \"alchemical\" many-body similarity functions\n",
        "- [ ] to regress atomic properties with ridge regression.\n",
        "\n",
        "Our goal in this notebook is to explain what each of those bullets means.\n",
        "We will presume that you are familiar, in general, with regression methods and how to use the PyData stack (e.g., numpy, pandas, sklearn)."
      ],
      "metadata": {
        "id": "lry3JNz8s8lT"
      }
    },
    {
      "cell_type": "code",
      "source": [
        "!pip install git+https://github.com/qmlcode/qml@develop"
      ],
      "metadata": {
        "colab": {
          "base_uri": "https://localhost:8080/"
        },
        "id": "AiFizhwztL7p",
        "outputId": "c0212888-5608-4348-97bc-c56d919a3e62"
      },
      "execution_count": 2,
      "outputs": [
        {
          "output_type": "stream",
          "name": "stdout",
          "text": [
            "Collecting git+https://github.com/qmlcode/qml@develop\n",
            "  Cloning https://github.com/qmlcode/qml (to revision develop) to /tmp/pip-req-build-wacgkqdu\n",
            "  Running command git clone -q https://github.com/qmlcode/qml /tmp/pip-req-build-wacgkqdu\n",
            "  Running command git checkout -b develop --track origin/develop\n",
            "  Switched to a new branch 'develop'\n",
            "  Branch 'develop' set up to track remote branch 'develop' from 'origin'.\n",
            "Requirement already satisfied: numpy>=1.13 in /usr/local/lib/python3.7/dist-packages (from qml==0.4.0.12) (1.21.5)\n",
            "Requirement already satisfied: scipy in /usr/local/lib/python3.7/dist-packages (from qml==0.4.0.12) (1.4.1)\n",
            "Requirement already satisfied: scikit-learn in /usr/local/lib/python3.7/dist-packages (from qml==0.4.0.12) (1.0.2)\n",
            "Requirement already satisfied: six in /usr/local/lib/python3.7/dist-packages (from qml==0.4.0.12) (1.15.0)\n",
            "Requirement already satisfied: joblib>=0.11 in /usr/local/lib/python3.7/dist-packages (from scikit-learn->qml==0.4.0.12) (1.1.0)\n",
            "Requirement already satisfied: threadpoolctl>=2.0.0 in /usr/local/lib/python3.7/dist-packages (from scikit-learn->qml==0.4.0.12) (3.1.0)\n",
            "Building wheels for collected packages: qml\n",
            "  Building wheel for qml (setup.py) ... \u001b[?25l\u001b[?25hdone\n",
            "  Created wheel for qml: filename=qml-0.4.0.12-cp37-cp37m-linux_x86_64.whl size=2204872 sha256=0f7344416267470a37eb87d42ac2c2aeca0c4ac40ee32a9661ceeaf188c29d5a\n",
            "  Stored in directory: /tmp/pip-ephem-wheel-cache-9shlq4q5/wheels/86/8c/bf/c4dfb820c6410f97a6bdf9d03b0c180e33dc6f918c809c321f\n",
            "Successfully built qml\n",
            "Installing collected packages: qml\n",
            "Successfully installed qml-0.4.0.12\n"
          ]
        }
      ]
    },
    {
      "cell_type": "code",
      "source": [
        "%matplotlib inline\n",
        "from matplotlib import pyplot as plt\n",
        "from qml.fchl import get_local_kernels, get_local_symmetric_kernels\n",
        "from qml import Compound\n",
        "from sklearn.model_selection import GridSearchCV, ShuffleSplit, train_test_split\n",
        "from sklearn.metrics.pairwise import rbf_kernel\n",
        "from sklearn.metrics import mean_absolute_error\n",
        "from sklearn.kernel_ridge import KernelRidge\n",
        "from sklearn.base import BaseEstimator\n",
        "from sklearn.pipeline import Pipeline\n",
        "from scipy.stats import linregress\n",
        "from time import perf_counter\n",
        "from io import StringIO\n",
        "from tqdm import tqdm\n",
        "import pandas as pd\n",
        "import numpy as np\n",
        "import os"
      ],
      "metadata": {
        "tags": [],
        "trusted": true,
        "id": "Bt9fwOJss8ld"
      },
      "execution_count": 1,
      "outputs": []
    },
    {
      "cell_type": "markdown",
      "source": [
        "## Kernel Methods\n",
        "The [\"kernel\" trick](https://en.wikipedia.org/wiki/Kernel_method) is make a supervised learning problem easier by creating new input features based on pairwise similarities between a new input point and each point from the training set. The kernel creates a new set of $N$ features where each feature is the similarity between a certain entry and each of $N$ points from the training set. The similiarity function used to compute the new features is called _the kernel_.\n",
        "\n",
        "Here, we will demonstrate how the kernel can drastically simplify the learning problem."
      ],
      "metadata": {
        "id": "eTiC24jls8li"
      }
    },
    {
      "cell_type": "code",
      "source": [
        "x = np.arange(-2, 2.1, 1)\n",
        "y = (-1 <= x) & (x <= 1)"
      ],
      "metadata": {
        "execution": {
          "iopub.execute_input": "2021-01-25T13:59:18.893632Z",
          "iopub.status.busy": "2021-01-25T13:59:18.892925Z",
          "iopub.status.idle": "2021-01-25T13:59:18.896245Z",
          "shell.execute_reply": "2021-01-25T13:59:18.895326Z"
        },
        "id": "I-Uaf7gcs8lk"
      },
      "execution_count": null,
      "outputs": []
    },
    {
      "cell_type": "code",
      "source": [
        "fig, ax = plt.subplots(figsize=(3.5, 2.5))\n",
        "\n",
        "ax.scatter(x, [0]*5, c=y, s=100, ec='k')\n",
        "ax.set_ylim(ax.get_ylim())\n",
        "for i in [-1.5, 1.5]:\n",
        "    ax.plot([i]*2, ax.get_ylim(), 'k--')\n",
        "\n",
        "ax.set_yticklabels([])\n",
        "ax.set_xlabel('$x$')\n",
        "fig.tight_layout()\n",
        "fig.savefig('figures/without-kernel.svg')"
      ],
      "metadata": {
        "execution": {
          "iopub.execute_input": "2021-01-25T13:59:18.939671Z",
          "iopub.status.busy": "2021-01-25T13:59:18.938679Z",
          "iopub.status.idle": "2021-01-25T13:59:19.803921Z",
          "shell.execute_reply": "2021-01-25T13:59:19.804794Z"
        },
        "id": "UDFV-PjNs8ll",
        "outputId": "2dfb0f43-724e-40d9-9517-8d4b6f92b3c1"
      },
      "execution_count": null,
      "outputs": [
        {
          "output_type": "display_data",
          "data": {
            "image/png": "[encoded data removed]",
            "text/plain": "<Figure size 252x180 with 1 Axes>"
          },
          "metadata": {
            "needs_background": "light"
          }
        }
      ]
    },
    {
      "cell_type": "markdown",
      "source": [
        "Note how this problem is not linearly separable. You need 2 rules to separate the two classes.\n",
        "\n",
        "Now, we apply a kernel trick to create a new set of features. We use the [\"RBF Kernel\"](https://scikit-learn.org/stable/modules/generated/sklearn.metrics.pairwise.rbf_kernel.html)\n",
        "to generate new features. The RBF kernel uses a Gaussian function to create new features\n",
        "\n",
        "$f_i = k(x, x_i) = \\exp(-(x - x_i)^2/\\sigma))$\n",
        "\n",
        "Applying the kernel function to all of the data yields the so-called, \"kernel matrix\" where\n",
        "\n",
        "$K_{ij} = k(x_i, y_j)$\n",
        "\n",
        "We will use this term in the remainder of the notebook"
      ],
      "metadata": {
        "id": "r-gHFj2Ys8ln"
      }
    },
    {
      "cell_type": "code",
      "source": [
        "f = rbf_kernel(x[:, None])"
      ],
      "metadata": {
        "execution": {
          "iopub.execute_input": "2021-01-25T13:59:19.812131Z",
          "iopub.status.busy": "2021-01-25T13:59:19.811163Z",
          "iopub.status.idle": "2021-01-25T13:59:19.813716Z",
          "shell.execute_reply": "2021-01-25T13:59:19.814420Z"
        },
        "id": "L_p9878ns8lp"
      },
      "execution_count": null,
      "outputs": []
    },
    {
      "cell_type": "code",
      "source": [
        "fig, ax = plt.subplots(figsize=(3.5, 2.5))\n",
        "\n",
        "ax.scatter(x, f[:, 2], c=y, s=100, ec='k')\n",
        "ax.set_xlim(ax.get_xlim())\n",
        "ax.plot(ax.get_xlim(), [0.2]*2, 'k--')\n",
        "\n",
        "ax.set_ylabel('$f_2$')\n",
        "ax.set_xlabel('$x$')\n",
        "fig.tight_layout()\n",
        "fig.savefig('figures/with-kernel.svg')"
      ],
      "metadata": {
        "execution": {
          "iopub.execute_input": "2021-01-25T13:59:19.874934Z",
          "iopub.status.busy": "2021-01-25T13:59:19.874477Z",
          "iopub.status.idle": "2021-01-25T13:59:20.042766Z",
          "shell.execute_reply": "2021-01-25T13:59:20.042323Z"
        },
        "id": "CRd6aA9bs8lq",
        "outputId": "7c3381fc-1a03-41ca-ac76-c69e75949529"
      },
      "execution_count": null,
      "outputs": [
        {
          "output_type": "display_data",
          "data": {
            "image/png": "[encoded data removed]",
            "text/plain": "<Figure size 252x180 with 1 Axes>"
          },
          "metadata": {
            "needs_background": "light"
          }
        }
      ]
    },
    {
      "cell_type": "markdown",
      "source": [
        "Now my features are linear separable based on $f_2$. We've made the learning problem easier by transforming the data to a new space.\n",
        "\n",
        "FCHL operates based on this idea of \"apply a similiarty function to make learning easier.\" The secret is finding a function that maps \"materials\" into a similiarly easy space for ML to learn a simple function"
      ],
      "metadata": {
        "id": "Y15imXv2s8ls"
      }
    },
    {
      "cell_type": "markdown",
      "source": [
        "## Atomistic Kernel\n",
        "The first concept used by FCHL is the notion of a atomistics kernel, which leverages the fact that many molecular properties can be represented as sums over atomic properties.\n",
        "Energy is a good example due to most quantum effects being local: two atoms with similar _local_ environemnts should have similiar energies.\n",
        "An atomistic kernel definies the kernel (read: similarity) function between two molecules as a sum over kernels describe each atom:\n",
        "\n",
        "$K(x, y) = \\sum_i \\sum_j k(x_i, y_j)$\n",
        "\n",
        "Here, we show how that simplifies molecular machine learning."
      ],
      "metadata": {
        "id": "shXOdto_s8lt"
      }
    },
    {
      "cell_type": "markdown",
      "source": [
        "Consider an (artificial) case where we have a single molecule where the atom's local environment can be described by a feature vector: `[1]`\n",
        "\n",
        "We assign it an energy of -1"
      ],
      "metadata": {
        "id": "cU7Cz5x-s8lu"
      }
    },
    {
      "cell_type": "code",
      "source": [
        "molA = np.ones((1, 1))\n",
        "molA"
      ],
      "metadata": {
        "execution": {
          "iopub.execute_input": "2021-01-25T13:59:20.047311Z",
          "iopub.status.busy": "2021-01-25T13:59:20.046699Z",
          "iopub.status.idle": "2021-01-25T13:59:20.049759Z",
          "shell.execute_reply": "2021-01-25T13:59:20.049319Z"
        },
        "id": "z23HWIdTs8lu",
        "outputId": "65a93106-0f12-4886-edba-d1aa69a922b5"
      },
      "execution_count": null,
      "outputs": [
        {
          "execution_count": 1,
          "output_type": "execute_result",
          "data": {
            "text/plain": "array([[1.]])"
          },
          "metadata": {}
        }
      ]
    },
    {
      "cell_type": "markdown",
      "source": [
        "We assume an energy model based on a kernel regression: $E(x) = \\sum_i K(x, x_i)$ where $x_i$ is a molecule from the training set and $\\alpha_i$ is a learned parameter"
      ],
      "metadata": {
        "id": "Pr5637-Is8lw"
      }
    },
    {
      "cell_type": "code",
      "source": [
        "def scalable_kernel(x: np.ndarray, y: np.ndarray) -> float:\n",
        "    \"\"\"Compute a scalable kernel\n",
        "    \n",
        "    Args:\n",
        "        x: 2D representation for a molecule\n",
        "        y: 2D representation for a second molecule\n",
        "    \"\"\"\n",
        "    \n",
        "    k = rbf_kernel(x, y)\n",
        "    return k.sum()"
      ],
      "metadata": {
        "execution": {
          "iopub.execute_input": "2021-01-25T13:59:20.054745Z",
          "iopub.status.busy": "2021-01-25T13:59:20.054057Z",
          "iopub.status.idle": "2021-01-25T13:59:20.056465Z",
          "shell.execute_reply": "2021-01-25T13:59:20.057011Z"
        },
        "id": "I5nqZMg1s8lx"
      },
      "execution_count": null,
      "outputs": []
    },
    {
      "cell_type": "markdown",
      "source": [
        "Solving for the only learned parameter, $\\alpha_0$: $E(molA) = \\alpha_0 \\times K(molA, molA)$"
      ],
      "metadata": {
        "id": "7hJ3kdHXs8lx"
      }
    },
    {
      "cell_type": "code",
      "source": [
        "alpha_0 = -1 / scalable_kernel(molA, molA)\n",
        "print(f'alpha_0 = {alpha_0:.2f}')"
      ],
      "metadata": {
        "execution": {
          "iopub.execute_input": "2021-01-25T13:59:20.062217Z",
          "iopub.status.busy": "2021-01-25T13:59:20.061547Z",
          "iopub.status.idle": "2021-01-25T13:59:20.065033Z",
          "shell.execute_reply": "2021-01-25T13:59:20.064400Z"
        },
        "id": "Mkp24wNIs8ly",
        "outputId": "ca4fee28-3fc7-4fde-b241-379c8cf99ffa"
      },
      "execution_count": null,
      "outputs": [
        {
          "name": "stdout",
          "output_type": "stream",
          "text": "alpha_0 = -1.00\n"
        }
      ]
    },
    {
      "cell_type": "markdown",
      "source": [
        "We now predict the properties of several molecules which have atoms with similar environemnts but with different numbers of atoms"
      ],
      "metadata": {
        "id": "IhrDMhMls8l0"
      }
    },
    {
      "cell_type": "code",
      "source": [
        "fig, ax = plt.subplots(figsize=(3.5, 2.5))\n",
        "\n",
        "n = np.arange(1, 10, 1)\n",
        "e = [alpha_0 * scalable_kernel(np.ones((i, 1)), molA) for i in n]\n",
        "\n",
        "ax.scatter(n, e)\n",
        "\n",
        "ax.set_xlabel('Size')\n",
        "ax.set_ylabel('Energy')\n",
        "fig.tight_layout()\n",
        "fig.savefig('figures/atomic-kernel.svg')"
      ],
      "metadata": {
        "execution": {
          "iopub.execute_input": "2021-01-25T13:59:20.084627Z",
          "iopub.status.busy": "2021-01-25T13:59:20.080688Z",
          "iopub.status.idle": "2021-01-25T13:59:20.330004Z",
          "shell.execute_reply": "2021-01-25T13:59:20.329514Z"
        },
        "id": "fd2dMCa3s8l0",
        "outputId": "a7fb1baf-5045-4c6e-91d5-2176aa339ed2"
      },
      "execution_count": null,
      "outputs": [
        {
          "output_type": "display_data",
          "data": {
            "image/png": "[encoded data removed]",
            "text/plain": "<Figure size 252x180 with 1 Axes>"
          },
          "metadata": {
            "needs_background": "light"
          }
        }
      ]
    },
    {
      "cell_type": "markdown",
      "source": [
        "The scalable kernel captures the scaling between molecule size and energy by construction."
      ],
      "metadata": {
        "id": "xDNk_f0Gs8l1"
      }
    },
    {
      "cell_type": "markdown",
      "source": [
        "## Alchemical Kernels\n",
        "The other ingredient of FCHL is how local environments are compared using a \"many-body atomistic kernel.\"\n",
        "The atomistic kernels are based on a simple concept: similar atoms have similar elements\n",
        "and neighboring atoms at similar positions with similar elements.\n",
        "This principle of \"similar environments\" is captured by representing the local environment as a series of \n",
        "functions that capture 1-body, 2-body and 3-body interactions in the environment.\n",
        "The functions are based on Gaussians in a coordinate space where some directions spatial (e.g., distances\n",
        "and angles between atoms) and others are chemical (e.g., position on periodic table). \n",
        "The similarity between atomic environments are then expressed as integrals over the difference between \n",
        "the two functions.\n",
        "\n",
        "\n",
        "For example, the 1-body representation can be written as\n",
        "\n",
        "$A_1(I, x_0, x_1) = \\exp(-\\frac{(P_I - x_0)^2}{2\\sigma_P^2}-\\frac{(G_I - x_1)^2}{2\\sigma_G^2})$\n",
        "\n",
        "where $P_I$ and $G_I$ are the period and group of atom $I$, and $x_0$ and $x_1$ are the inputs to the function.\n",
        "We then compute the difference between two atomic environments by integrating out $x_0$ and $x_1$\n",
        "\n",
        "$k_1(I, J) = \\iint (A_1(I, x_0, x_1) - A_2(J, x_0, x_1))^2 \\,dx_0 \\,dx_1\n",
        "= \\frac{1}{2} \\exp(-\\frac{(P_I - P_J)^2}{4\\sigma_P^2}-\\frac{(G_I - G_J)^2}{4\\sigma_G^2})$\n",
        "\n",
        "Choosing Gaussians as the basis of the representation function leads to these integrals having analytical solutions.\n",
        "The technique for the 2- and 3-body terms is similar, with integrals over not just the elemental similarity variables\n",
        "but also over spatial terms.\n",
        "\n",
        "<center>\n",
        "<img width=300px src=\"https://aip.scitation.org/na101/home/literatum/publisher/aip/journals/content/jcp/2018/jcp.2018.148.issue-24/1.5020710/20180320/images/medium/1.5020710.figures.online.f1.jpg\"/>\n",
        "</center>\n",
        "\n",
        "Here, we demonstrate how to compute such kernels using [QML](https://github.com/qmlcode/qml/tree/develop)"
      ],
      "metadata": {
        "id": "UWr3XP1Qs8l1"
      }
    },
    {
      "cell_type": "code",
      "source": [
        "# Downsample to only a few thousand points. As we will demonstrate\n",
        "#  FCHL can be costly to run on large datasets\n",
        "data = pd.read_json('qm9.json.gz', lines=True).sample(2000, random_state=1)"
      ],
      "metadata": {
        "tags": [],
        "trusted": true,
        "id": "jB9LGTzRs8l2"
      },
      "execution_count": 2,
      "outputs": []
    },
    {
      "cell_type": "markdown",
      "source": [
        "QML is primary designed for providing the low-level operations needed to build ML tools, \n",
        "but does offer [a scikit-learn-compatible interface](https://github.com/qmlcode/qml/blob/develop/qml/qmlearn/__init__.py). \n",
        "We will eschew using it for teaching purposes and, instead, build these tools ourselves.\n",
        "\n",
        "The first step of using FCHL from QML is to pre-compute the representation used to compute the FCHL kernel.\n",
        "For this, we must first parse the molecular structure from an XYZ into QML's internal [Compound object](http://www.qmlcode.org/qml.html#qml-compound-class).\n",
        "We then use the [`generate_fchl_representation`](http://www.qmlcode.org/qml.html#qml.Compound.generate_fchl_representation) method to compute a\n",
        "description of the molecule that is ready for using to compute the kernel."
      ],
      "metadata": {
        "id": "O8KId9_rs8l2"
      }
    },
    {
      "cell_type": "code",
      "source": [
        "%%time\n",
        "# I use StringIO to turn the XYZ strings into the file object needed by Compound,\n",
        "#  `map` for parsimony, and set the `max_size` to 30 to capture all molecuels in QM9\n",
        "def make_representation(x):\n",
        "    # Step 1: Compute the representation\n",
        "    c = Compound(StringIO(x))\n",
        "    c.generate_fchl_representation(max_size=30)\n",
        "    \n",
        "    # Step 2: Return it\n",
        "    return c.representation\n",
        "data['fchl_rep'] = data['xyz'].apply(make_representation)"
      ],
      "metadata": {
        "tags": [],
        "trusted": true,
        "colab": {
          "base_uri": "https://localhost:8080/"
        },
        "id": "4SUipdTYs8l3",
        "outputId": "202a3365-f39d-4e7b-b7d5-47fbaac5ee2c"
      },
      "execution_count": 3,
      "outputs": [
        {
          "output_type": "stream",
          "name": "stdout",
          "text": [
            "CPU times: user 1.83 s, sys: 15.7 ms, total: 1.85 s\n",
            "Wall time: 1.85 s\n"
          ]
        }
      ]
    },
    {
      "cell_type": "markdown",
      "source": [
        "The FCHL method uses Kernel Ridge Regression (KRR) to learn atomic properties.\n",
        "\n",
        "### Theory: Kernel Ridge Regression\n",
        "Kernel ridge regression creates a model of the functional form:\n",
        "\n",
        "$f(x) = \\sum_i \\alpha_i K(x, x_i)$\n",
        "\n",
        "where the sum is over all points in the training set and $x_i$ is training point $i$.\n",
        "\n",
        "The coefficients of this equation, $\\alpha_i$, are learned by minimizing\n",
        "\n",
        "$\\sum_i (y_i - f(x_i))^2 + \\lambda \\left\\Vert{\\bf \\alpha}\\right\\Vert^2$\n",
        "\n",
        "where the squared error to the training data is $\\sum_i (y_i - f(x_i))^2$,\n",
        "the sum of squares of the weights is $\\left\\Vert{\\bf \\alpha}\\right\\Vert^2$ (i.e., $L_2$-norm), \n",
        "and $\\lambda$ controls the tradeoff between minimizing model error and\n",
        "model complexity (larger weights lead to a more complex model).\n",
        "\n",
        "This equation has a convenient [analytic solution](https://en.wikipedia.org/wiki/Tikhonov_regularization)\n",
        "based on the fact it involves solving a system of linear equations.\n",
        "The costly step in that equation is a matrix inversion, which can be solved efficiently \n",
        "using [Cholesky decomposition](https://en.wikipedia.org/wiki/Cholesky_decomposition) - a \n",
        "convenience due to symmetry properties of the kernel function."
      ],
      "metadata": {
        "id": "VUqTrbo0s8l4"
      }
    },
    {
      "cell_type": "markdown",
      "source": [
        "### Building a KRR Model using `scikit-learn`\n",
        "\n",
        "We implement the KRR model using a two-step process. First, we use the [FCHL kernel functions from QML](http://www.qmlcode.org/examples.html#generating-the-fchl-kernel) to compute the kernel matrix."
      ],
      "metadata": {
        "id": "quneVV68s8l5"
      }
    },
    {
      "cell_type": "code",
      "source": [
        "class FCHLKernel(BaseEstimator):\n",
        "    \"\"\"Class for computing the kernel matrix using the qml utility functions\n",
        "    \n",
        "    The input `X` to all of the function is a list of FCHL representation vectors\n",
        "    \n",
        "    Follows the \"BaseEstimator\" API so that we can \n",
        "    \"\"\"\n",
        "    \n",
        "    def __init__(self):\n",
        "        super(FCHLKernel, self).__init__()\n",
        "        self.train_points = None\n",
        "    \n",
        "    def fit(self, X, y=None):\n",
        "        # Store the training set\n",
        "        self.train_points = np.array(X)\n",
        "        return self\n",
        "        \n",
        "    def fit_transform(self, X, y=None):\n",
        "        self.fit(X)\n",
        "        # Uses the get_localget_local_symmetric_kernels to halve the\n",
        "        #  computational cost (as the matrix is symmetric)\n",
        "        return np.squeeze(get_local_symmetric_kernels(self.train_points))\n",
        "    \n",
        "    def transform(self, X, y=None):\n",
        "        return get_local_kernels(np.array(X), self.train_points)[0]"
      ],
      "metadata": {
        "tags": [],
        "trusted": true,
        "id": "gqvALzX-s8l5"
      },
      "execution_count": 6,
      "outputs": []
    },
    {
      "cell_type": "code",
      "source": [
        "def FCHL_Nystroem_Kernel(molecule_1, molecule_2):\n",
        "\n",
        "        molecule_1 = molecule_1.reshape(30, 5, 30)\n",
        "        molecule_1 = molecule_1.reshape(1, 30, 5, 30)\n",
        "\n",
        "        molecule_2 = molecule_2.reshape(30, 5, 30)\n",
        "        molecule_2 = molecule_2.reshape(1, 30, 5, 30)\n",
        "\n",
        "        kernel_val = get_local_kernels(molecule_1, molecule_2)\n",
        "        return kernel_val[0][0][0]"
      ],
      "metadata": {
        "id": "KJPcvT3Z_S2f"
      },
      "execution_count": 4,
      "outputs": []
    },
    {
      "cell_type": "code",
      "source": [
        "all_elements = np.asarray(data.tail(100)['fchl_rep'].tolist())"
      ],
      "metadata": {
        "id": "XZKdpI-LLum5"
      },
      "execution_count": 8,
      "outputs": []
    },
    {
      "cell_type": "markdown",
      "source": [
        ""
      ],
      "metadata": {
        "id": "O2cUR0me-PKs"
      }
    },
    {
      "cell_type": "code",
      "source": [
        "all_elements.shape"
      ],
      "metadata": {
        "colab": {
          "base_uri": "https://localhost:8080/"
        },
        "id": "CQoxyFewZnxi",
        "outputId": "67e93bdb-b72f-402c-a7e7-497ba2366d24"
      },
      "execution_count": 9,
      "outputs": [
        {
          "output_type": "execute_result",
          "data": {
            "text/plain": [
              "(100, 30, 5, 30)"
            ]
          },
          "metadata": {},
          "execution_count": 9
        }
      ]
    },
    {
      "cell_type": "code",
      "source": [
        "all_elements_reshaped = all_elements.reshape(100, 30 * 5 * 30)"
      ],
      "metadata": {
        "id": "z4ickI8XfYkC"
      },
      "execution_count": 10,
      "outputs": []
    },
    {
      "cell_type": "code",
      "source": [
        "from sklearn import datasets, svm\n",
        "from sklearn.kernel_approximation import Nystroem"
      ],
      "metadata": {
        "id": "u2VpS2MIAng4"
      },
      "execution_count": 5,
      "outputs": []
    },
    {
      "cell_type": "code",
      "source": [
        "ny = Nystroem(kernel=FCHL_Nystroem_Kernel, random_state=1, n_components=50)"
      ],
      "metadata": {
        "id": "Kd2Ndwi6AsaH"
      },
      "execution_count": 6,
      "outputs": []
    },
    {
      "cell_type": "code",
      "source": [
        "result = ny.fit_transform(all_elements_reshaped)"
      ],
      "metadata": {
        "id": "3pK4J9mLBWgy"
      },
      "execution_count": 127,
      "outputs": []
    },
    {
      "cell_type": "code",
      "source": [
        "result.shape"
      ],
      "metadata": {
        "colab": {
          "base_uri": "https://localhost:8080/"
        },
        "id": "A6ssHwFUCf4a",
        "outputId": "7d11dfa4-9db0-4bf4-ecca-8f88dea42d78"
      },
      "execution_count": 128,
      "outputs": [
        {
          "output_type": "execute_result",
          "data": {
            "text/plain": [
              "(100, 50)"
            ]
          },
          "metadata": {},
          "execution_count": 128
        }
      ]
    },
    {
      "cell_type": "code",
      "source": [
        "import sys"
      ],
      "metadata": {
        "id": "BemhN9xzTkXd"
      },
      "execution_count": 45,
      "outputs": []
    },
    {
      "cell_type": "code",
      "source": [
        "np.set_printoptions(threshold=sys.maxsize)"
      ],
      "metadata": {
        "id": "2JTK3aJUTpcx"
      },
      "execution_count": 46,
      "outputs": []
    },
    {
      "cell_type": "code",
      "source": [
        "result"
      ],
      "metadata": {
        "colab": {
          "base_uri": "https://localhost:8080/"
        },
        "id": "WQoPXDRmTOYV",
        "outputId": "2c1baf5d-3d35-4cf5-9849-b594b8498b54"
      },
      "execution_count": 129,
      "outputs": [
        {
          "output_type": "execute_result",
          "data": {
            "text/plain": [
              "array([[ 1.61944217e+00,  2.13998892e+00,  2.27219380e+00,\n",
              "         2.56381222e+00,  2.32926179e+00,  2.48125169e+00,\n",
              "         2.55209148e+00,  1.29521794e+00,  2.29864287e+00,\n",
              "         2.41454048e+00,  1.92065879e+00,  2.66594717e+00,\n",
              "         2.45959118e+00,  2.19829105e+00,  1.81427228e+00,\n",
              "         1.89539627e+00,  2.57927803e+00,  2.18004767e+00,\n",
              "         2.72297290e+00,  2.21895733e+00,  2.67346888e+00,\n",
              "         2.42324644e+00,  2.36463841e+00,  2.30529510e+00,\n",
              "         2.36966523e+00,  2.35515707e+00,  2.22296407e+00,\n",
              "         2.11431468e+00,  2.67222449e+00,  1.79834492e+00,\n",
              "         2.58975911e+00,  2.41301906e+00,  2.51363561e+00,\n",
              "         2.65118642e+00,  2.03688481e+00,  1.50777381e+00,\n",
              "         2.01295080e+00,  2.29223577e+00,  2.87009795e+00,\n",
              "         2.18178236e+00,  2.34926959e+00,  2.34180255e+00,\n",
              "         2.16514026e+00,  2.70715281e+00,  2.45741509e+00,\n",
              "         2.16205691e+00,  2.04825817e+00,  2.49316524e+00,\n",
              "         2.80377529e+00,  1.97866910e+00],\n",
              "       [ 1.49950571e+00,  1.98393138e+00,  2.26200312e+00,\n",
              "         2.58858065e+00,  2.07940955e+00,  2.38172518e+00,\n",
              "         2.43903284e+00,  1.22959615e+00,  2.13558750e+00,\n",
              "         2.46765314e+00,  1.83493406e+00,  2.35089197e+00,\n",
              "         2.14853850e+00,  2.15140202e+00,  1.79989292e+00,\n",
              "         1.77024281e+00,  2.37487608e+00,  1.91795120e+00,\n",
              "         2.71937948e+00,  2.18265819e+00,  2.68853309e+00,\n",
              "         2.22266145e+00,  2.15552443e+00,  2.02868194e+00,\n",
              "         2.23908486e+00,  2.28580101e+00,  2.06892251e+00,\n",
              "         1.91666585e+00,  2.35539257e+00,  1.64110652e+00,\n",
              "         2.30685379e+00,  2.22446629e+00,  2.38323991e+00,\n",
              "         2.53855595e+00,  1.82115174e+00,  1.21147446e+00,\n",
              "         1.78119733e+00,  2.23632027e+00,  2.89326369e+00,\n",
              "         2.12478282e+00,  2.36691636e+00,  2.04095520e+00,\n",
              "         2.04262837e+00,  2.66922387e+00,  2.11951417e+00,\n",
              "         1.90234333e+00,  2.03640182e+00,  2.29362189e+00,\n",
              "         2.63398577e+00,  1.56098012e+00],\n",
              "       [ 1.75229569e+00,  2.49779721e+00,  2.72105655e+00,\n",
              "         3.38209600e+00,  2.82394138e+00,  3.06562234e+00,\n",
              "         3.30520674e+00,  1.39070654e+00,  2.73521952e+00,\n",
              "         3.46906438e+00,  2.17290099e+00,  3.15219420e+00,\n",
              "         2.75862577e+00,  2.82989365e+00,  2.28878522e+00,\n",
              "         2.12236583e+00,  3.10715906e+00,  2.33010297e+00,\n",
              "         3.66111331e+00,  2.71748161e+00,  3.86974543e+00,\n",
              "         2.93489125e+00,  2.87758673e+00,  2.83198395e+00,\n",
              "         2.92709300e+00,  2.99874121e+00,  2.69422344e+00,\n",
              "         2.34902131e+00,  3.33923484e+00,  1.90529885e+00,\n",
              "         3.05645968e+00,  2.95323715e+00,  3.21566438e+00,\n",
              "         3.29551550e+00,  2.28619189e+00,  1.33928424e+00,\n",
              "         2.10045389e+00,  3.04165673e+00,  3.93299097e+00,\n",
              "         2.71261277e+00,  3.12446479e+00,  2.68663352e+00,\n",
              "         2.53191882e+00,  3.61486340e+00,  2.68535504e+00,\n",
              "         2.28740336e+00,  2.59450976e+00,  3.14747804e+00,\n",
              "         3.49754871e+00,  1.96270457e+00],\n",
              "       [ 1.81141003e+00,  2.60555953e+00,  2.73121606e+00,\n",
              "         3.42373768e+00,  3.19822664e+00,  3.33410131e+00,\n",
              "         3.66194728e+00,  1.24335843e+00,  2.80362439e+00,\n",
              "         3.52401090e+00,  2.09377032e+00,  3.26399054e+00,\n",
              "         2.91084404e+00,  2.87699201e+00,  2.25739929e+00,\n",
              "         2.21856743e+00,  3.34179446e+00,  2.29029488e+00,\n",
              "         3.78842326e+00,  2.87628117e+00,  3.78620715e+00,\n",
              "         3.01600539e+00,  3.15917441e+00,  3.07615064e+00,\n",
              "         3.12665586e+00,  3.06982299e+00,  2.86696535e+00,\n",
              "         2.45896308e+00,  3.71110567e+00,  1.95634497e+00,\n",
              "         3.35557416e+00,  3.24262885e+00,  3.30370428e+00,\n",
              "         3.56330801e+00,  2.38589468e+00,  1.40839483e+00,\n",
              "         2.09898459e+00,  3.29118439e+00,  4.24377184e+00,\n",
              "         2.90583466e+00,  3.14434637e+00,  2.92512910e+00,\n",
              "         2.67406819e+00,  3.80672889e+00,  2.87798155e+00,\n",
              "         2.38939483e+00,  2.58574011e+00,  3.38977040e+00,\n",
              "         3.79942007e+00,  2.00071408e+00],\n",
              "       [ 1.55947857e+00,  2.04503608e+00,  2.36444343e+00,\n",
              "         2.67672479e+00,  2.26200433e+00,  2.55346749e+00,\n",
              "         2.73304355e+00,  1.18651155e+00,  2.22728880e+00,\n",
              "         2.63957685e+00,  1.83499450e+00,  2.53467710e+00,\n",
              "         2.27639601e+00,  2.28167068e+00,  1.85200842e+00,\n",
              "         1.82301250e+00,  2.53028573e+00,  1.97694181e+00,\n",
              "         2.88562398e+00,  2.25194070e+00,  2.83650667e+00,\n",
              "         2.34239811e+00,  2.34894794e+00,  2.23737559e+00,\n",
              "         2.31903552e+00,  2.38721090e+00,  2.21868080e+00,\n",
              "         2.00145125e+00,  2.68425308e+00,  1.67665208e+00,\n",
              "         2.53249165e+00,  2.42221633e+00,  2.56811626e+00,\n",
              "         2.66849523e+00,  1.94472740e+00,  1.25221023e+00,\n",
              "         1.82968148e+00,  2.43256060e+00,  3.07504154e+00,\n",
              "         2.21214126e+00,  2.48159054e+00,  2.23888606e+00,\n",
              "         2.07804964e+00,  2.80992539e+00,  2.33843173e+00,\n",
              "         1.97495158e+00,  2.07504994e+00,  2.49427840e+00,\n",
              "         2.88700473e+00,  1.65302817e+00],\n",
              "       [ 1.70428955e+00,  2.47794669e+00,  2.53808162e+00,\n",
              "         3.08938601e+00,  2.72156091e+00,  2.94367217e+00,\n",
              "         3.06272865e+00,  1.31438832e+00,  2.42595884e+00,\n",
              "         2.91206747e+00,  1.97813111e+00,  2.83402796e+00,\n",
              "         2.48334279e+00,  2.52279182e+00,  2.08327947e+00,\n",
              "         2.04580001e+00,  2.73924513e+00,  2.16038728e+00,\n",
              "         3.10394859e+00,  2.44662027e+00,  3.14592177e+00,\n",
              "         2.77845599e+00,  2.60779950e+00,  2.46814559e+00,\n",
              "         2.84848996e+00,  2.74601642e+00,  2.52646632e+00,\n",
              "         2.38828443e+00,  2.93939561e+00,  1.84223510e+00,\n",
              "         2.82500708e+00,  2.84767321e+00,  2.72621162e+00,\n",
              "         2.92669421e+00,  2.16638191e+00,  1.33730407e+00,\n",
              "         2.00660671e+00,  2.62611146e+00,  3.49042283e+00,\n",
              "         2.62175442e+00,  2.69236497e+00,  2.44157454e+00,\n",
              "         2.35377860e+00,  3.24019160e+00,  2.56005391e+00,\n",
              "         2.21172018e+00,  2.29015760e+00,  2.88588997e+00,\n",
              "         3.08990789e+00,  1.88527147e+00],\n",
              "       [ 1.73820316e+00,  2.59349711e+00,  2.67757146e+00,\n",
              "         3.31290890e+00,  2.98707127e+00,  3.11862637e+00,\n",
              "         3.35687114e+00,  1.30497994e+00,  2.73496401e+00,\n",
              "         3.31803079e+00,  2.07588506e+00,  3.16334374e+00,\n",
              "         2.78333549e+00,  2.79717267e+00,  2.26900869e+00,\n",
              "         2.15114930e+00,  3.16688493e+00,  2.30221163e+00,\n",
              "         3.58593132e+00,  2.68971398e+00,  3.64921624e+00,\n",
              "         2.97346176e+00,  2.91771003e+00,  2.87560867e+00,\n",
              "         3.00976861e+00,  2.99162967e+00,  2.71480709e+00,\n",
              "         2.44026780e+00,  3.44403233e+00,  1.86064651e+00,\n",
              "         3.17272687e+00,  3.08851507e+00,  3.13140590e+00,\n",
              "         3.34436382e+00,  2.32981638e+00,  1.36236299e+00,\n",
              "         2.09424199e+00,  3.02064576e+00,  3.92924001e+00,\n",
              "         2.75988139e+00,  3.04041739e+00,  2.71354128e+00,\n",
              "         2.55880276e+00,  3.59022236e+00,  2.74777237e+00,\n",
              "         2.30308091e+00,  2.51249533e+00,  3.24736800e+00,\n",
              "         3.54180891e+00,  2.00768336e+00],\n",
              "       [ 1.49415515e+00,  1.90003287e+00,  2.00253581e+00,\n",
              "         2.29173325e+00,  2.11586137e+00,  2.13307840e+00,\n",
              "         2.29913126e+00,  1.08816089e+00,  2.01432082e+00,\n",
              "         2.22235203e+00,  1.66003970e+00,  2.24432598e+00,\n",
              "         2.01542252e+00,  1.98363883e+00,  1.60269295e+00,\n",
              "         1.64765504e+00,  2.27265206e+00,  1.81079953e+00,\n",
              "         2.38369188e+00,  1.98950132e+00,  2.38881127e+00,\n",
              "         2.19962800e+00,  2.14088719e+00,  2.05813633e+00,\n",
              "         2.04154095e+00,  2.07616372e+00,  2.01903158e+00,\n",
              "         1.77614100e+00,  2.41870481e+00,  1.55314764e+00,\n",
              "         2.33165755e+00,  2.10177734e+00,  2.21207678e+00,\n",
              "         2.34676199e+00,  1.88352306e+00,  1.28093168e+00,\n",
              "         1.74030895e+00,  2.06424083e+00,  2.57609190e+00,\n",
              "         1.97459977e+00,  2.06653097e+00,  2.01641102e+00,\n",
              "         1.86770399e+00,  2.36918985e+00,  2.04631333e+00,\n",
              "         1.86715116e+00,  1.89561416e+00,  2.22942231e+00,\n",
              "         2.43454103e+00,  1.63560330e+00],\n",
              "       [ 1.68497409e+00,  2.18632313e+00,  2.37239854e+00,\n",
              "         2.84296064e+00,  2.49733037e+00,  2.70319816e+00,\n",
              "         2.81371083e+00,  1.25164818e+00,  2.39259299e+00,\n",
              "         2.76383349e+00,  1.97127369e+00,  2.66599132e+00,\n",
              "         2.41870012e+00,  2.39196342e+00,  1.99202998e+00,\n",
              "         1.99963129e+00,  2.63393832e+00,  2.11488400e+00,\n",
              "         2.97918370e+00,  2.38477657e+00,  2.95040289e+00,\n",
              "         2.46964787e+00,  2.52645853e+00,  2.36398258e+00,\n",
              "         2.56808828e+00,  2.53096457e+00,  2.42076587e+00,\n",
              "         2.17649514e+00,  2.76219377e+00,  1.86484704e+00,\n",
              "         2.62289823e+00,  2.55660619e+00,  2.67750883e+00,\n",
              "         2.81705030e+00,  2.10032630e+00,  1.40428478e+00,\n",
              "         1.94473732e+00,  2.56769899e+00,  3.26173966e+00,\n",
              "         2.41155821e+00,  2.52807343e+00,  2.37579722e+00,\n",
              "         2.28263760e+00,  2.98260061e+00,  2.40502582e+00,\n",
              "         2.11935245e+00,  2.26237181e+00,  2.70692412e+00,\n",
              "         2.94157777e+00,  1.79569823e+00],\n",
              "       [ 1.64237580e+00,  1.97732286e+00,  2.16520401e+00,\n",
              "         2.37859415e+00,  2.23178119e+00,  2.31192425e+00,\n",
              "         2.38433919e+00,  1.21918298e+00,  2.16165077e+00,\n",
              "         2.39373493e+00,  1.88564108e+00,  2.31635946e+00,\n",
              "         2.25413823e+00,  2.16517754e+00,  1.80745823e+00,\n",
              "         1.85717768e+00,  2.55226374e+00,  1.95946865e+00,\n",
              "         2.58695906e+00,  2.16738426e+00,  2.48023080e+00,\n",
              "         2.17376191e+00,  2.37582576e+00,  2.18224607e+00,\n",
              "         2.04946742e+00,  2.24855266e+00,  2.13699042e+00,\n",
              "         1.79382128e+00,  2.47568794e+00,  1.78995413e+00,\n",
              "         2.41420119e+00,  2.14462640e+00,  2.39807075e+00,\n",
              "         2.45291266e+00,  1.98041718e+00,  1.43211441e+00,\n",
              "         1.91014901e+00,  2.20939686e+00,  2.67557509e+00,\n",
              "         2.08660471e+00,  2.22330832e+00,  2.20322768e+00,\n",
              "         2.08932441e+00,  2.43174894e+00,  2.18067152e+00,\n",
              "         1.96633918e+00,  2.07243879e+00,  2.30606430e+00,\n",
              "         2.59903744e+00,  1.65893966e+00],\n",
              "       [ 1.72385705e+00,  2.15563135e+00,  2.32675462e+00,\n",
              "         2.62647364e+00,  2.36568034e+00,  2.48962415e+00,\n",
              "         2.68877551e+00,  1.19136639e+00,  2.19796726e+00,\n",
              "         2.65775810e+00,  1.91511038e+00,  2.50131937e+00,\n",
              "         2.15571187e+00,  2.21440485e+00,  1.78961856e+00,\n",
              "         1.96032167e+00,  2.52688739e+00,  1.99762106e+00,\n",
              "         2.76953590e+00,  2.56360244e+00,  2.71748161e+00,\n",
              "         2.37762085e+00,  2.41284305e+00,  2.23484416e+00,\n",
              "         2.39078756e+00,  2.33103604e+00,  2.28034026e+00,\n",
              "         1.97424774e+00,  2.59019577e+00,  1.79160297e+00,\n",
              "         2.51233697e+00,  2.32321016e+00,  2.50502699e+00,\n",
              "         2.70197734e+00,  1.98064414e+00,  1.42671494e+00,\n",
              "         1.96351769e+00,  2.41821953e+00,  3.14723834e+00,\n",
              "         2.30015786e+00,  2.38824523e+00,  2.29688158e+00,\n",
              "         2.18792088e+00,  2.82137906e+00,  2.18726368e+00,\n",
              "         2.07513162e+00,  2.22011118e+00,  2.40573944e+00,\n",
              "         2.76690001e+00,  1.75160259e+00],\n",
              "       [ 1.69388424e+00,  2.26036752e+00,  2.38988162e+00,\n",
              "         2.78126716e+00,  2.49715160e+00,  2.63017517e+00,\n",
              "         2.84160500e+00,  1.20223743e+00,  2.33723804e+00,\n",
              "         2.79827052e+00,  1.96330800e+00,  2.71526599e+00,\n",
              "         2.32845346e+00,  2.27823637e+00,  1.83690954e+00,\n",
              "         1.97219193e+00,  2.72179456e+00,  2.06703293e+00,\n",
              "         2.95994275e+00,  2.49582669e+00,  2.88583170e+00,\n",
              "         2.58028364e+00,  2.56710369e+00,  2.44918183e+00,\n",
              "         2.49418503e+00,  2.44555062e+00,  2.36388520e+00,\n",
              "         2.11164468e+00,  2.87480600e+00,  1.78186829e+00,\n",
              "         2.81977007e+00,  2.52341495e+00,  2.65533063e+00,\n",
              "         2.86781913e+00,  2.14093601e+00,  1.44156981e+00,\n",
              "         2.02638586e+00,  2.64123759e+00,  3.42112504e+00,\n",
              "         2.36269407e+00,  2.52182533e+00,  2.44011941e+00,\n",
              "         2.22639163e+00,  2.96340837e+00,  2.37274598e+00,\n",
              "         2.19860225e+00,  2.27345714e+00,  2.56711501e+00,\n",
              "         2.99141118e+00,  1.87353876e+00],\n",
              "       [ 1.55031307e+00,  2.16710823e+00,  2.24038361e+00,\n",
              "         2.58603379e+00,  2.33207347e+00,  2.49863654e+00,\n",
              "         2.58799411e+00,  1.22887528e+00,  2.32143030e+00,\n",
              "         2.71924940e+00,  2.00634618e+00,  2.61888210e+00,\n",
              "         2.30645806e+00,  2.23339938e+00,  1.84091703e+00,\n",
              "         1.89004124e+00,  2.52337699e+00,  2.10556082e+00,\n",
              "         2.75842337e+00,  2.24866189e+00,  2.68729112e+00,\n",
              "         2.39699975e+00,  2.38170966e+00,  2.36518000e+00,\n",
              "         2.37454442e+00,  2.33928265e+00,  2.23582199e+00,\n",
              "         1.98278683e+00,  2.66867077e+00,  1.75994406e+00,\n",
              "         2.57119304e+00,  2.34134156e+00,  2.59298294e+00,\n",
              "         2.60377297e+00,  1.99061572e+00,  1.42813120e+00,\n",
              "         2.02407675e+00,  2.33638977e+00,  2.98263560e+00,\n",
              "         2.17201261e+00,  2.30207966e+00,  2.36736345e+00,\n",
              "         2.13923935e+00,  2.67672848e+00,  2.32080120e+00,\n",
              "         2.06837077e+00,  2.09548534e+00,  2.37299889e+00,\n",
              "         2.74639585e+00,  1.92703821e+00],\n",
              "       [ 1.50525824e+00,  2.31696935e+00,  2.36223515e+00,\n",
              "         2.94106797e+00,  2.50701044e+00,  2.72872262e+00,\n",
              "         2.84589900e+00,  1.21804909e+00,  2.34452845e+00,\n",
              "         2.86186543e+00,  1.85735207e+00,  2.71888063e+00,\n",
              "         2.28559192e+00,  2.43634842e+00,  1.97687840e+00,\n",
              "         1.82113886e+00,  2.66982864e+00,  2.07295615e+00,\n",
              "         3.01165859e+00,  2.32554648e+00,  3.11456391e+00,\n",
              "         2.63871112e+00,  2.47231854e+00,  2.43212909e+00,\n",
              "         2.61134805e+00,  2.56702495e+00,  2.33712182e+00,\n",
              "         2.09371007e+00,  2.79713777e+00,  1.62214928e+00,\n",
              "         2.69496467e+00,  2.59898133e+00,  2.70605127e+00,\n",
              "         2.81639033e+00,  2.00983125e+00,  1.16411289e+00,\n",
              "         1.84304555e+00,  2.52954801e+00,  3.39261352e+00,\n",
              "         2.33010109e+00,  2.59116841e+00,  2.29576373e+00,\n",
              "         2.15803784e+00,  3.03746752e+00,  2.31361046e+00,\n",
              "         1.98127436e+00,  2.28281023e+00,  2.71035445e+00,\n",
              "         3.00271166e+00,  1.77206301e+00],\n",
              "       [ 1.63487671e+00,  2.11429743e+00,  2.26222150e+00,\n",
              "         2.62908247e+00,  2.36255043e+00,  2.46580881e+00,\n",
              "         2.60654345e+00,  1.23749476e+00,  2.34266189e+00,\n",
              "         2.57660392e+00,  1.94798777e+00,  2.55804326e+00,\n",
              "         2.30113355e+00,  2.22276444e+00,  1.83475209e+00,\n",
              "         1.87507462e+00,  2.52590068e+00,  2.11434497e+00,\n",
              "         2.71059257e+00,  2.26274351e+00,  2.71743767e+00,\n",
              "         2.47619317e+00,  2.43655364e+00,  2.30716666e+00,\n",
              "         2.34029649e+00,  2.34158441e+00,  2.27129277e+00,\n",
              "         1.95288121e+00,  2.69468190e+00,  1.75688283e+00,\n",
              "         2.58099199e+00,  2.35735800e+00,  2.56465570e+00,\n",
              "         2.61058630e+00,  2.06394194e+00,  1.44356927e+00,\n",
              "         1.96128711e+00,  2.33468807e+00,  2.91763274e+00,\n",
              "         2.20719866e+00,  2.32911029e+00,  2.30910958e+00,\n",
              "         2.13694019e+00,  2.70015684e+00,  2.27703895e+00,\n",
              "         2.11864056e+00,  2.11927284e+00,  2.47967678e+00,\n",
              "         2.74879960e+00,  1.85190501e+00],\n",
              "       [ 1.80044307e+00,  2.54036661e+00,  2.72062764e+00,\n",
              "         3.40881271e+00,  3.00688005e+00,  3.14637027e+00,\n",
              "         3.38959503e+00,  1.34913627e+00,  2.67471245e+00,\n",
              "         3.36778927e+00,  2.07424990e+00,  3.15820146e+00,\n",
              "         2.68019957e+00,  2.72249027e+00,  2.18409059e+00,\n",
              "         2.13805670e+00,  3.09315903e+00,  2.28476451e+00,\n",
              "         3.55893621e+00,  2.82137906e+00,  3.61486340e+00,\n",
              "         2.94431549e+00,  2.93749942e+00,  2.77195297e+00,\n",
              "         3.05300608e+00,  2.98971791e+00,  2.74604629e+00,\n",
              "         2.44756051e+00,  3.30784871e+00,  1.91522557e+00,\n",
              "         3.09460711e+00,  3.06225712e+00,  3.08922115e+00,\n",
              "         3.39156607e+00,  2.28309823e+00,  1.34005025e+00,\n",
              "         2.08662517e+00,  3.04505853e+00,  4.12773924e+00,\n",
              "         2.84851091e+00,  3.04342448e+00,  2.66663520e+00,\n",
              "         2.56793487e+00,  3.85986757e+00,  2.70754335e+00,\n",
              "         2.33148893e+00,  2.52522651e+00,  3.17172463e+00,\n",
              "         3.52258155e+00,  1.97572881e+00],\n",
              "       [ 1.80268675e+00,  2.52714196e+00,  2.64211776e+00,\n",
              "         3.33591750e+00,  3.06204074e+00,  3.10466383e+00,\n",
              "         3.40556331e+00,  1.24817702e+00,  2.71773966e+00,\n",
              "         3.21671980e+00,  1.98957803e+00,  3.18014918e+00,\n",
              "         2.73543996e+00,  2.68928324e+00,  2.08755493e+00,\n",
              "         2.11567858e+00,  3.25856795e+00,  2.25712326e+00,\n",
              "         3.51932118e+00,  2.81015880e+00,  3.51742610e+00,\n",
              "         2.98049906e+00,  3.05416597e+00,  2.95583572e+00,\n",
              "         2.98268967e+00,  2.87726926e+00,  2.79643282e+00,\n",
              "         2.42723671e+00,  3.36913334e+00,  1.90912521e+00,\n",
              "         3.27699387e+00,  3.13518474e+00,  3.09509000e+00,\n",
              "         3.51173642e+00,  2.38452867e+00,  1.39723975e+00,\n",
              "         2.08359046e+00,  3.08445713e+00,  4.14521441e+00,\n",
              "         2.75232391e+00,  2.97009726e+00,  2.76854796e+00,\n",
              "         2.57327938e+00,  3.64226238e+00,  2.82500588e+00,\n",
              "         2.35652765e+00,  2.55142825e+00,  3.23384058e+00,\n",
              "         3.62483595e+00,  2.02810172e+00],\n",
              "       [ 1.72141858e+00,  2.41260933e+00,  2.57306863e+00,\n",
              "         3.08604271e+00,  2.73318087e+00,  3.22815156e+00,\n",
              "         3.10935241e+00,  1.29127254e+00,  2.47262428e+00,\n",
              "         2.97497585e+00,  1.99975392e+00,  2.80122176e+00,\n",
              "         2.44453270e+00,  2.47925022e+00,  2.07521420e+00,\n",
              "         2.04660032e+00,  2.74639593e+00,  2.18865028e+00,\n",
              "         3.08954606e+00,  2.48962415e+00,  3.06562234e+00,\n",
              "         2.69181980e+00,  2.65533703e+00,  2.46094440e+00,\n",
              "         2.81270703e+00,  2.64920634e+00,  2.54445710e+00,\n",
              "         2.29861648e+00,  2.97908514e+00,  1.86858566e+00,\n",
              "         2.78137179e+00,  2.77720072e+00,  2.76670582e+00,\n",
              "         2.95132930e+00,  2.18140009e+00,  1.39745492e+00,\n",
              "         2.00448861e+00,  2.64515468e+00,  3.52679482e+00,\n",
              "         2.53997121e+00,  2.63416493e+00,  2.51779087e+00,\n",
              "         2.30491716e+00,  3.14637027e+00,  2.53984546e+00,\n",
              "         2.16931792e+00,  2.29719596e+00,  2.85724191e+00,\n",
              "         3.16989298e+00,  1.85551713e+00],\n",
              "       [-7.77501451e+01, -1.38671643e+02,  4.28778977e+00,\n",
              "        -1.19544749e+02, -7.82351094e+01,  4.55557222e+00,\n",
              "        -5.70846443e+01, -4.03120852e+01, -1.34453104e+02,\n",
              "        -7.73170144e+00, -9.25065501e+01,  1.39264179e+02,\n",
              "         1.13695850e+02,  1.09739148e+02,  1.11673813e+02,\n",
              "         1.68664287e+01,  1.20567165e+02,  1.40576172e+02,\n",
              "         1.12062069e+02,  1.63703136e+02,  6.37674185e+01,\n",
              "         7.35776848e+01,  7.20554827e+01,  5.85466497e+01,\n",
              "         1.29838586e+02,  2.10593636e+01,  1.65024373e+02,\n",
              "         7.84767331e+01,  3.98755389e+01,  2.08551091e+02,\n",
              "         5.78404240e+01,  1.75336084e+02,  4.99902303e+01,\n",
              "         1.78905444e+02,  1.32063479e+02,  1.27894025e+01,\n",
              "         1.06485329e+02, -1.48385810e+02, -5.99484206e+01,\n",
              "        -5.26719803e+00, -1.88909562e+02, -1.08817774e+02,\n",
              "        -1.83443958e+02, -2.59292999e+01, -2.59041664e+02,\n",
              "        -2.31000756e+02, -1.80082925e+02, -2.23298082e+02,\n",
              "        -8.81037767e+01, -1.44571638e+02],\n",
              "       [ 1.63265158e+00,  2.42910136e+00,  2.32481535e+00,\n",
              "         2.86054928e+00,  2.73119932e+00,  2.81270703e+00,\n",
              "         2.89809873e+00,  1.25646448e+00,  2.27632670e+00,\n",
              "         2.78402036e+00,  1.88647397e+00,  2.67121959e+00,\n",
              "         2.26467476e+00,  2.35730437e+00,  1.99442875e+00,\n",
              "         2.00059698e+00,  2.48172810e+00,  2.06405991e+00,\n",
              "         2.82494705e+00,  2.39078756e+00,  2.92709300e+00,\n",
              "         2.60784663e+00,  2.48583754e+00,  2.31372140e+00,\n",
              "         2.97097416e+00,  2.63037741e+00,  2.40486458e+00,\n",
              "         2.31161019e+00,  2.71452315e+00,  1.82302451e+00,\n",
              "         2.62519226e+00,  2.69128589e+00,  2.53086677e+00,\n",
              "         2.76508751e+00,  2.08351705e+00,  1.37068494e+00,\n",
              "         1.88160847e+00,  2.45004137e+00,  3.28617430e+00,\n",
              "         2.55102716e+00,  2.40721470e+00,  2.34259044e+00,\n",
              "         2.27337667e+00,  3.05300608e+00,  2.39096160e+00,\n",
              "         2.12207443e+00,  2.19756786e+00,  2.75836968e+00,\n",
              "         2.86908120e+00,  1.82633559e+00],\n",
              "       [ 1.64949549e+00,  1.96049045e+00,  2.06766411e+00,\n",
              "         2.35815324e+00,  2.23265617e+00,  2.24725135e+00,\n",
              "         2.41158024e+00,  1.12561370e+00,  2.19253253e+00,\n",
              "         2.45802767e+00,  1.82058604e+00,  2.30446105e+00,\n",
              "         2.18501395e+00,  2.22930269e+00,  1.85098842e+00,\n",
              "         1.88236800e+00,  2.40205737e+00,  1.88882545e+00,\n",
              "         2.59136738e+00,  2.16638619e+00,  2.54959336e+00,\n",
              "         2.11832237e+00,  2.28603956e+00,  2.16714834e+00,\n",
              "         2.10144291e+00,  2.24477828e+00,  2.22814147e+00,\n",
              "         1.76741445e+00,  2.51512319e+00,  1.76119529e+00,\n",
              "         2.34166244e+00,  2.13085181e+00,  2.40523061e+00,\n",
              "         2.46863472e+00,  2.02529516e+00,  1.43344575e+00,\n",
              "         1.78655884e+00,  2.29727670e+00,  2.78188278e+00,\n",
              "         2.13368892e+00,  2.17059732e+00,  2.17957387e+00,\n",
              "         2.07947336e+00,  2.47651300e+00,  2.06204972e+00,\n",
              "         1.85949836e+00,  2.17729367e+00,  2.40168853e+00,\n",
              "         2.53707555e+00,  1.61569234e+00],\n",
              "       [ 1.78709804e+00,  2.44504477e+00,  2.57332451e+00,\n",
              "         3.14212704e+00,  2.92722658e+00,  2.99906584e+00,\n",
              "         3.19823459e+00,  1.23832074e+00,  2.65810185e+00,\n",
              "         3.07460124e+00,  2.03167368e+00,  2.96831535e+00,\n",
              "         2.71585624e+00,  2.62485117e+00,  2.08002302e+00,\n",
              "         2.04641350e+00,  3.20225163e+00,  2.21033753e+00,\n",
              "         3.34440468e+00,  2.57655444e+00,  3.32346738e+00,\n",
              "         2.86006178e+00,  2.92640548e+00,  2.82231504e+00,\n",
              "         2.67864039e+00,  2.77045095e+00,  2.65377860e+00,\n",
              "         2.20283363e+00,  3.36983098e+00,  1.84558747e+00,\n",
              "         3.08853079e+00,  2.86300070e+00,  3.01524970e+00,\n",
              "         3.21265335e+00,  2.28948819e+00,  1.36857165e+00,\n",
              "         2.09048787e+00,  2.86685987e+00,  3.58617873e+00,\n",
              "         2.57085114e+00,  2.84578398e+00,  2.70019573e+00,\n",
              "         2.40329590e+00,  3.26872150e+00,  2.66205591e+00,\n",
              "         2.24622252e+00,  2.39382147e+00,  3.03446137e+00,\n",
              "         3.42891442e+00,  1.99167912e+00],\n",
              "       [ 1.58489526e+00,  2.09596421e+00,  2.17023820e+00,\n",
              "         2.49114259e+00,  2.27935952e+00,  2.44157300e+00,\n",
              "         2.46779945e+00,  1.23685923e+00,  2.07033468e+00,\n",
              "         2.45730348e+00,  1.89365678e+00,  2.30932923e+00,\n",
              "         2.09464924e+00,  2.09947247e+00,  1.83793816e+00,\n",
              "         1.92375378e+00,  2.16684272e+00,  1.91533916e+00,\n",
              "         2.50430238e+00,  2.18400412e+00,  2.55573269e+00,\n",
              "         2.20007714e+00,  2.17062879e+00,  1.97590550e+00,\n",
              "         2.52802351e+00,  2.37190134e+00,  2.15857458e+00,\n",
              "         2.09925945e+00,  2.29553900e+00,  1.83511420e+00,\n",
              "         2.25018329e+00,  2.29906813e+00,  2.30269575e+00,\n",
              "         2.46284053e+00,  1.89746366e+00,  1.40544912e+00,\n",
              "         1.80570469e+00,  2.19921802e+00,  2.76258033e+00,\n",
              "         2.27632979e+00,  2.15628702e+00,  2.11964775e+00,\n",
              "         2.09756731e+00,  2.65236927e+00,  2.17969570e+00,\n",
              "         2.00748499e+00,  2.02108194e+00,  2.38201967e+00,\n",
              "         2.44981733e+00,  1.64765005e+00],\n",
              "       [ 1.90625391e+00,  2.76371560e+00,  2.93352981e+00,\n",
              "         3.74522819e+00,  3.22209308e+00,  3.52679482e+00,\n",
              "         3.81908738e+00,  1.29791745e+00,  2.85846599e+00,\n",
              "         3.82155834e+00,  2.11665064e+00,  3.51176573e+00,\n",
              "         2.75416341e+00,  2.87413924e+00,  2.23409614e+00,\n",
              "         2.23080164e+00,  3.43635351e+00,  2.34883956e+00,\n",
              "         3.99019514e+00,  3.14723834e+00,  3.93299097e+00,\n",
              "         3.19998253e+00,  3.22832620e+00,  3.07825461e+00,\n",
              "         3.28617430e+00,  3.13294909e+00,  3.00555057e+00,\n",
              "         2.65470259e+00,  3.68384894e+00,  1.92487989e+00,\n",
              "         3.54694678e+00,  3.43710516e+00,  3.37468993e+00,\n",
              "         3.86634045e+00,  2.45797467e+00,  1.37944438e+00,\n",
              "         2.22316187e+00,  3.49356998e+00,  5.20738652e+00,\n",
              "         3.00169133e+00,  3.30779592e+00,  2.96294080e+00,\n",
              "         2.69348742e+00,  4.12773924e+00,  2.89433043e+00,\n",
              "         2.44508823e+00,  2.85359250e+00,  3.37152472e+00,\n",
              "         3.96326672e+00,  2.07972325e+00],\n",
              "       [ 1.61242080e+00,  1.93536997e+00,  2.21319106e+00,\n",
              "         2.43652467e+00,  2.09392688e+00,  2.34609109e+00,\n",
              "         2.37954323e+00,  1.25245636e+00,  2.23596233e+00,\n",
              "         2.42646816e+00,  1.97940731e+00,  2.27785389e+00,\n",
              "         2.28608070e+00,  2.20207518e+00,  1.87621657e+00,\n",
              "         1.90887767e+00,  2.37742330e+00,  1.98481325e+00,\n",
              "         2.64545504e+00,  2.14654801e+00,  2.59583587e+00,\n",
              "         2.12730629e+00,  2.22373137e+00,  2.09317689e+00,\n",
              "         2.15890734e+00,  2.22315753e+00,  2.13048088e+00,\n",
              "         1.82167709e+00,  2.40528504e+00,  1.82997811e+00,\n",
              "         2.23963052e+00,  2.09932603e+00,  2.42796043e+00,\n",
              "         2.43372509e+00,  1.91595160e+00,  1.40304751e+00,\n",
              "         1.89467662e+00,  2.25033779e+00,  2.63307561e+00,\n",
              "         2.13473559e+00,  2.30562321e+00,  2.15762740e+00,\n",
              "         2.11185410e+00,  2.53545496e+00,  2.11474970e+00,\n",
              "         1.95693473e+00,  2.07202679e+00,  2.33597231e+00,\n",
              "         2.53988684e+00,  1.61727712e+00],\n",
              "       [ 1.63558798e+00,  2.55243176e+00,  2.60850975e+00,\n",
              "         3.36115188e+00,  3.12835805e+00,  3.10984907e+00,\n",
              "         3.55519451e+00,  1.16577250e+00,  2.77975915e+00,\n",
              "         3.70160439e+00,  1.92916558e+00,  3.41853186e+00,\n",
              "         2.76087646e+00,  2.91990115e+00,  2.24826282e+00,\n",
              "         2.01891156e+00,  3.37607321e+00,  2.20830681e+00,\n",
              "         3.89333277e+00,  2.83108699e+00,  4.01772273e+00,\n",
              "         2.96602429e+00,  3.06936965e+00,  3.19647847e+00,\n",
              "         3.07236722e+00,  3.09607003e+00,  2.83881259e+00,\n",
              "         2.39825441e+00,  3.84042001e+00,  1.70976710e+00,\n",
              "         3.44889419e+00,  3.24694892e+00,  3.39964927e+00,\n",
              "         3.69532656e+00,  2.33154628e+00,  1.24917521e+00,\n",
              "         1.92826402e+00,  3.36380854e+00,  4.52296947e+00,\n",
              "         2.74715676e+00,  3.13750952e+00,  2.84376160e+00,\n",
              "         2.57999300e+00,  3.91718953e+00,  2.79078863e+00,\n",
              "         2.20255376e+00,  2.63187356e+00,  3.38215670e+00,\n",
              "         3.83910544e+00,  2.02161045e+00],\n",
              "       [ 1.82409346e+00,  2.52466636e+00,  2.80533003e+00,\n",
              "         3.33615229e+00,  2.93458858e+00,  3.16989298e+00,\n",
              "         3.39610109e+00,  1.33036757e+00,  2.79222756e+00,\n",
              "         3.26664798e+00,  2.13937128e+00,  3.15673873e+00,\n",
              "         2.76793005e+00,  2.71787359e+00,  2.16646172e+00,\n",
              "         2.12929728e+00,  3.24017262e+00,  2.34137497e+00,\n",
              "         3.57203030e+00,  2.76690001e+00,  3.49754871e+00,\n",
              "         2.94348041e+00,  2.98195889e+00,  2.86342516e+00,\n",
              "         2.86908120e+00,  2.89705958e+00,  2.73689281e+00,\n",
              "         2.41308949e+00,  3.39569545e+00,  1.91727818e+00,\n",
              "         3.22556720e+00,  3.03773346e+00,  3.19488586e+00,\n",
              "         3.43927107e+00,  2.33117298e+00,  1.40478170e+00,\n",
              "         2.15658414e+00,  3.06573495e+00,  3.96326672e+00,\n",
              "         2.69147411e+00,  3.05087579e+00,  2.79546340e+00,\n",
              "         2.53554071e+00,  3.52258155e+00,  2.77315994e+00,\n",
              "         2.34380880e+00,  2.50543588e+00,  3.12531906e+00,\n",
              "         3.75462210e+00,  2.02160639e+00],\n",
              "       [ 1.45255924e+00,  2.06475915e+00,  2.03185834e+00,\n",
              "         2.32131853e+00,  2.20000321e+00,  2.29861648e+00,\n",
              "         2.35058892e+00,  1.10686650e+00,  1.91900804e+00,\n",
              "         2.17197984e+00,  1.65079969e+00,  2.23871265e+00,\n",
              "         1.95844617e+00,  1.96620337e+00,  1.66542316e+00,\n",
              "         1.72866363e+00,  2.09136089e+00,  1.82122047e+00,\n",
              "         2.30035948e+00,  1.97424774e+00,  2.34902131e+00,\n",
              "         2.19327460e+00,  2.01883358e+00,  1.90177578e+00,\n",
              "         2.31161019e+00,  2.19394927e+00,  1.99893570e+00,\n",
              "         2.11366893e+00,  2.25765769e+00,  1.57474054e+00,\n",
              "         2.26000210e+00,  2.26263716e+00,  2.13380069e+00,\n",
              "         2.32057432e+00,  1.80755680e+00,  1.25039659e+00,\n",
              "         1.68046469e+00,  1.98542808e+00,  2.65470259e+00,\n",
              "         2.08885140e+00,  1.99806561e+00,  1.94084633e+00,\n",
              "         1.91156303e+00,  2.44756051e+00,  2.05982695e+00,\n",
              "         1.84197959e+00,  1.86733476e+00,  2.28731033e+00,\n",
              "         2.41308949e+00,  1.63328670e+00],\n",
              "       [ 1.47522366e+00,  2.39171173e+00,  2.12957332e+00,\n",
              "         2.83061302e+00,  2.99738340e+00,  2.73269228e+00,\n",
              "         2.87221397e+00,  1.03819317e+00,  2.29610807e+00,\n",
              "         2.59109278e+00,  1.60473642e+00,  2.68231236e+00,\n",
              "         2.34755927e+00,  2.33691917e+00,  1.92625018e+00,\n",
              "         1.75791227e+00,  2.73971183e+00,  1.97170762e+00,\n",
              "         2.80581654e+00,  2.22035035e+00,  2.90403551e+00,\n",
              "         2.67756808e+00,  2.62301816e+00,  2.55157279e+00,\n",
              "         2.73991332e+00,  2.66074731e+00,  2.41445773e+00,\n",
              "         2.23039656e+00,  2.98406750e+00,  1.57573147e+00,\n",
              "         2.84442534e+00,  2.81699452e+00,  2.57287122e+00,\n",
              "         2.80544358e+00,  2.20325698e+00,  1.20576442e+00,\n",
              "         1.69593420e+00,  2.46176824e+00,  3.28238039e+00,\n",
              "         2.45818745e+00,  2.30719951e+00,  2.31811476e+00,\n",
              "         2.24435296e+00,  3.02735244e+00,  2.37747140e+00,\n",
              "         1.95907047e+00,  2.13206564e+00,  3.11695419e+00,\n",
              "         2.99572571e+00,  1.82763103e+00],\n",
              "       [ 1.80161572e+00,  2.82133174e+00,  2.85155579e+00,\n",
              "         3.64278902e+00,  3.27532341e+00,  3.47874693e+00,\n",
              "         3.80911797e+00,  1.27703060e+00,  2.88304413e+00,\n",
              "         3.77188088e+00,  2.11394282e+00,  3.53783288e+00,\n",
              "         2.86817845e+00,  2.97580648e+00,  2.31461996e+00,\n",
              "         2.21984547e+00,  3.47468538e+00,  2.36303142e+00,\n",
              "         3.99779403e+00,  3.08525376e+00,  3.98116805e+00,\n",
              "         3.20473897e+00,  3.24764758e+00,  3.23393862e+00,\n",
              "         3.30445527e+00,  3.18245109e+00,  2.97813335e+00,\n",
              "         2.57577498e+00,  3.82855381e+00,  1.89871620e+00,\n",
              "         3.60748209e+00,  3.42046359e+00,  3.46932328e+00,\n",
              "         3.77771304e+00,  2.49859184e+00,  1.38858819e+00,\n",
              "         2.14181588e+00,  3.43222399e+00,  4.77546500e+00,\n",
              "         2.94862074e+00,  3.24815610e+00,  2.98882091e+00,\n",
              "         2.70851368e+00,  4.02470665e+00,  2.93843997e+00,\n",
              "         2.41345146e+00,  2.78182091e+00,  3.47760499e+00,\n",
              "         3.98017764e+00,  2.12115014e+00],\n",
              "       [ 1.56373704e+00,  2.16555924e+00,  2.23208132e+00,\n",
              "         2.56543617e+00,  2.29071680e+00,  2.46605946e+00,\n",
              "         2.57512322e+00,  1.20891348e+00,  2.33437875e+00,\n",
              "         2.65597153e+00,  1.99401812e+00,  2.60577873e+00,\n",
              "         2.30293175e+00,  2.24350755e+00,  1.84653657e+00,\n",
              "         1.88105270e+00,  2.56425705e+00,  2.13620436e+00,\n",
              "         2.75837765e+00,  2.25176238e+00,  2.71970913e+00,\n",
              "         2.39382331e+00,  2.34184281e+00,  2.40164359e+00,\n",
              "         2.35553221e+00,  2.33919560e+00,  2.24123466e+00,\n",
              "         1.96178803e+00,  2.71042902e+00,  1.75466175e+00,\n",
              "         2.60281703e+00,  2.31907233e+00,  2.57491097e+00,\n",
              "         2.62017246e+00,  2.01096185e+00,  1.42227027e+00,\n",
              "         2.03146932e+00,  2.36601467e+00,  2.97745202e+00,\n",
              "         2.16238262e+00,  2.33039634e+00,  2.39052892e+00,\n",
              "         2.12763662e+00,  2.65819737e+00,  2.29521308e+00,\n",
              "         2.05864385e+00,  2.12857484e+00,  2.39457079e+00,\n",
              "         2.75814758e+00,  1.97014079e+00],\n",
              "       [ 1.77772366e+00,  2.26703973e+00,  2.49615924e+00,\n",
              "         2.94401711e+00,  2.64843083e+00,  2.74639593e+00,\n",
              "         2.93506263e+00,  1.24912430e+00,  2.56490314e+00,\n",
              "         2.84664210e+00,  1.99789928e+00,  2.82094919e+00,\n",
              "         2.61136806e+00,  2.49755828e+00,  1.99039923e+00,\n",
              "         2.00963958e+00,  3.16298959e+00,  2.14529375e+00,\n",
              "         3.22101178e+00,  2.52688739e+00,  3.10715906e+00,\n",
              "         2.63563112e+00,  2.78362719e+00,  2.67034183e+00,\n",
              "         2.48172810e+00,  2.58418695e+00,  2.50096736e+00,\n",
              "         2.09136089e+00,  3.08492491e+00,  1.84395559e+00,\n",
              "         2.94517486e+00,  2.65021062e+00,  2.85493779e+00,\n",
              "         3.10973368e+00,  2.21619430e+00,  1.39061788e+00,\n",
              "         2.06003569e+00,  2.78562470e+00,  3.43635351e+00,\n",
              "         2.43440181e+00,  2.79136937e+00,  2.55529956e+00,\n",
              "         2.35811866e+00,  3.09315903e+00,  2.55068457e+00,\n",
              "         2.19861932e+00,  2.35017567e+00,  2.81876970e+00,\n",
              "         3.24017262e+00,  1.89865893e+00],\n",
              "       [ 1.57480362e+00,  1.91040000e+00,  1.93741411e+00,\n",
              "         2.04540551e+00,  1.94653793e+00,  2.04660032e+00,\n",
              "         2.10607008e+00,  1.12296105e+00,  1.87182512e+00,\n",
              "         2.04142170e+00,  1.76675439e+00,  1.96906208e+00,\n",
              "         1.91182888e+00,  1.91849162e+00,  1.64688569e+00,\n",
              "         1.88655217e+00,  2.00963958e+00,  1.74963861e+00,\n",
              "         2.14378643e+00,  1.96032167e+00,  2.12236583e+00,\n",
              "         1.93347687e+00,  1.95063469e+00,  1.77720246e+00,\n",
              "         2.00059698e+00,  1.95826810e+00,  1.91112980e+00,\n",
              "         1.72866363e+00,  2.04748778e+00,  1.72957044e+00,\n",
              "         2.00862099e+00,  1.86992296e+00,  1.99532931e+00,\n",
              "         2.08467129e+00,  1.79954298e+00,  1.45022250e+00,\n",
              "         1.74856470e+00,  1.88841849e+00,  2.23080164e+00,\n",
              "         1.95919378e+00,  1.87888970e+00,  1.91042476e+00,\n",
              "         1.89980155e+00,  2.13805670e+00,  1.89580978e+00,\n",
              "         1.81020269e+00,  1.87479002e+00,  2.01915831e+00,\n",
              "         2.12929728e+00,  1.54220944e+00],\n",
              "       [ 1.68539331e+00,  2.15694605e+00,  2.51646143e+00,\n",
              "         2.67670942e+00,  2.25666155e+00,  2.57306863e+00,\n",
              "         2.64756208e+00,  1.31102160e+00,  2.30385581e+00,\n",
              "         2.58084097e+00,  2.01480002e+00,  2.49590204e+00,\n",
              "         2.26106515e+00,  2.28355583e+00,  1.90090779e+00,\n",
              "         1.93741411e+00,  2.49615924e+00,  2.12567371e+00,\n",
              "         2.76607936e+00,  2.32675462e+00,  2.72105655e+00,\n",
              "         2.41420460e+00,  2.32935867e+00,  2.17822402e+00,\n",
              "         2.32481535e+00,  2.38054042e+00,  2.24746299e+00,\n",
              "         2.03185834e+00,  2.56834458e+00,  1.81696148e+00,\n",
              "         2.49242751e+00,  2.33291367e+00,  2.55031205e+00,\n",
              "         2.60353709e+00,  1.98938959e+00,  1.39975516e+00,\n",
              "         2.00523700e+00,  2.33402377e+00,  2.93352981e+00,\n",
              "         2.25377295e+00,  2.44506316e+00,  2.25860936e+00,\n",
              "         2.16091099e+00,  2.72062764e+00,  2.27131807e+00,\n",
              "         2.05476145e+00,  2.15140780e+00,  2.42135184e+00,\n",
              "         2.80533003e+00,  1.73993141e+00],\n",
              "       [ 1.66107282e+00,  2.21957631e+00,  2.25377295e+00,\n",
              "         2.65912810e+00,  2.54359334e+00,  2.53997121e+00,\n",
              "         2.70583249e+00,  1.18878767e+00,  2.18451778e+00,\n",
              "         2.55866345e+00,  1.84696840e+00,  2.41943927e+00,\n",
              "         2.21024040e+00,  2.27715492e+00,  1.90041684e+00,\n",
              "         1.95919378e+00,  2.43440181e+00,  1.92490341e+00,\n",
              "         2.68338787e+00,  2.30015786e+00,  2.71261277e+00,\n",
              "         2.39406540e+00,  2.38334769e+00,  2.18041302e+00,\n",
              "         2.55102716e+00,  2.51149329e+00,  2.30358359e+00,\n",
              "         2.08885140e+00,  2.57434333e+00,  1.78486367e+00,\n",
              "         2.47540622e+00,  2.46346306e+00,  2.40479583e+00,\n",
              "         2.61799174e+00,  2.04228017e+00,  1.33793517e+00,\n",
              "         1.85036890e+00,  2.35281670e+00,  3.00169133e+00,\n",
              "         2.56645947e+00,  2.31311247e+00,  2.19204743e+00,\n",
              "         2.21115024e+00,  2.84851091e+00,  2.24417209e+00,\n",
              "         2.00299213e+00,  2.12980692e+00,  2.61370459e+00,\n",
              "         2.69147411e+00,  1.66115853e+00],\n",
              "       [ 1.65637668e+00,  2.30038536e+00,  2.38054042e+00,\n",
              "         2.84891556e+00,  2.60072125e+00,  2.64920634e+00,\n",
              "         2.78124527e+00,  1.29365268e+00,  2.34352626e+00,\n",
              "         2.76574275e+00,  1.97135320e+00,  2.62321314e+00,\n",
              "         2.36637537e+00,  2.42594687e+00,  2.03575457e+00,\n",
              "         1.95826810e+00,  2.58418695e+00,  2.10310804e+00,\n",
              "         2.91455022e+00,  2.33103604e+00,  2.99874121e+00,\n",
              "         2.55722675e+00,  2.46480665e+00,  2.34119100e+00,\n",
              "         2.63037741e+00,  2.79984620e+00,  2.40325017e+00,\n",
              "         2.19394927e+00,  2.76305598e+00,  1.81447669e+00,\n",
              "         2.61218594e+00,  2.57216728e+00,  2.65732318e+00,\n",
              "         2.74361361e+00,  2.10097941e+00,  1.37784108e+00,\n",
              "         1.93937906e+00,  2.45549500e+00,  3.13294909e+00,\n",
              "         2.51149329e+00,  2.49240757e+00,  2.32536418e+00,\n",
              "         2.26705859e+00,  2.98971791e+00,  2.35519920e+00,\n",
              "         2.08531323e+00,  2.24076342e+00,  2.76961532e+00,\n",
              "         2.89705958e+00,  1.77964329e+00],\n",
              "       [ 1.76726321e+00,  2.51892459e+00,  2.64756208e+00,\n",
              "         3.19040642e+00,  2.90770601e+00,  3.10935241e+00,\n",
              "         3.45478405e+00,  1.25189216e+00,  2.54260384e+00,\n",
              "         3.15343563e+00,  2.00456342e+00,  2.95797733e+00,\n",
              "         2.53827473e+00,  2.64112286e+00,  2.10983772e+00,\n",
              "         2.10607008e+00,  2.93506263e+00,  2.18652534e+00,\n",
              "         3.30906557e+00,  2.68877551e+00,  3.30520674e+00,\n",
              "         2.88112937e+00,  2.83410429e+00,  2.67507904e+00,\n",
              "         2.89809873e+00,  2.78124527e+00,  2.64731308e+00,\n",
              "         2.35058892e+00,  3.19861764e+00,  1.88019743e+00,\n",
              "         3.03245724e+00,  2.94331217e+00,  2.90663361e+00,\n",
              "         3.17795029e+00,  2.27125849e+00,  1.37179668e+00,\n",
              "         2.03251052e+00,  2.86875477e+00,  3.81908738e+00,\n",
              "         2.70583249e+00,  2.79453042e+00,  2.62125166e+00,\n",
              "         2.45329448e+00,  3.38959503e+00,  2.66719375e+00,\n",
              "         2.25081854e+00,  2.39921118e+00,  2.99549870e+00,\n",
              "         3.39610109e+00,  1.90216057e+00],\n",
              "       [ 1.45414751e+00,  1.75549278e+00,  1.91605207e+00,\n",
              "         1.92239037e+00,  1.55957831e+00,  1.86242503e+00,\n",
              "         1.78050453e+00,  1.30555727e+00,  1.90761703e+00,\n",
              "         1.95029736e+00,  2.05142281e+00,  1.92914899e+00,\n",
              "         1.80196721e+00,  1.83907961e+00,  1.63932681e+00,\n",
              "         1.69341896e+00,  1.74794562e+00,  1.96216406e+00,\n",
              "         1.96135010e+00,  1.77137145e+00,  2.00958382e+00,\n",
              "         1.81687114e+00,  1.67375864e+00,  1.59586237e+00,\n",
              "         1.78589895e+00,  1.85209103e+00,  1.72722621e+00,\n",
              "         1.57144329e+00,  1.75773483e+00,  1.72213316e+00,\n",
              "         1.67583702e+00,  1.51794113e+00,  2.04071669e+00,\n",
              "         1.76675835e+00,  1.60957623e+00,  1.50722464e+00,\n",
              "         1.84097811e+00,  1.59378049e+00,  1.85615412e+00,\n",
              "         1.67940789e+00,  1.76150647e+00,  1.81741233e+00,\n",
              "         1.70921949e+00,  1.88187758e+00,  1.70566047e+00,\n",
              "         1.74316834e+00,  1.77905553e+00,  1.69093839e+00,\n",
              "         1.91991745e+00,  1.60764954e+00],\n",
              "       [ 1.50444484e+00,  1.69313875e+00,  1.81696148e+00,\n",
              "         1.89119585e+00,  1.77704723e+00,  1.86858566e+00,\n",
              "         1.88019743e+00,  1.21169033e+00,  1.85605630e+00,\n",
              "         1.81637188e+00,  1.75126860e+00,  1.86550389e+00,\n",
              "         1.87269653e+00,  1.79613015e+00,  1.57170875e+00,\n",
              "         1.72957044e+00,  1.84395559e+00,  1.77469203e+00,\n",
              "         1.93552526e+00,  1.79160297e+00,  1.90529885e+00,\n",
              "         1.73621811e+00,  1.85167359e+00,  1.64744526e+00,\n",
              "         1.82302451e+00,  1.81447669e+00,  1.79323867e+00,\n",
              "         1.57474054e+00,  1.83580162e+00,  1.88849537e+00,\n",
              "         1.77318516e+00,  1.65534214e+00,  1.83450901e+00,\n",
              "         1.85790462e+00,  1.70140897e+00,  1.51100184e+00,\n",
              "         1.71705457e+00,  1.70932831e+00,  1.92487989e+00,\n",
              "         1.78486367e+00,  1.70921327e+00,  1.86022800e+00,\n",
              "         1.82006550e+00,  1.91522557e+00,  1.83582694e+00,\n",
              "         1.73874871e+00,  1.73373227e+00,  1.87183304e+00,\n",
              "         1.91727818e+00,  1.48396292e+00],\n",
              "       [ 1.69448627e+00,  2.35042897e+00,  2.49590204e+00,\n",
              "         2.98642947e+00,  2.62514286e+00,  2.80122176e+00,\n",
              "         2.95797733e+00,  1.34794542e+00,  2.53500174e+00,\n",
              "         2.96376679e+00,  2.02036445e+00,  3.03630916e+00,\n",
              "         2.50989189e+00,  2.47149451e+00,  2.01992767e+00,\n",
              "         1.96906208e+00,  2.82094919e+00,  2.28960325e+00,\n",
              "         3.14228128e+00,  2.50131937e+00,  3.15219420e+00,\n",
              "         2.70913907e+00,  2.66257692e+00,  2.55042247e+00,\n",
              "         2.67121959e+00,  2.62321314e+00,  2.49505047e+00,\n",
              "         2.23871265e+00,  3.00293304e+00,  1.86550389e+00,\n",
              "         2.86490063e+00,  2.68471538e+00,  2.84592121e+00,\n",
              "         2.99111179e+00,  2.16742878e+00,  1.43361623e+00,\n",
              "         2.05734919e+00,  2.66740283e+00,  3.51176573e+00,\n",
              "         2.41943927e+00,  2.69783288e+00,  2.55828488e+00,\n",
              "         2.31752403e+00,  3.15820146e+00,  2.56609098e+00,\n",
              "         2.23461730e+00,  2.33063155e+00,  2.78115068e+00,\n",
              "         3.15673873e+00,  2.02734166e+00],\n",
              "       [ 1.30784077e+00,  1.39135390e+00,  1.39975516e+00,\n",
              "         1.33451410e+00,  1.35966332e+00,  1.39745492e+00,\n",
              "         1.37179668e+00,  9.57665882e-01,  1.40868837e+00,\n",
              "         1.35421743e+00,  1.45765814e+00,  1.43361623e+00,\n",
              "         1.41423068e+00,  1.34987349e+00,  1.20815515e+00,\n",
              "         1.45022250e+00,  1.39061788e+00,  1.46547187e+00,\n",
              "         1.36525982e+00,  1.42671494e+00,  1.33928424e+00,\n",
              "         1.38598524e+00,  1.40078578e+00,  1.26046089e+00,\n",
              "         1.37068494e+00,  1.37784108e+00,  1.41335900e+00,\n",
              "         1.25039659e+00,  1.43409050e+00,  1.51100184e+00,\n",
              "         1.42076124e+00,  1.21179972e+00,  1.37250029e+00,\n",
              "         1.40641689e+00,  1.44490052e+00,  1.57217700e+00,\n",
              "         1.49259018e+00,  1.23806619e+00,  1.37944438e+00,\n",
              "         1.33793517e+00,  1.20131296e+00,  1.54584514e+00,\n",
              "         1.41206724e+00,  1.34005025e+00,  1.42797311e+00,\n",
              "         1.49557601e+00,  1.39422850e+00,  1.35979107e+00,\n",
              "         1.40478170e+00,  1.31581776e+00],\n",
              "       [ 1.58806655e+00,  1.95628291e+00,  2.05476145e+00,\n",
              "         2.24590746e+00,  2.08665892e+00,  2.16931792e+00,\n",
              "         2.25081854e+00,  1.20021551e+00,  2.01143184e+00,\n",
              "         2.16504123e+00,  1.82103097e+00,  2.23461730e+00,\n",
              "         2.04471687e+00,  1.97288874e+00,  1.66924629e+00,\n",
              "         1.81020269e+00,  2.19861932e+00,  1.94065833e+00,\n",
              "         2.30124699e+00,  2.07513162e+00,  2.28740336e+00,\n",
              "         2.18649198e+00,  2.12219894e+00,  1.97797797e+00,\n",
              "         2.12207443e+00,  2.08531323e+00,  2.01619339e+00,\n",
              "         1.84197959e+00,  2.28288240e+00,  1.73874871e+00,\n",
              "         2.26524059e+00,  2.03894431e+00,  2.19119634e+00,\n",
              "         2.27531044e+00,  1.89105879e+00,  1.49557601e+00,\n",
              "         1.88310527e+00,  1.99235969e+00,  2.44508823e+00,\n",
              "         2.00299213e+00,  2.01517677e+00,  2.07535233e+00,\n",
              "         1.98319304e+00,  2.33148893e+00,  2.08606035e+00,\n",
              "         2.05849036e+00,  1.92198545e+00,  2.13104256e+00,\n",
              "         2.34380880e+00,  1.73479355e+00],\n",
              "       [ 1.74206119e+00,  2.37287289e+00,  2.55293285e+00,\n",
              "         3.03676043e+00,  2.68988407e+00,  2.84422192e+00,\n",
              "         3.12337440e+00,  1.27219498e+00,  2.42631034e+00,\n",
              "         2.83387452e+00,  1.95706329e+00,  2.79388565e+00,\n",
              "         2.55722304e+00,  2.52654988e+00,  1.99517942e+00,\n",
              "         2.10605097e+00,  2.76691949e+00,  2.13604277e+00,\n",
              "         3.09332534e+00,  2.50308771e+00,  3.20420023e+00,\n",
              "         2.75836080e+00,  2.69786621e+00,  2.53138010e+00,\n",
              "         2.76352656e+00,  2.69175263e+00,  2.50983028e+00,\n",
              "         2.36604269e+00,  2.94667716e+00,  1.90674258e+00,\n",
              "         2.85166446e+00,  2.85787165e+00,  2.73098664e+00,\n",
              "         2.95222547e+00,  2.16744861e+00,  1.38354815e+00,\n",
              "         2.01372178e+00,  2.66136069e+00,  3.44520359e+00,\n",
              "         2.60645607e+00,  2.68646849e+00,  2.43735002e+00,\n",
              "         2.41820753e+00,  3.27399631e+00,  2.61404051e+00,\n",
              "         2.23127192e+00,  2.28335501e+00,  2.93965424e+00,\n",
              "         3.14857381e+00,  1.84473895e+00],\n",
              "       [ 1.56639390e+00,  2.01660806e+00,  2.37202895e+00,\n",
              "         2.82394108e+00,  2.38694438e+00,  2.65689699e+00,\n",
              "         2.74728390e+00,  1.19491193e+00,  2.52804587e+00,\n",
              "         2.79877757e+00,  1.92749687e+00,  2.63340756e+00,\n",
              "         2.59490441e+00,  2.40098274e+00,  1.96667168e+00,\n",
              "         1.86905892e+00,  2.89566491e+00,  1.99192551e+00,\n",
              "         3.19694029e+00,  2.27814158e+00,  3.04710106e+00,\n",
              "         2.35805225e+00,  2.55614981e+00,  2.48333724e+00,\n",
              "         2.30993672e+00,  2.47729319e+00,  2.34849712e+00,\n",
              "         1.92142217e+00,  2.92109498e+00,  1.72242487e+00,\n",
              "         2.65526687e+00,  2.48720217e+00,  2.79002948e+00,\n",
              "         2.92962453e+00,  2.03215229e+00,  1.22241931e+00,\n",
              "         1.82627595e+00,  2.71787426e+00,  3.23218048e+00,\n",
              "         2.28565550e+00,  2.75372638e+00,  2.39372983e+00,\n",
              "         2.22416818e+00,  2.95200451e+00,  2.35938448e+00,\n",
              "         1.98596073e+00,  2.18232327e+00,  2.72603818e+00,\n",
              "         3.11164410e+00,  1.63316035e+00],\n",
              "       [ 1.55238996e+00,  1.92490373e+00,  2.12567371e+00,\n",
              "         2.28892807e+00,  1.98283273e+00,  2.18865028e+00,\n",
              "         2.18652534e+00,  1.30326032e+00,  2.16380931e+00,\n",
              "         2.24381476e+00,  1.94362830e+00,  2.28960325e+00,\n",
              "         2.07662530e+00,  2.02266900e+00,  1.73535966e+00,\n",
              "         1.74963861e+00,  2.14529375e+00,  2.22918944e+00,\n",
              "         2.29304258e+00,  1.99762106e+00,  2.33010297e+00,\n",
              "         2.15539680e+00,  2.03256167e+00,  1.94362040e+00,\n",
              "         2.06405991e+00,  2.10310804e+00,  2.01950289e+00,\n",
              "         1.82122047e+00,  2.20466761e+00,  1.77469203e+00,\n",
              "         2.11868736e+00,  1.94630924e+00,  2.26585992e+00,\n",
              "         2.18288936e+00,  1.82735819e+00,  1.46547187e+00,\n",
              "         1.91381699e+00,  1.91075068e+00,  2.34883956e+00,\n",
              "         1.92490341e+00,  2.03050148e+00,  2.07247979e+00,\n",
              "         1.95191017e+00,  2.28476451e+00,  2.03839555e+00,\n",
              "         1.94065833e+00,  1.93250364e+00,  2.12583522e+00,\n",
              "         2.34137497e+00,  1.83545623e+00],\n",
              "       [ 1.65889003e+00,  2.06549917e+00,  2.15140780e+00,\n",
              "         2.44822004e+00,  2.19019667e+00,  2.29719596e+00,\n",
              "         2.39921118e+00,  1.18883217e+00,  2.12349884e+00,\n",
              "         2.50264908e+00,  1.87286764e+00,  2.33063155e+00,\n",
              "         2.07920693e+00,  2.18721396e+00,  1.80146681e+00,\n",
              "         1.87479002e+00,  2.35017567e+00,  1.93250364e+00,\n",
              "         2.59057065e+00,  2.22011118e+00,  2.59450976e+00,\n",
              "         2.21641279e+00,  2.22332447e+00,  2.09151894e+00,\n",
              "         2.19756786e+00,  2.24076342e+00,  2.16928124e+00,\n",
              "         1.86733476e+00,  2.39978419e+00,  1.73373227e+00,\n",
              "         2.32815547e+00,  2.13824662e+00,  2.37074297e+00,\n",
              "         2.47203541e+00,  1.94432675e+00,  1.39422850e+00,\n",
              "         1.86976234e+00,  2.22975378e+00,  2.85359250e+00,\n",
              "         2.12980692e+00,  2.21740409e+00,  2.14283415e+00,\n",
              "         2.04617402e+00,  2.52522651e+00,  2.05371264e+00,\n",
              "         1.92198545e+00,  2.26058122e+00,  2.29374339e+00,\n",
              "         2.50543588e+00,  1.67242057e+00],\n",
              "       [ 1.75105949e+00,  2.44216987e+00,  2.56834458e+00,\n",
              "         3.09367349e+00,  2.86309153e+00,  2.97908514e+00,\n",
              "         3.19861764e+00,  1.24128716e+00,  2.60464617e+00,\n",
              "         3.14438076e+00,  2.00553689e+00,  3.00293304e+00,\n",
              "         2.66885257e+00,  2.61116212e+00,  2.07928698e+00,\n",
              "         2.04748778e+00,  3.08492491e+00,  2.20466761e+00,\n",
              "         3.37576444e+00,  2.59019577e+00,  3.33923484e+00,\n",
              "         2.84122593e+00,  2.84629175e+00,  2.78311894e+00,\n",
              "         2.71452315e+00,  2.76305598e+00,  2.62357414e+00,\n",
              "         2.25765769e+00,  3.44909402e+00,  1.83580162e+00,\n",
              "         3.11301761e+00,  2.85964692e+00,  2.98637844e+00,\n",
              "         3.18700798e+00,  2.32468794e+00,  1.43409050e+00,\n",
              "         2.06510149e+00,  2.89682570e+00,  3.68384894e+00,\n",
              "         2.57434333e+00,  2.84550102e+00,  2.67090664e+00,\n",
              "         2.39966970e+00,  3.30784871e+00,  2.64842562e+00,\n",
              "         2.28288240e+00,  2.39978419e+00,  3.02929868e+00,\n",
              "         3.39569545e+00,  1.97425721e+00],\n",
              "       [ 1.81068184e+00,  2.49858233e+00,  2.83018844e+00,\n",
              "         3.53765232e+00,  2.77263216e+00,  3.19623812e+00,\n",
              "         3.36494960e+00,  1.44462887e+00,  2.75135421e+00,\n",
              "         3.46107094e+00,  2.20365847e+00,  3.16401335e+00,\n",
              "         2.67456387e+00,  2.74895686e+00,  2.23579803e+00,\n",
              "         2.13882125e+00,  3.15560953e+00,  2.32838998e+00,\n",
              "         3.66645814e+00,  2.85541415e+00,  3.71583938e+00,\n",
              "         2.94628882e+00,  2.90595818e+00,  2.74913067e+00,\n",
              "         2.94675512e+00,  2.88644995e+00,  2.67651128e+00,\n",
              "         2.32688924e+00,  3.22409140e+00,  1.92544638e+00,\n",
              "         3.02352172e+00,  2.93377269e+00,  3.15583182e+00,\n",
              "         3.37024864e+00,  2.24985944e+00,  1.33265597e+00,\n",
              "         2.16339948e+00,  3.08123888e+00,  4.09744188e+00,\n",
              "         2.72340941e+00,  3.20666075e+00,  2.67221625e+00,\n",
              "         2.50410187e+00,  3.70105931e+00,  2.69250121e+00,\n",
              "         2.33916908e+00,  2.56724331e+00,  3.03249109e+00,\n",
              "         3.55421333e+00,  1.95506738e+00],\n",
              "       [ 1.56732711e+00,  1.84919236e+00,  2.00523700e+00,\n",
              "         2.08304725e+00,  1.84284525e+00,  2.00448861e+00,\n",
              "         2.03251052e+00,  1.18768804e+00,  1.93090841e+00,\n",
              "         2.01094187e+00,  1.86783449e+00,  2.05734919e+00,\n",
              "         1.91431410e+00,  1.87968246e+00,  1.57834683e+00,\n",
              "         1.74856470e+00,  2.06003569e+00,  1.91381699e+00,\n",
              "         2.12771832e+00,  1.96351769e+00,  2.10045389e+00,\n",
              "         2.00868505e+00,  1.94391210e+00,  1.86227167e+00,\n",
              "         1.88160847e+00,  1.93937906e+00,  1.89454057e+00,\n",
              "         1.68046469e+00,  2.06510149e+00,  1.71705457e+00,\n",
              "         2.04515591e+00,  1.80962177e+00,  2.07443607e+00,\n",
              "         2.06748876e+00,  1.75332723e+00,  1.49259018e+00,\n",
              "         2.05771351e+00,  1.83240454e+00,  2.22316187e+00,\n",
              "         1.85036890e+00,  1.89029562e+00,  1.99948927e+00,\n",
              "         1.84932476e+00,  2.08662517e+00,  1.93042180e+00,\n",
              "         1.88310527e+00,  1.86976234e+00,  1.90308832e+00,\n",
              "         2.15658414e+00,  1.68510906e+00],\n",
              "       [ 9.49232455e-01,  1.49189599e+00,  1.65827960e+00,\n",
              "         2.22526041e+00,  1.99517065e+00,  2.08762530e+00,\n",
              "         2.27722016e+00,  6.69689922e-01,  1.89654840e+00,\n",
              "         2.28006999e+00,  1.08461749e+00,  2.21856379e+00,\n",
              "         1.77577901e+00,  1.74041725e+00,  1.30388756e+00,\n",
              "         1.11336174e+00,  2.36634780e+00,  1.30611452e+00,\n",
              "         2.56446250e+00,  1.74923810e+00,  2.46083840e+00,\n",
              "         1.86181731e+00,  2.06518631e+00,  2.13146235e+00,\n",
              "         1.81700756e+00,  1.84719078e+00,  1.82584677e+00,\n",
              "         1.44056945e+00,  2.45276512e+00,  9.20770601e-01,\n",
              "         2.29369480e+00,  2.15567626e+00,  2.21431420e+00,\n",
              "         2.55644972e+00,  1.51107237e+00,  6.19669295e-01,\n",
              "         1.08491932e+00,  2.26074032e+00,  3.11999582e+00,\n",
              "         1.61251127e+00,  2.08216066e+00,  1.84713382e+00,\n",
              "         1.50439453e+00,  2.44131377e+00,  1.78736890e+00,\n",
              "         1.30777219e+00,  1.64451942e+00,  2.21845748e+00,\n",
              "         2.69262532e+00,  1.20720425e+00],\n",
              "       [ 1.55144852e+00,  2.07361031e+00,  2.20881123e+00,\n",
              "         2.67643950e+00,  2.44718519e+00,  2.54933643e+00,\n",
              "         2.74330960e+00,  1.09287743e+00,  2.20426370e+00,\n",
              "         2.61306363e+00,  1.74038146e+00,  2.50674203e+00,\n",
              "         2.22952955e+00,  2.22427562e+00,  1.77790802e+00,\n",
              "         1.85235236e+00,  2.54735451e+00,  1.89671055e+00,\n",
              "         2.81506346e+00,  2.32384796e+00,  2.78240218e+00,\n",
              "         2.38094860e+00,  2.42963841e+00,  2.30392974e+00,\n",
              "         2.47734968e+00,  2.37458288e+00,  2.28754072e+00,\n",
              "         2.02552233e+00,  2.64734212e+00,  1.65926416e+00,\n",
              "         2.56000950e+00,  2.48383794e+00,  2.47796053e+00,\n",
              "         2.74793007e+00,  1.94259643e+00,  1.24583870e+00,\n",
              "         1.77750276e+00,  2.46640670e+00,  3.24434384e+00,\n",
              "         2.31192553e+00,  2.38190096e+00,  2.27305609e+00,\n",
              "         2.18211260e+00,  2.88810356e+00,  2.22887483e+00,\n",
              "         1.98153431e+00,  2.11035921e+00,  2.54999707e+00,\n",
              "         2.86810808e+00,  1.66123961e+00],\n",
              "       [ 1.39410828e+00,  1.79415330e+00,  1.90090779e+00,\n",
              "         2.16945995e+00,  1.90918070e+00,  2.07521420e+00,\n",
              "         2.10983772e+00,  1.14563871e+00,  1.91742222e+00,\n",
              "         2.12950552e+00,  1.67281781e+00,  2.01992767e+00,\n",
              "         1.91600181e+00,  2.01202093e+00,  1.80843911e+00,\n",
              "         1.64688569e+00,  1.99039923e+00,  1.73535966e+00,\n",
              "         2.23799965e+00,  1.78961856e+00,  2.28878522e+00,\n",
              "         1.94270876e+00,  1.89472564e+00,  1.76634211e+00,\n",
              "         1.99442875e+00,  2.03575457e+00,  1.88029434e+00,\n",
              "         1.66542316e+00,  2.07928698e+00,  1.57170875e+00,\n",
              "         1.94007751e+00,  1.88419742e+00,  2.06375684e+00,\n",
              "         2.03961066e+00,  1.76380614e+00,  1.20815515e+00,\n",
              "         1.57834683e+00,  1.87750505e+00,  2.23409614e+00,\n",
              "         1.90041684e+00,  1.95209327e+00,  1.81324030e+00,\n",
              "         1.81306171e+00,  2.18409059e+00,  1.90490062e+00,\n",
              "         1.66924629e+00,  1.80146681e+00,  2.10438881e+00,\n",
              "         2.16646172e+00,  1.44132428e+00],\n",
              "       [ 1.62974638e+00,  2.14705234e+00,  2.28355583e+00,\n",
              "         2.63296365e+00,  2.31567647e+00,  2.47925022e+00,\n",
              "         2.64112286e+00,  1.26639354e+00,  2.28299317e+00,\n",
              "         2.61315756e+00,  1.93714024e+00,  2.47149451e+00,\n",
              "         2.30286361e+00,  2.45910042e+00,  2.01202093e+00,\n",
              "         1.91849162e+00,  2.49755828e+00,  2.02266900e+00,\n",
              "         2.77723935e+00,  2.21440485e+00,  2.82989365e+00,\n",
              "         2.38363399e+00,  2.33775371e+00,  2.23903439e+00,\n",
              "         2.35730437e+00,  2.42594687e+00,  2.26197921e+00,\n",
              "         1.96620337e+00,  2.61116212e+00,  1.79613015e+00,\n",
              "         2.44316098e+00,  2.31349590e+00,  2.53372572e+00,\n",
              "         2.56569958e+00,  2.05004069e+00,  1.34987349e+00,\n",
              "         1.87968246e+00,  2.35693343e+00,  2.87413924e+00,\n",
              "         2.27715492e+00,  2.41100558e+00,  2.21412107e+00,\n",
              "         2.17606394e+00,  2.72249027e+00,  2.27659170e+00,\n",
              "         1.97288874e+00,  2.18721396e+00,  2.52791008e+00,\n",
              "         2.71787359e+00,  1.70928003e+00],\n",
              "       [ 1.65576112e+00,  2.11611886e+00,  2.25860936e+00,\n",
              "         2.58682350e+00,  2.36684436e+00,  2.51779087e+00,\n",
              "         2.62125166e+00,  1.21190552e+00,  2.31172438e+00,\n",
              "         2.60207270e+00,  1.95470038e+00,  2.55828488e+00,\n",
              "         2.30661461e+00,  2.21412107e+00,  1.81324030e+00,\n",
              "         1.91042476e+00,  2.55529956e+00,  2.07247979e+00,\n",
              "         2.74462145e+00,  2.29688158e+00,  2.68663352e+00,\n",
              "         2.35170242e+00,  2.43746946e+00,  2.33910104e+00,\n",
              "         2.34259044e+00,  2.32536418e+00,  2.29152734e+00,\n",
              "         1.94084633e+00,  2.67090664e+00,  1.86022800e+00,\n",
              "         2.53462713e+00,  2.32966541e+00,  2.53001720e+00,\n",
              "         2.64896022e+00,  2.00493771e+00,  1.54584514e+00,\n",
              "         1.99948927e+00,  2.39506597e+00,  2.96294080e+00,\n",
              "         2.19204743e+00,  2.33710005e+00,  2.50849964e+00,\n",
              "         2.16320464e+00,  2.66663520e+00,  2.28905783e+00,\n",
              "         2.07535233e+00,  2.14283415e+00,  2.46223341e+00,\n",
              "         2.79546340e+00,  1.81925792e+00],\n",
              "       [ 1.69406714e+00,  2.25812774e+00,  2.55031205e+00,\n",
              "         2.97540589e+00,  2.51284661e+00,  2.76670582e+00,\n",
              "         2.90663361e+00,  1.31814020e+00,  2.57846307e+00,\n",
              "         2.99834062e+00,  2.16431960e+00,  2.84592121e+00,\n",
              "         2.55396005e+00,  2.53372572e+00,  2.06375684e+00,\n",
              "         1.99532931e+00,  2.85493779e+00,  2.26585992e+00,\n",
              "         3.21487328e+00,  2.50502699e+00,  3.21566438e+00,\n",
              "         2.63323322e+00,  2.63678334e+00,  2.57440729e+00,\n",
              "         2.53086677e+00,  2.65732318e+00,  2.48025751e+00,\n",
              "         2.13380069e+00,  2.98637844e+00,  1.83450901e+00,\n",
              "         2.81313930e+00,  2.59307091e+00,  3.10183689e+00,\n",
              "         2.97406886e+00,  2.13941078e+00,  1.37250029e+00,\n",
              "         2.07443607e+00,  2.71153544e+00,  3.37468993e+00,\n",
              "         2.40479583e+00,  2.75366589e+00,  2.53001720e+00,\n",
              "         2.33178038e+00,  3.08922115e+00,  2.45923363e+00,\n",
              "         2.19119634e+00,  2.37074297e+00,  2.77165714e+00,\n",
              "         3.19488586e+00,  1.90563787e+00],\n",
              "       [ 1.62849607e+00,  1.78355528e+00,  1.75296562e+00,\n",
              "         1.83578270e+00,  1.84819355e+00,  1.83366258e+00,\n",
              "         1.85362514e+00,  1.04509297e+00,  1.76953256e+00,\n",
              "         1.87396389e+00,  1.66165210e+00,  1.82137700e+00,\n",
              "         1.74991919e+00,  1.77714045e+00,  1.51925182e+00,\n",
              "         1.76266734e+00,  1.94550059e+00,  1.68845808e+00,\n",
              "         1.92771947e+00,  1.89510238e+00,  1.85355084e+00,\n",
              "         1.78836321e+00,  1.83876267e+00,  1.69003081e+00,\n",
              "         1.76984590e+00,  1.79696843e+00,  1.87142220e+00,\n",
              "         1.57891156e+00,  1.87827058e+00,  1.62347587e+00,\n",
              "         1.89446884e+00,  1.65762151e+00,  1.86394872e+00,\n",
              "         2.01255637e+00,  1.75638291e+00,  1.48941365e+00,\n",
              "         1.70226564e+00,  1.71248517e+00,  2.10354363e+00,\n",
              "         1.77996440e+00,  1.66367634e+00,  1.82366797e+00,\n",
              "         1.79775967e+00,  1.89893730e+00,  1.70616304e+00,\n",
              "         1.72196085e+00,  1.88301362e+00,  1.82176675e+00,\n",
              "         1.94405073e+00,  1.55793859e+00],\n",
              "       [ 1.60831138e+00,  2.04021804e+00,  2.26106515e+00,\n",
              "         2.59739276e+00,  2.29588957e+00,  2.44453270e+00,\n",
              "         2.53827473e+00,  1.29320183e+00,  2.39311076e+00,\n",
              "         2.45013086e+00,  1.94345640e+00,  2.50989189e+00,\n",
              "         2.60391084e+00,  2.30286361e+00,  1.91600181e+00,\n",
              "         1.91182888e+00,  2.61136806e+00,  2.07662530e+00,\n",
              "         2.81066730e+00,  2.15571187e+00,  2.75862577e+00,\n",
              "         2.32673873e+00,  2.39627055e+00,  2.30802805e+00,\n",
              "         2.26467476e+00,  2.36637537e+00,  2.24241411e+00,\n",
              "         1.95844617e+00,  2.66885257e+00,  1.87269653e+00,\n",
              "         2.50612711e+00,  2.34027492e+00,  2.55396005e+00,\n",
              "         2.60483552e+00,  2.05145531e+00,  1.41423068e+00,\n",
              "         1.91431410e+00,  2.37473402e+00,  2.75416341e+00,\n",
              "         2.21024040e+00,  2.44330111e+00,  2.30661461e+00,\n",
              "         2.20337214e+00,  2.68019957e+00,  2.38251918e+00,\n",
              "         2.04471687e+00,  2.07920693e+00,  2.57088678e+00,\n",
              "         2.76793005e+00,  1.75946269e+00],\n",
              "       [ 1.68221488e+00,  2.42417389e+00,  2.53718639e+00,\n",
              "         2.98246587e+00,  2.71440005e+00,  2.83412842e+00,\n",
              "         3.04456101e+00,  1.26790910e+00,  2.51282719e+00,\n",
              "         2.96763335e+00,  2.07183654e+00,  2.86379782e+00,\n",
              "         2.43122603e+00,  2.53768191e+00,  2.05532822e+00,\n",
              "         1.99764841e+00,  2.75366665e+00,  2.25909176e+00,\n",
              "         3.11682045e+00,  2.53468332e+00,  3.13938551e+00,\n",
              "         2.75182621e+00,  2.63620439e+00,  2.53570855e+00,\n",
              "         2.74195147e+00,  2.70437550e+00,  2.50280247e+00,\n",
              "         2.27794230e+00,  3.01109005e+00,  1.79359346e+00,\n",
              "         2.86000919e+00,  2.72244414e+00,  2.89362003e+00,\n",
              "         2.95485459e+00,  2.14686675e+00,  1.35669350e+00,\n",
              "         2.03196150e+00,  2.61086111e+00,  3.42215545e+00,\n",
              "         2.52014232e+00,  2.62126891e+00,  2.47478412e+00,\n",
              "         2.35926389e+00,  3.16081178e+00,  2.48904250e+00,\n",
              "         2.18401908e+00,  2.31630740e+00,  2.81989658e+00,\n",
              "         3.17457174e+00,  1.95144794e+00],\n",
              "       [ 1.83640621e+00,  2.39919366e+00,  2.45910243e+00,\n",
              "         3.04570689e+00,  2.97753040e+00,  2.84706019e+00,\n",
              "         3.06861067e+00,  1.19532918e+00,  2.42768036e+00,\n",
              "         2.89704368e+00,  1.90862355e+00,  2.74506755e+00,\n",
              "         2.36176296e+00,  2.42968624e+00,  1.90701049e+00,\n",
              "         1.96260674e+00,  2.85846105e+00,  2.08668099e+00,\n",
              "         3.05713406e+00,  2.63853025e+00,  2.99013527e+00,\n",
              "         2.70841192e+00,  2.76671074e+00,  2.50478402e+00,\n",
              "         2.67693610e+00,  2.78518815e+00,  2.63133650e+00,\n",
              "         2.20555689e+00,  3.02189826e+00,  1.84147719e+00,\n",
              "         2.89893144e+00,  2.75230521e+00,  2.71575213e+00,\n",
              "         3.09906853e+00,  2.18878920e+00,  1.37444354e+00,\n",
              "         1.99149016e+00,  2.64182857e+00,  3.66287172e+00,\n",
              "         2.71940674e+00,  2.57053830e+00,  2.48553546e+00,\n",
              "         2.40763944e+00,  3.32636902e+00,  2.38780485e+00,\n",
              "         2.12435199e+00,  2.37990217e+00,  2.88486751e+00,\n",
              "         3.21905579e+00,  1.83736208e+00],\n",
              "       [ 1.57695467e+00,  2.10601533e+00,  2.33402377e+00,\n",
              "         2.81816478e+00,  2.46147630e+00,  2.64515468e+00,\n",
              "         2.86875477e+00,  1.10769994e+00,  2.37035321e+00,\n",
              "         2.87431900e+00,  1.85009933e+00,  2.66740283e+00,\n",
              "         2.37473402e+00,  2.35693343e+00,  1.87750505e+00,\n",
              "         1.88841849e+00,  2.78562470e+00,  1.91075068e+00,\n",
              "         3.13029773e+00,  2.41821953e+00,  3.04165673e+00,\n",
              "         2.41117654e+00,  2.57500346e+00,  2.48550446e+00,\n",
              "         2.45004137e+00,  2.45549500e+00,  2.35775885e+00,\n",
              "         1.98542808e+00,  2.89682570e+00,  1.70932831e+00,\n",
              "         2.72236571e+00,  2.54852537e+00,  2.71153544e+00,\n",
              "         2.95417791e+00,  2.02271800e+00,  1.23806619e+00,\n",
              "         1.83240454e+00,  2.79727150e+00,  3.49356998e+00,\n",
              "         2.35281670e+00,  2.64836059e+00,  2.39506597e+00,\n",
              "         2.21227062e+00,  3.04505853e+00,  2.33694992e+00,\n",
              "         1.99235969e+00,  2.22975378e+00,  2.67258756e+00,\n",
              "         3.06573495e+00,  1.64893723e+00],\n",
              "       [ 1.55231620e+00,  1.80145059e+00,  1.98942084e+00,\n",
              "         2.11904122e+00,  1.83324418e+00,  2.06333698e+00,\n",
              "         1.99094473e+00,  1.31457543e+00,  2.01724877e+00,\n",
              "         2.05744408e+00,  1.85686219e+00,  2.09781791e+00,\n",
              "         1.97728566e+00,  1.94216603e+00,  1.73785259e+00,\n",
              "         1.74843888e+00,  1.99072644e+00,  1.94521955e+00,\n",
              "         2.14851334e+00,  1.87659324e+00,  2.13039929e+00,\n",
              "         1.88430089e+00,  1.91210049e+00,  1.72937545e+00,\n",
              "         1.92992070e+00,  2.00199417e+00,  1.92162565e+00,\n",
              "         1.66885933e+00,  1.97956708e+00,  1.81833291e+00,\n",
              "         1.88563438e+00,  1.76119165e+00,  2.04568319e+00,\n",
              "         1.99640427e+00,  1.74966120e+00,  1.53130693e+00,\n",
              "         1.77458404e+00,  1.82886045e+00,  2.14217537e+00,\n",
              "         1.85709405e+00,  1.92934311e+00,  1.96490555e+00,\n",
              "         1.89271021e+00,  2.11496022e+00,  1.93541491e+00,\n",
              "         1.83516387e+00,  1.85762162e+00,  1.97455780e+00,\n",
              "         2.10885458e+00,  1.57809232e+00],\n",
              "       [ 1.45108729e+00,  2.11671772e+00,  2.00456948e+00,\n",
              "         2.54281314e+00,  2.58434744e+00,  2.47882966e+00,\n",
              "         2.50050762e+00,  1.10975078e+00,  2.06990925e+00,\n",
              "         2.28382347e+00,  1.57503529e+00,  2.34999553e+00,\n",
              "         2.09693598e+00,  2.08543386e+00,  1.80357390e+00,\n",
              "         1.70287256e+00,  2.29581761e+00,  1.80948951e+00,\n",
              "         2.43680205e+00,  2.02105894e+00,  2.54705870e+00,\n",
              "         2.30781127e+00,  2.28157212e+00,  2.09877674e+00,\n",
              "         2.53619342e+00,  2.40369944e+00,  2.16752550e+00,\n",
              "         2.08138035e+00,  2.47148074e+00,  1.60208057e+00,\n",
              "         2.39058771e+00,  2.47165989e+00,  2.23515603e+00,\n",
              "         2.45279752e+00,  1.97856843e+00,  1.19667595e+00,\n",
              "         1.62244574e+00,  2.11904918e+00,  2.78429597e+00,\n",
              "         2.29728782e+00,  2.06328107e+00,  2.04216458e+00,\n",
              "         2.04754971e+00,  2.70354976e+00,  2.18503226e+00,\n",
              "         1.87092686e+00,  1.89176477e+00,  2.70704102e+00,\n",
              "         2.55030452e+00,  1.65104265e+00],\n",
              "       [ 1.51757550e+00,  2.06169594e+00,  2.17822402e+00,\n",
              "         2.61701894e+00,  2.36843691e+00,  2.46094440e+00,\n",
              "         2.67507904e+00,  1.09244228e+00,  2.26217808e+00,\n",
              "         2.60567319e+00,  1.81878692e+00,  2.55042247e+00,\n",
              "         2.30802805e+00,  2.23903439e+00,  1.76634211e+00,\n",
              "         1.77720246e+00,  2.67034183e+00,  1.94362040e+00,\n",
              "         2.83561752e+00,  2.23484416e+00,  2.83198395e+00,\n",
              "         2.39786513e+00,  2.45633552e+00,  2.51921348e+00,\n",
              "         2.31372140e+00,  2.34119100e+00,  2.23480548e+00,\n",
              "         1.90177578e+00,  2.78311894e+00,  1.64744526e+00,\n",
              "         2.64065675e+00,  2.39417681e+00,  2.57440729e+00,\n",
              "         2.71491113e+00,  1.95479136e+00,  1.26046089e+00,\n",
              "         1.86227167e+00,  2.48550446e+00,  3.07825461e+00,\n",
              "         2.18041302e+00,  2.40839601e+00,  2.33910104e+00,\n",
              "         2.10943504e+00,  2.77195297e+00,  2.28229244e+00,\n",
              "         1.97797797e+00,  2.09151894e+00,  2.52973654e+00,\n",
              "         2.86342516e+00,  1.74572563e+00],\n",
              "       [ 1.66533593e+00,  2.10830905e+00,  2.26329825e+00,\n",
              "         2.59053185e+00,  2.35950964e+00,  2.43113545e+00,\n",
              "         2.65239186e+00,  1.20442475e+00,  2.20118270e+00,\n",
              "         2.55167172e+00,  1.88457509e+00,  2.49840259e+00,\n",
              "         2.30677876e+00,  2.23438585e+00,  1.82214766e+00,\n",
              "         1.95096765e+00,  2.58856912e+00,  1.97344424e+00,\n",
              "         2.76492742e+00,  2.32749986e+00,  2.75749456e+00,\n",
              "         2.43333464e+00,  2.43571589e+00,  2.30496434e+00,\n",
              "         2.34977033e+00,  2.33168179e+00,  2.22594765e+00,\n",
              "         2.00967987e+00,  2.68539570e+00,  1.81207186e+00,\n",
              "         2.60703038e+00,  2.37043152e+00,  2.49071578e+00,\n",
              "         2.65952820e+00,  2.06593657e+00,  1.43230361e+00,\n",
              "         1.93324035e+00,  2.43601314e+00,  2.97270023e+00,\n",
              "         2.28901225e+00,  2.42932713e+00,  2.26831058e+00,\n",
              "         2.18161052e+00,  2.78860074e+00,  2.30355501e+00,\n",
              "         2.13580065e+00,  2.14448346e+00,  2.49961197e+00,\n",
              "         2.74520942e+00,  1.76821343e+00],\n",
              "       [ 1.83624774e+00,  2.61210520e+00,  2.80417971e+00,\n",
              "         3.50088844e+00,  3.15614325e+00,  3.35041348e+00,\n",
              "         3.66635900e+00,  1.23955435e+00,  2.84524562e+00,\n",
              "         3.53628942e+00,  2.11472764e+00,  3.29434595e+00,\n",
              "         2.83772746e+00,  2.82306010e+00,  2.23806205e+00,\n",
              "         2.21129342e+00,  3.33820872e+00,  2.27228195e+00,\n",
              "         3.83353852e+00,  2.90875832e+00,  3.73230326e+00,\n",
              "         3.03617373e+00,  3.18407523e+00,  3.00473803e+00,\n",
              "         3.10076007e+00,  3.02127064e+00,  2.89275543e+00,\n",
              "         2.45176400e+00,  3.63276384e+00,  1.96983165e+00,\n",
              "         3.38847836e+00,  3.24694793e+00,  3.26447047e+00,\n",
              "         3.61345908e+00,  2.41571640e+00,  1.40769276e+00,\n",
              "         2.13573285e+00,  3.33800627e+00,  4.33648480e+00,\n",
              "         2.88329067e+00,  3.16396677e+00,  2.93159114e+00,\n",
              "         2.64147402e+00,  3.75274250e+00,  2.89624153e+00,\n",
              "         2.35832324e+00,  2.59982130e+00,  3.31410874e+00,\n",
              "         3.83808475e+00,  1.95566310e+00],\n",
              "       [ 1.71946233e+00,  2.39002924e+00,  2.58084097e+00,\n",
              "         3.16359666e+00,  2.74681733e+00,  2.97497585e+00,\n",
              "         3.15343563e+00,  1.26820151e+00,  2.58057610e+00,\n",
              "         4.06784198e+00,  2.09578932e+00,  2.96376679e+00,\n",
              "         2.45013086e+00,  2.61315756e+00,  2.12950552e+00,\n",
              "         2.04142170e+00,  2.84664210e+00,  2.24381476e+00,\n",
              "         3.42208219e+00,  2.65775810e+00,  3.46906438e+00,\n",
              "         2.73316860e+00,  2.81565332e+00,  2.60567319e+00,\n",
              "         2.78402036e+00,  2.76574275e+00,  2.59327499e+00,\n",
              "         2.17197984e+00,  3.14438076e+00,  1.81637188e+00,\n",
              "         2.84017014e+00,  2.70365607e+00,  2.99834062e+00,\n",
              "         3.10003965e+00,  2.15455120e+00,  1.35421743e+00,\n",
              "         2.01094187e+00,  2.87431900e+00,  3.82155834e+00,\n",
              "         2.55866345e+00,  2.87325443e+00,  2.60207270e+00,\n",
              "         2.34423879e+00,  3.36778927e+00,  2.43069067e+00,\n",
              "         2.16504123e+00,  2.50264908e+00,  2.85612105e+00,\n",
              "         3.26664798e+00,  1.91657592e+00],\n",
              "       [ 1.44672563e+00,  1.97313486e+00,  2.03572658e+00,\n",
              "         2.36204062e+00,  2.08931498e+00,  2.23946119e+00,\n",
              "         2.28531844e+00,  1.16911784e+00,  2.07866487e+00,\n",
              "         2.29742338e+00,  1.75266310e+00,  2.19232488e+00,\n",
              "         1.97849525e+00,  2.08285497e+00,  1.77025117e+00,\n",
              "         1.66577289e+00,  2.18818437e+00,  1.86914122e+00,\n",
              "         2.39462994e+00,  1.90843230e+00,  2.46407841e+00,\n",
              "         2.15737646e+00,  2.06295386e+00,  1.97639326e+00,\n",
              "         2.12172414e+00,  2.14073859e+00,  2.01051501e+00,\n",
              "         1.76559935e+00,  2.28573552e+00,  1.59070435e+00,\n",
              "         2.16453348e+00,  2.05229719e+00,  2.22874792e+00,\n",
              "         2.24698599e+00,  1.81718768e+00,  1.19061538e+00,\n",
              "         1.69877807e+00,  2.02293526e+00,  2.51320887e+00,\n",
              "         1.99763022e+00,  2.09031344e+00,  1.97622702e+00,\n",
              "         1.85692250e+00,  2.35265264e+00,  1.97524435e+00,\n",
              "         1.73857143e+00,  1.94303582e+00,  2.26715644e+00,\n",
              "         2.40668910e+00,  1.54667178e+00],\n",
              "       [ 1.72415532e+00,  2.41951701e+00,  2.49242751e+00,\n",
              "         2.91425569e+00,  2.71749319e+00,  2.78137179e+00,\n",
              "         3.03245724e+00,  1.20765822e+00,  2.45294287e+00,\n",
              "         2.84017014e+00,  1.92778977e+00,  2.86490063e+00,\n",
              "         2.50612711e+00,  2.44316098e+00,  1.94007751e+00,\n",
              "         2.00862099e+00,  2.94517486e+00,  2.11868736e+00,\n",
              "         3.12419670e+00,  2.51233697e+00,  3.05645968e+00,\n",
              "         2.77863731e+00,  2.72868800e+00,  2.64065675e+00,\n",
              "         2.62519226e+00,  2.61218594e+00,  2.48505453e+00,\n",
              "         2.26000210e+00,  3.11301761e+00,  1.77318516e+00,\n",
              "         3.14673293e+00,  2.79341153e+00,  2.81313930e+00,\n",
              "         3.08911265e+00,  2.25448878e+00,  1.42076124e+00,\n",
              "         2.04515591e+00,  2.72236571e+00,  3.54694678e+00,\n",
              "         2.47540622e+00,  2.64424229e+00,  2.53462713e+00,\n",
              "         2.33860220e+00,  3.09460711e+00,  2.58730740e+00,\n",
              "         2.26524059e+00,  2.32815547e+00,  2.81837007e+00,\n",
              "         3.22556720e+00,  1.94888886e+00],\n",
              "       [ 1.79254609e+00,  2.52772346e+00,  2.67592289e+00,\n",
              "         3.24009745e+00,  2.93073978e+00,  3.07246071e+00,\n",
              "         3.43279374e+00,  1.23750063e+00,  2.63084005e+00,\n",
              "         3.26397011e+00,  1.98013809e+00,  3.23210553e+00,\n",
              "         2.70710325e+00,  2.68587771e+00,  2.06426195e+00,\n",
              "         2.14028912e+00,  3.22867727e+00,  2.25545245e+00,\n",
              "         3.57102071e+00,  2.92379463e+00,  3.52747241e+00,\n",
              "         2.93977325e+00,  2.99887865e+00,  2.98581566e+00,\n",
              "         2.95923241e+00,  2.86677430e+00,  2.74054695e+00,\n",
              "         2.44827680e+00,  3.38871872e+00,  1.86292429e+00,\n",
              "         3.34004951e+00,  3.10776983e+00,  3.13404439e+00,\n",
              "         3.46870204e+00,  2.37326843e+00,  1.45509922e+00,\n",
              "         2.10533070e+00,  3.13260135e+00,  4.30074067e+00,\n",
              "         2.71523247e+00,  2.97065089e+00,  2.77111600e+00,\n",
              "         2.57131237e+00,  3.63878495e+00,  2.80932601e+00,\n",
              "         2.38916323e+00,  2.59796902e+00,  3.13859131e+00,\n",
              "         3.60256599e+00,  2.04419760e+00],\n",
              "       [ 1.63120382e+00,  2.05344220e+00,  2.30385581e+00,\n",
              "         2.63989069e+00,  2.29905396e+00,  2.47262428e+00,\n",
              "         2.54260384e+00,  1.31675528e+00,  2.49704930e+00,\n",
              "         2.58057610e+00,  1.99944268e+00,  2.53500174e+00,\n",
              "         2.39311076e+00,  2.28299317e+00,  1.91742222e+00,\n",
              "         1.87182512e+00,  2.56490314e+00,  2.16380931e+00,\n",
              "         2.76340604e+00,  2.19796726e+00,  2.73521952e+00,\n",
              "         2.32906871e+00,  2.39440633e+00,  2.26217808e+00,\n",
              "         2.27632670e+00,  2.34352626e+00,  2.27588458e+00,\n",
              "         1.91900804e+00,  2.60464617e+00,  1.85605630e+00,\n",
              "         2.45294287e+00,  2.29193804e+00,  2.57846307e+00,\n",
              "         2.63684056e+00,  2.01782339e+00,  1.40868837e+00,\n",
              "         1.93090841e+00,  2.37035321e+00,  2.85846599e+00,\n",
              "         2.18451778e+00,  2.40316340e+00,  2.31172438e+00,\n",
              "         2.15250378e+00,  2.67471245e+00,  2.28746822e+00,\n",
              "         2.01143184e+00,  2.12349884e+00,  2.49878048e+00,\n",
              "         2.79222756e+00,  1.80345495e+00],\n",
              "       [ 1.70736827e+00,  2.13652383e+00,  2.28558496e+00,\n",
              "         2.47762241e+00,  2.19875050e+00,  2.37395335e+00,\n",
              "         2.49129352e+00,  1.28764833e+00,  2.14019215e+00,\n",
              "         2.40669129e+00,  1.95211904e+00,  2.35965097e+00,\n",
              "         2.09501766e+00,  2.14641285e+00,  1.79932336e+00,\n",
              "         1.87934895e+00,  2.32106744e+00,  2.04262677e+00,\n",
              "         2.51456259e+00,  2.19670684e+00,  2.57448131e+00,\n",
              "         2.38636465e+00,  2.22594507e+00,  2.06202565e+00,\n",
              "         2.23061103e+00,  2.23801532e+00,  2.13417877e+00,\n",
              "         1.93932581e+00,  2.38327971e+00,  1.75575505e+00,\n",
              "         2.33018932e+00,  2.15749159e+00,  2.36439409e+00,\n",
              "         2.39575308e+00,  1.91743022e+00,  1.43100219e+00,\n",
              "         1.98563909e+00,  2.09351504e+00,  2.62750789e+00,\n",
              "         2.11444945e+00,  2.23566781e+00,  2.16926375e+00,\n",
              "         2.02344262e+00,  2.50443843e+00,  2.13235643e+00,\n",
              "         1.99921008e+00,  2.06067216e+00,  2.25716220e+00,\n",
              "         2.60004098e+00,  1.75997682e+00],\n",
              "       [ 1.31390500e+00,  1.46174420e+00,  1.64549555e+00,\n",
              "         1.56945723e+00,  1.33315618e+00,  1.56489987e+00,\n",
              "         1.50226953e+00,  1.09983699e+00,  1.63894522e+00,\n",
              "         1.60747706e+00,  1.76565774e+00,  1.61378992e+00,\n",
              "         1.54152710e+00,  1.54775115e+00,  1.38882804e+00,\n",
              "         1.50025455e+00,  1.45854289e+00,  1.70880418e+00,\n",
              "         1.60951257e+00,  1.53254197e+00,  1.62047567e+00,\n",
              "         1.46993778e+00,  1.43469310e+00,  1.31773292e+00,\n",
              "         1.48555718e+00,  1.55992818e+00,  1.50331254e+00,\n",
              "         1.36187320e+00,  1.47703223e+00,  1.53774594e+00,\n",
              "         1.39568634e+00,  1.27946190e+00,  1.71980256e+00,\n",
              "         1.49715507e+00,  1.38980475e+00,  1.43481525e+00,\n",
              "         1.58091914e+00,  1.34902095e+00,  1.51754091e+00,\n",
              "         1.44530565e+00,  1.44671550e+00,  1.59122075e+00,\n",
              "         1.50779969e+00,  1.54794966e+00,  1.45155172e+00,\n",
              "         1.50364433e+00,  1.52095631e+00,  1.45118618e+00,\n",
              "         1.61045876e+00,  1.37145344e+00],\n",
              "       [ 1.60834507e+00,  1.96315719e+00,  2.24204883e+00,\n",
              "         2.45485857e+00,  2.10872290e+00,  2.30928110e+00,\n",
              "         2.33737378e+00,  1.27567807e+00,  2.25487378e+00,\n",
              "         2.33680301e+00,  1.97513563e+00,  2.31951281e+00,\n",
              "         2.28565569e+00,  2.21810394e+00,  1.89387888e+00,\n",
              "         1.87327039e+00,  2.39567154e+00,  2.02451225e+00,\n",
              "         2.60358402e+00,  2.09969865e+00,  2.54423144e+00,\n",
              "         2.16469936e+00,  2.19558557e+00,  2.07825377e+00,\n",
              "         2.12021179e+00,  2.28992181e+00,  2.13474609e+00,\n",
              "         1.91237340e+00,  2.38937198e+00,  1.80433363e+00,\n",
              "         2.28064798e+00,  2.12296859e+00,  2.45304298e+00,\n",
              "         2.43879642e+00,  1.95255852e+00,  1.40324417e+00,\n",
              "         1.87438433e+00,  2.22964522e+00,  2.59685631e+00,\n",
              "         2.13822380e+00,  2.28592918e+00,  2.11770876e+00,\n",
              "         2.11860594e+00,  2.48728319e+00,  2.12750364e+00,\n",
              "         1.94491293e+00,  2.06749703e+00,  2.35231650e+00,\n",
              "         2.57717618e+00,  1.66179718e+00],\n",
              "       [ 1.66912002e+00,  2.38246006e+00,  2.41420460e+00,\n",
              "         2.85682188e+00,  2.59218971e+00,  2.69181980e+00,\n",
              "         2.88112937e+00,  1.26708670e+00,  2.32906871e+00,\n",
              "         2.73316860e+00,  1.94360096e+00,  2.70913907e+00,\n",
              "         2.32673873e+00,  2.38363399e+00,  1.94270876e+00,\n",
              "         1.93347687e+00,  2.63563112e+00,  2.15539680e+00,\n",
              "         2.85814199e+00,  2.37762085e+00,  2.93489125e+00,\n",
              "         2.81053832e+00,  2.50935223e+00,  2.39786513e+00,\n",
              "         2.60784663e+00,  2.55722675e+00,  2.38260740e+00,\n",
              "         2.19327460e+00,  2.84122593e+00,  1.73621811e+00,\n",
              "         2.77863731e+00,  2.59289184e+00,  2.63323322e+00,\n",
              "         2.77583377e+00,  2.14359187e+00,  1.38598524e+00,\n",
              "         2.00868505e+00,  2.41117654e+00,  3.19998253e+00,\n",
              "         2.39406540e+00,  2.47703396e+00,  2.35170242e+00,\n",
              "         2.22612111e+00,  2.94431549e+00,  2.41388801e+00,\n",
              "         2.18649198e+00,  2.21641279e+00,  2.65288152e+00,\n",
              "         2.94348041e+00,  1.92281019e+00],\n",
              "       [ 1.51258731e+00,  2.02964052e+00,  2.20478375e+00,\n",
              "         2.51510854e+00,  2.24557953e+00,  2.44027281e+00,\n",
              "         2.62206173e+00,  1.09547472e+00,  2.07317998e+00,\n",
              "         2.51646859e+00,  1.78572729e+00,  2.34188080e+00,\n",
              "         2.08260654e+00,  2.10902055e+00,  1.72438795e+00,\n",
              "         1.80013434e+00,  2.32805356e+00,  1.84660490e+00,\n",
              "         2.60683992e+00,  2.20233569e+00,  2.60518588e+00,\n",
              "         2.26457745e+00,  2.25472695e+00,  2.10015434e+00,\n",
              "         2.28415831e+00,  2.22780996e+00,  2.12436672e+00,\n",
              "         1.90137191e+00,  2.49015915e+00,  1.67623435e+00,\n",
              "         2.35925018e+00,  2.24819625e+00,  2.34458547e+00,\n",
              "         2.45915343e+00,  1.83765911e+00,  1.25004355e+00,\n",
              "         1.77877631e+00,  2.29429469e+00,  2.88264562e+00,\n",
              "         2.16131652e+00,  2.27281316e+00,  2.19179994e+00,\n",
              "         2.01630673e+00,  2.62098454e+00,  2.09759414e+00,\n",
              "         1.87155847e+00,  2.00117659e+00,  2.32997174e+00,\n",
              "         2.66722413e+00,  1.58239156e+00],\n",
              "       [ 1.63870176e+00,  2.03976546e+00,  2.29598332e+00,\n",
              "         2.61302865e+00,  2.28426084e+00,  2.47292601e+00,\n",
              "         2.54580451e+00,  1.27184450e+00,  2.42237458e+00,\n",
              "         2.54636082e+00,  2.01826971e+00,  2.51261540e+00,\n",
              "         2.39822446e+00,  2.27951371e+00,  1.91569924e+00,\n",
              "         1.92966390e+00,  2.59298953e+00,  2.09000777e+00,\n",
              "         2.79885609e+00,  2.24491100e+00,  2.72617769e+00,\n",
              "         2.28289824e+00,  2.40727993e+00,  2.29368598e+00,\n",
              "         2.25738921e+00,  2.34589407e+00,  2.27760085e+00,\n",
              "         1.92527134e+00,  2.60685978e+00,  1.84138773e+00,\n",
              "         2.45450299e+00,  2.28626485e+00,  2.58753273e+00,\n",
              "         2.66238040e+00,  2.03320273e+00,  1.43857722e+00,\n",
              "         1.94057072e+00,  2.42081711e+00,  2.90548950e+00,\n",
              "         2.20958796e+00,  2.41733535e+00,  2.32920120e+00,\n",
              "         2.19212516e+00,  2.67215635e+00,  2.24076227e+00,\n",
              "         2.03441036e+00,  2.16381470e+00,  2.48474841e+00,\n",
              "         2.82897862e+00,  1.75874292e+00],\n",
              "       [ 1.48089577e+00,  1.85533805e+00,  2.11768735e+00,\n",
              "         2.33703418e+00,  2.00537581e+00,  2.22063382e+00,\n",
              "         2.30246901e+00,  1.16809893e+00,  2.08435651e+00,\n",
              "         2.27437447e+00,  1.81540671e+00,  2.23920066e+00,\n",
              "         2.07233485e+00,  1.98046307e+00,  1.64378798e+00,\n",
              "         1.70187376e+00,  2.21362412e+00,  1.93646898e+00,\n",
              "         2.41929779e+00,  2.01746198e+00,  2.41547247e+00,\n",
              "         2.10758255e+00,  2.10489119e+00,  2.01912228e+00,\n",
              "         2.06262940e+00,  2.08304612e+00,  2.00299314e+00,\n",
              "         1.75551197e+00,  2.30041496e+00,  1.63220373e+00,\n",
              "         2.15845122e+00,  2.03794886e+00,  2.24116387e+00,\n",
              "         2.28997146e+00,  1.74221827e+00,  1.28395953e+00,\n",
              "         1.81391076e+00,  2.05729284e+00,  2.52870595e+00,\n",
              "         1.96186984e+00,  2.12277635e+00,  2.08215636e+00,\n",
              "         1.91857921e+00,  2.41032503e+00,  2.00346115e+00,\n",
              "         1.88123980e+00,  1.88131857e+00,  2.14781713e+00,\n",
              "         2.44608745e+00,  1.61846534e+00],\n",
              "       [ 1.62433425e+00,  2.03131370e+00,  2.16091099e+00,\n",
              "         2.44542661e+00,  2.24239729e+00,  2.30491716e+00,\n",
              "         2.45329448e+00,  1.21629564e+00,  2.15250378e+00,\n",
              "         2.34423879e+00,  1.86005920e+00,  2.31752403e+00,\n",
              "         2.20337214e+00,  2.17606394e+00,  1.81306171e+00,\n",
              "         1.89980155e+00,  2.35811866e+00,  1.95191017e+00,\n",
              "         2.54786633e+00,  2.18792088e+00,  2.53191882e+00,\n",
              "         2.22612111e+00,  2.27196444e+00,  2.10943504e+00,\n",
              "         2.27337667e+00,  2.26705859e+00,  2.16764767e+00,\n",
              "         1.91156303e+00,  2.39966970e+00,  1.82006550e+00,\n",
              "         2.33860220e+00,  2.21073636e+00,  2.33178038e+00,\n",
              "         2.45036084e+00,  1.94825126e+00,  1.41206724e+00,\n",
              "         1.84932476e+00,  2.21227062e+00,  2.69348742e+00,\n",
              "         2.21115024e+00,  2.20272921e+00,  2.16320464e+00,\n",
              "         2.22505210e+00,  2.56793487e+00,  2.15560645e+00,\n",
              "         1.98319304e+00,  2.04617402e+00,  2.37044037e+00,\n",
              "         2.53554071e+00,  1.66758009e+00],\n",
              "       [ 1.79441528e+00,  2.44137361e+00,  2.76607936e+00,\n",
              "         3.36218262e+00,  2.76224133e+00,  3.08954606e+00,\n",
              "         3.30906557e+00,  1.35323963e+00,  2.76340604e+00,\n",
              "         3.42208219e+00,  2.17244711e+00,  3.14228128e+00,\n",
              "         2.81066730e+00,  2.77723935e+00,  2.23799965e+00,\n",
              "         2.14378643e+00,  3.22101178e+00,  2.29304258e+00,\n",
              "         3.80586303e+00,  2.76953590e+00,  3.66111331e+00,\n",
              "         2.85814199e+00,  2.92170939e+00,  2.83561752e+00,\n",
              "         2.82494705e+00,  2.91455022e+00,  2.70949493e+00,\n",
              "         2.30035948e+00,  3.37576444e+00,  1.93552526e+00,\n",
              "         3.12419670e+00,  2.94269957e+00,  3.21487328e+00,\n",
              "         3.35824283e+00,  2.30237533e+00,  1.36525982e+00,\n",
              "         2.12771832e+00,  3.13029773e+00,  3.99019514e+00,\n",
              "         2.68338787e+00,  3.18769349e+00,  2.74462145e+00,\n",
              "         2.54786633e+00,  3.55893621e+00,  2.70379825e+00,\n",
              "         2.30124699e+00,  2.59057065e+00,  3.09173133e+00,\n",
              "         3.57203030e+00,  1.91588986e+00],\n",
              "       [ 1.68325940e+00,  2.28972467e+00,  2.40357231e+00,\n",
              "         2.95271702e+00,  2.70920399e+00,  2.86575466e+00,\n",
              "         3.02801592e+00,  1.23560830e+00,  2.46485612e+00,\n",
              "         3.01930200e+00,  1.96190179e+00,  2.80191416e+00,\n",
              "         2.49452534e+00,  2.44725339e+00,  2.04156722e+00,\n",
              "         2.09696367e+00,  2.76905270e+00,  2.06674491e+00,\n",
              "         3.20330237e+00,  2.59849820e+00,  3.15505262e+00,\n",
              "         2.52086960e+00,  2.69739921e+00,  2.49991628e+00,\n",
              "         2.82626923e+00,  2.62523307e+00,  2.49681121e+00,\n",
              "         2.21844509e+00,  2.92471137e+00,  1.86777764e+00,\n",
              "         2.81450291e+00,  2.75895190e+00,  2.81978352e+00,\n",
              "         3.12051723e+00,  2.15562436e+00,  1.38561220e+00,\n",
              "         1.93752507e+00,  2.83318686e+00,  3.66751136e+00,\n",
              "         2.58365501e+00,  2.64663280e+00,  2.49789810e+00,\n",
              "         2.41608009e+00,  3.28521597e+00,  2.49569291e+00,\n",
              "         2.20570514e+00,  2.35733786e+00,  2.81373702e+00,\n",
              "         3.13265547e+00,  1.80497546e+00],\n",
              "       [ 1.52600566e+00,  1.60482422e+00,  1.68539331e+00,\n",
              "         1.78125274e+00,  1.68480675e+00,  1.72141858e+00,\n",
              "         1.76726321e+00,  9.98037563e-01,  1.63120382e+00,\n",
              "         1.71946233e+00,  1.51793849e+00,  1.69448627e+00,\n",
              "         1.60831138e+00,  1.62974638e+00,  1.39410828e+00,\n",
              "         1.57480362e+00,  1.77772366e+00,  1.55238996e+00,\n",
              "         1.79441528e+00,  1.72385705e+00,  1.75229569e+00,\n",
              "         1.66912002e+00,  1.71879134e+00,  1.51757550e+00,\n",
              "         1.63265158e+00,  1.65637668e+00,  1.71583017e+00,\n",
              "         1.45255924e+00,  1.75105949e+00,  1.50444484e+00,\n",
              "         1.72415532e+00,  1.57055314e+00,  1.69406714e+00,\n",
              "         1.83507620e+00,  1.57848713e+00,  1.30784077e+00,\n",
              "         1.56732711e+00,  1.57695467e+00,  1.90625391e+00,\n",
              "         1.66107282e+00,  1.58682912e+00,  1.65576112e+00,\n",
              "         1.62433425e+00,  1.80044307e+00,  1.63667168e+00,\n",
              "         1.58806655e+00,  1.65889003e+00,  1.69403223e+00,\n",
              "         1.82409346e+00,  1.38573519e+00],\n",
              "       [ 1.78125274e+00,  2.42029109e+00,  2.67670942e+00,\n",
              "         3.41345064e+00,  2.78645541e+00,  3.08604271e+00,\n",
              "         3.19040642e+00,  1.36782855e+00,  2.63989069e+00,\n",
              "         3.16359666e+00,  2.08228621e+00,  2.98642947e+00,\n",
              "         2.59739276e+00,  2.63296365e+00,  2.16945995e+00,\n",
              "         2.04540551e+00,  2.94401711e+00,  2.28892807e+00,\n",
              "         3.36218262e+00,  2.62647364e+00,  3.38209600e+00,\n",
              "         2.85682188e+00,  2.78751149e+00,  2.61701894e+00,\n",
              "         2.86054928e+00,  2.84891556e+00,  2.69970945e+00,\n",
              "         2.32131853e+00,  3.09367349e+00,  1.89119585e+00,\n",
              "         2.91425569e+00,  2.90193447e+00,  2.97540589e+00,\n",
              "         3.13005879e+00,  2.23995605e+00,  1.33451410e+00,\n",
              "         2.08304725e+00,  2.81816478e+00,  3.74522819e+00,\n",
              "         2.65912810e+00,  2.88812980e+00,  2.58682350e+00,\n",
              "         2.44542661e+00,  3.40881271e+00,  2.62579450e+00,\n",
              "         2.24590746e+00,  2.44822004e+00,  2.98228219e+00,\n",
              "         3.33615229e+00,  1.91551175e+00],\n",
              "       [ 9.98037563e-01,  1.18369791e+00,  1.31102160e+00,\n",
              "         1.36782855e+00,  1.16123002e+00,  1.29127254e+00,\n",
              "         1.25189216e+00,  9.70859882e-01,  1.31675528e+00,\n",
              "         1.26820151e+00,  1.22546807e+00,  1.34794542e+00,\n",
              "         1.29320183e+00,  1.26639354e+00,  1.14563871e+00,\n",
              "         1.12296105e+00,  1.24912430e+00,  1.30326032e+00,\n",
              "         1.35323963e+00,  1.19136639e+00,  1.39070654e+00,\n",
              "         1.26708670e+00,  1.21325152e+00,  1.09244228e+00,\n",
              "         1.25646448e+00,  1.29365268e+00,  1.19682246e+00,\n",
              "         1.10686650e+00,  1.24128716e+00,  1.21169033e+00,\n",
              "         1.20765822e+00,  1.13261044e+00,  1.31814020e+00,\n",
              "         1.24565076e+00,  1.14897652e+00,  9.57665882e-01,\n",
              "         1.18768804e+00,  1.10769994e+00,  1.29791745e+00,\n",
              "         1.18878767e+00,  1.23543932e+00,  1.21190552e+00,\n",
              "         1.21629564e+00,  1.34913627e+00,  1.27436150e+00,\n",
              "         1.20021551e+00,  1.18883217e+00,  1.27295324e+00,\n",
              "         1.33036757e+00,  1.05795009e+00],\n",
              "       [ 1.63667168e+00,  2.12502498e+00,  2.27131807e+00,\n",
              "         2.62579450e+00,  2.39419232e+00,  2.53984546e+00,\n",
              "         2.66719375e+00,  1.27436150e+00,  2.28746822e+00,\n",
              "         2.43069067e+00,  1.84327204e+00,  2.56609098e+00,\n",
              "         2.38251918e+00,  2.27659170e+00,  1.90490062e+00,\n",
              "         1.89580978e+00,  2.55068457e+00,  2.03839555e+00,\n",
              "         2.70379825e+00,  2.18726368e+00,  2.68535504e+00,\n",
              "         2.41388801e+00,  2.42137661e+00,  2.28229244e+00,\n",
              "         2.39096160e+00,  2.35519920e+00,  2.26062101e+00,\n",
              "         2.05982695e+00,  2.64842562e+00,  1.83582694e+00,\n",
              "         2.58730740e+00,  2.46076748e+00,  2.45923363e+00,\n",
              "         2.63492044e+00,  2.09449064e+00,  1.42797311e+00,\n",
              "         1.93042180e+00,  2.33694992e+00,  2.89433043e+00,\n",
              "         2.24417209e+00,  2.33271636e+00,  2.28905783e+00,\n",
              "         2.15560645e+00,  2.70754335e+00,  2.53711386e+00,\n",
              "         2.08606035e+00,  2.05371264e+00,  2.54370053e+00,\n",
              "         2.77315994e+00,  1.82454299e+00],\n",
              "       [ 1.60482422e+00,  2.35986229e+00,  2.15694605e+00,\n",
              "         2.42029109e+00,  2.37551939e+00,  2.41260933e+00,\n",
              "         2.51892459e+00,  1.18369791e+00,  2.05344220e+00,\n",
              "         2.39002924e+00,  1.81804103e+00,  2.35042897e+00,\n",
              "         2.04021804e+00,  2.14705234e+00,  1.79415330e+00,\n",
              "         1.91040000e+00,  2.26703973e+00,  1.92490373e+00,\n",
              "         2.44137361e+00,  2.15563135e+00,  2.49779721e+00,\n",
              "         2.38246006e+00,  2.18791678e+00,  2.06169594e+00,\n",
              "         2.42910136e+00,  2.30038536e+00,  2.13773225e+00,\n",
              "         2.06475915e+00,  2.44216987e+00,  1.69313875e+00,\n",
              "         2.41951701e+00,  2.30169367e+00,  2.25812774e+00,\n",
              "         2.42667416e+00,  1.95819681e+00,  1.39135390e+00,\n",
              "         1.84919236e+00,  2.10601533e+00,  2.76371560e+00,\n",
              "         2.21957631e+00,  2.10688197e+00,  2.11611886e+00,\n",
              "         2.03131370e+00,  2.54036661e+00,  2.12502498e+00,\n",
              "         1.95628291e+00,  2.06549917e+00,  2.37034313e+00,\n",
              "         2.52466636e+00,  1.75492688e+00],\n",
              "       [ 1.32696693e+00,  1.64669271e+00,  1.92199133e+00,\n",
              "         2.14338004e+00,  1.84166809e+00,  2.01762366e+00,\n",
              "         2.10244877e+00,  1.02481642e+00,  1.92259422e+00,\n",
              "         2.04764341e+00,  1.58807110e+00,  2.04440365e+00,\n",
              "         2.03947303e+00,  1.89167627e+00,  1.54907835e+00,\n",
              "         1.54939173e+00,  2.24839950e+00,  1.69873847e+00,\n",
              "         2.38070035e+00,  1.87167883e+00,  2.28082551e+00,\n",
              "         1.89161714e+00,  1.96282821e+00,  1.93721199e+00,\n",
              "         1.80358087e+00,  1.97912968e+00,  1.83453556e+00,\n",
              "         1.56830538e+00,  2.21326655e+00,  1.45023073e+00,\n",
              "         2.07374554e+00,  1.90861488e+00,  2.15742302e+00,\n",
              "         2.20689032e+00,  1.63286356e+00,  1.12446390e+00,\n",
              "         1.58061637e+00,  2.00137210e+00,  2.36831438e+00,\n",
              "         1.81517357e+00,  2.09914244e+00,  1.89798828e+00,\n",
              "         1.81837316e+00,  2.22787751e+00,  1.87743419e+00,\n",
              "         1.67293816e+00,  1.73991384e+00,  2.05793239e+00,\n",
              "         2.35989073e+00,  1.38265439e+00],\n",
              "       [ 1.58682912e+00,  2.10688197e+00,  2.44506316e+00,\n",
              "         2.88812980e+00,  2.33086784e+00,  2.63416493e+00,\n",
              "         2.79453042e+00,  1.23543932e+00,  2.40316340e+00,\n",
              "         2.87325443e+00,  1.93242329e+00,  2.69783288e+00,\n",
              "         2.44330111e+00,  2.41100558e+00,  1.95209327e+00,\n",
              "         1.87888970e+00,  2.79136937e+00,  2.03050148e+00,\n",
              "         3.18769349e+00,  2.38824523e+00,  3.12446479e+00,\n",
              "         2.47703396e+00,  2.48332132e+00,  2.40839601e+00,\n",
              "         2.40721470e+00,  2.49240757e+00,  2.31051667e+00,\n",
              "         1.99806561e+00,  2.84550102e+00,  1.70921327e+00,\n",
              "         2.64424229e+00,  2.47760643e+00,  2.75366589e+00,\n",
              "         2.86801698e+00,  1.98522138e+00,  1.20131296e+00,\n",
              "         1.89029562e+00,  2.64836059e+00,  3.30779592e+00,\n",
              "         2.31311247e+00,  2.82603061e+00,  2.33710005e+00,\n",
              "         2.20272921e+00,  3.04342448e+00,  2.33271636e+00,\n",
              "         2.01517677e+00,  2.21740409e+00,  2.63799140e+00,\n",
              "         3.05087579e+00,  1.68159832e+00],\n",
              "       [ 1.73010094e+00,  2.63399289e+00,  2.67891117e+00,\n",
              "         3.22894439e+00,  2.85819418e+00,  3.18192548e+00,\n",
              "         3.34378616e+00,  1.30916217e+00,  2.53415651e+00,\n",
              "         3.17593530e+00,  2.03048253e+00,  3.02896486e+00,\n",
              "         2.47736491e+00,  2.61793994e+00,  2.10648376e+00,\n",
              "         2.10596435e+00,  2.89299508e+00,  2.25270074e+00,\n",
              "         3.27434743e+00,  2.68234005e+00,  3.33598104e+00,\n",
              "         2.92929178e+00,  2.76412470e+00,  2.65574831e+00,\n",
              "         3.00209934e+00,  2.78809273e+00,  2.60351954e+00,\n",
              "         2.42085822e+00,  3.14001937e+00,  1.82185201e+00,\n",
              "         3.03246696e+00,  2.95691229e+00,  2.91049303e+00,\n",
              "         3.15416359e+00,  2.23066271e+00,  1.36280838e+00,\n",
              "         2.05510103e+00,  2.82461022e+00,  3.87639675e+00,\n",
              "         2.66544824e+00,  2.79391413e+00,  2.59184334e+00,\n",
              "         2.41704316e+00,  3.41452330e+00,  2.63321913e+00,\n",
              "         2.26797636e+00,  2.45323442e+00,  2.96319031e+00,\n",
              "         3.36538844e+00,  1.99435910e+00],\n",
              "       [ 1.57848713e+00,  1.95819681e+00,  1.98938959e+00,\n",
              "         2.23995605e+00,  2.16378816e+00,  2.18140009e+00,\n",
              "         2.27125849e+00,  1.14897652e+00,  2.01782339e+00,\n",
              "         2.15455120e+00,  1.72672482e+00,  2.16742878e+00,\n",
              "         2.05145531e+00,  2.05004069e+00,  1.76380614e+00,\n",
              "         1.79954298e+00,  2.21619430e+00,  1.82735819e+00,\n",
              "         2.30237533e+00,  1.98064414e+00,  2.28619189e+00,\n",
              "         2.14359187e+00,  2.12832398e+00,  1.95479136e+00,\n",
              "         2.08351705e+00,  2.10097941e+00,  2.05824906e+00,\n",
              "         1.80755680e+00,  2.32468794e+00,  1.70140897e+00,\n",
              "         2.25448878e+00,  2.06236146e+00,  2.13941078e+00,\n",
              "         2.25945016e+00,  2.05022091e+00,  1.44490052e+00,\n",
              "         1.75332723e+00,  2.02271800e+00,  2.45797467e+00,\n",
              "         2.04228017e+00,  1.98522138e+00,  2.00493771e+00,\n",
              "         1.94825126e+00,  2.28309823e+00,  2.09449064e+00,\n",
              "         1.89105879e+00,  1.94432675e+00,  2.26162519e+00,\n",
              "         2.33117298e+00,  1.63519333e+00],\n",
              "       [ 1.44495047e+00,  2.28797917e+00,  2.37431108e+00,\n",
              "         3.02681376e+00,  2.67365747e+00,  2.83901408e+00,\n",
              "         3.10195615e+00,  1.06550347e+00,  2.44318559e+00,\n",
              "         3.07574345e+00,  1.72239077e+00,  2.94139847e+00,\n",
              "         2.44311565e+00,  2.49838451e+00,  1.92203327e+00,\n",
              "         1.75940587e+00,  2.96253405e+00,  1.96776175e+00,\n",
              "         3.33841921e+00,  2.43467977e+00,  3.33237624e+00,\n",
              "         2.66723425e+00,  2.67794249e+00,  2.74059459e+00,\n",
              "         2.58901825e+00,  2.63934333e+00,  2.45999352e+00,\n",
              "         2.08566249e+00,  3.26789471e+00,  1.48373973e+00,\n",
              "         3.00874903e+00,  2.82405249e+00,  2.92127634e+00,\n",
              "         3.09956874e+00,  2.04149434e+00,  1.05264240e+00,\n",
              "         1.73346965e+00,  2.83178938e+00,  3.87814552e+00,\n",
              "         2.37013864e+00,  2.75391129e+00,  2.46465203e+00,\n",
              "         2.20332353e+00,  3.30135264e+00,  2.42451668e+00,\n",
              "         1.94317083e+00,  2.26975070e+00,  2.90460300e+00,\n",
              "         3.35886757e+00,  1.74928285e+00],\n",
              "       [ 1.68302399e+00,  2.32383947e+00,  2.44859934e+00,\n",
              "         3.05114130e+00,  2.71600294e+00,  2.99391134e+00,\n",
              "         3.07155150e+00,  1.24911735e+00,  2.46363820e+00,\n",
              "         2.90241124e+00,  1.95959189e+00,  2.77326542e+00,\n",
              "         2.53202772e+00,  2.45815891e+00,  2.07146635e+00,\n",
              "         2.12463066e+00,  2.75488537e+00,  2.11691965e+00,\n",
              "         3.15036972e+00,  2.49664885e+00,  3.15186987e+00,\n",
              "         2.65504650e+00,  2.72507475e+00,  2.50177092e+00,\n",
              "         2.85830165e+00,  2.65978732e+00,  2.50568981e+00,\n",
              "         2.27757206e+00,  2.90978586e+00,  1.89497297e+00,\n",
              "         2.83204887e+00,  2.84530770e+00,  2.77557460e+00,\n",
              "         2.99894651e+00,  2.17588533e+00,  1.40640778e+00,\n",
              "         1.96546531e+00,  2.71726087e+00,  3.51472542e+00,\n",
              "         2.57096703e+00,  2.63060054e+00,  2.48089964e+00,\n",
              "         2.40362376e+00,  3.22853885e+00,  2.61285714e+00,\n",
              "         2.22059863e+00,  2.26365543e+00,  2.92374640e+00,\n",
              "         3.14681788e+00,  1.79510774e+00],\n",
              "       [ 1.69403223e+00,  2.37034313e+00,  2.42135184e+00,\n",
              "         2.98228219e+00,  2.83048382e+00,  2.85724191e+00,\n",
              "         2.99549870e+00,  1.27295324e+00,  2.49878048e+00,\n",
              "         2.85612105e+00,  1.91110504e+00,  2.78115068e+00,\n",
              "         2.57088678e+00,  2.52791008e+00,  2.10438881e+00,\n",
              "         2.01915831e+00,  2.81876970e+00,  2.12583522e+00,\n",
              "         3.09173133e+00,  2.40573944e+00,  3.14747804e+00,\n",
              "         2.65288152e+00,  2.68455490e+00,  2.52973654e+00,\n",
              "         2.75836968e+00,  2.76961532e+00,  2.54331421e+00,\n",
              "         2.28731033e+00,  3.02929868e+00,  1.87183304e+00,\n",
              "         2.81837007e+00,  2.80022091e+00,  2.77165714e+00,\n",
              "         2.98079909e+00,  2.26162519e+00,  1.35979107e+00,\n",
              "         1.90308832e+00,  2.67258756e+00,  3.37152472e+00,\n",
              "         2.61370459e+00,  2.63799140e+00,  2.46223341e+00,\n",
              "         2.37044037e+00,  3.17172463e+00,  2.54370053e+00,\n",
              "         2.13104256e+00,  2.29374339e+00,  3.13344967e+00,\n",
              "         3.12531906e+00,  1.82005769e+00],\n",
              "       [ 1.51793849e+00,  1.81804103e+00,  2.01480002e+00,\n",
              "         2.08228621e+00,  1.77048779e+00,  1.99975392e+00,\n",
              "         2.00456342e+00,  1.22546807e+00,  1.99944268e+00,\n",
              "         2.09578932e+00,  2.03241676e+00,  2.02036445e+00,\n",
              "         1.94345640e+00,  1.93714024e+00,  1.67281781e+00,\n",
              "         1.76675439e+00,  1.99789928e+00,  1.94362830e+00,\n",
              "         2.17244711e+00,  1.91511038e+00,  2.17290099e+00,\n",
              "         1.94360096e+00,  1.88818204e+00,  1.81878692e+00,\n",
              "         1.88647397e+00,  1.97135320e+00,  1.87311978e+00,\n",
              "         1.65079969e+00,  2.00553689e+00,  1.75126860e+00,\n",
              "         1.92778977e+00,  1.73172415e+00,  2.16431960e+00,\n",
              "         2.00705550e+00,  1.72672482e+00,  1.45765814e+00,\n",
              "         1.86783449e+00,  1.85009933e+00,  2.11665064e+00,\n",
              "         1.84696840e+00,  1.93242329e+00,  1.95470038e+00,\n",
              "         1.86005920e+00,  2.07424990e+00,  1.84327204e+00,\n",
              "         1.82103097e+00,  1.87286764e+00,  1.91110504e+00,\n",
              "         2.13937128e+00,  1.61575718e+00],\n",
              "       [ 1.68480675e+00,  2.37551939e+00,  2.25666155e+00,\n",
              "         2.78645541e+00,  3.08247429e+00,  2.73318087e+00,\n",
              "         2.90770601e+00,  1.16123002e+00,  2.29905396e+00,\n",
              "         2.74681733e+00,  1.77048779e+00,  2.62514286e+00,\n",
              "         2.29588957e+00,  2.31567647e+00,  1.90918070e+00,\n",
              "         1.94653793e+00,  2.64843083e+00,  1.98283273e+00,\n",
              "         2.76224133e+00,  2.36568034e+00,  2.82394138e+00,\n",
              "         2.59218971e+00,  2.68104906e+00,  2.36843691e+00,\n",
              "         2.73119932e+00,  2.60072125e+00,  2.45550204e+00,\n",
              "         2.20000321e+00,  2.86309153e+00,  1.77704723e+00,\n",
              "         2.71749319e+00,  2.68332005e+00,  2.51284661e+00,\n",
              "         2.85719285e+00,  2.16378816e+00,  1.35966332e+00,\n",
              "         1.84284525e+00,  2.46147630e+00,  3.22209308e+00,\n",
              "         2.54359334e+00,  2.33086784e+00,  2.36684436e+00,\n",
              "         2.24239729e+00,  3.00688005e+00,  2.39419232e+00,\n",
              "         2.08665892e+00,  2.19019667e+00,  2.83048382e+00,\n",
              "         2.93458858e+00,  1.82212860e+00],\n",
              "       [ 1.71583017e+00,  2.13773225e+00,  2.24746299e+00,\n",
              "         2.69970945e+00,  2.45550204e+00,  2.54445710e+00,\n",
              "         2.64731308e+00,  1.19682246e+00,  2.27588458e+00,\n",
              "         2.59327499e+00,  1.87311978e+00,  2.49505047e+00,\n",
              "         2.24241411e+00,  2.26197921e+00,  1.88029434e+00,\n",
              "         1.91112980e+00,  2.50096736e+00,  2.01950289e+00,\n",
              "         2.70949493e+00,  2.28034026e+00,  2.69422344e+00,\n",
              "         2.38260740e+00,  2.42027069e+00,  2.23480548e+00,\n",
              "         2.40486458e+00,  2.40325017e+00,  2.41734216e+00,\n",
              "         1.99893570e+00,  2.62357414e+00,  1.79323867e+00,\n",
              "         2.48505453e+00,  2.40069493e+00,  2.48025751e+00,\n",
              "         2.64974994e+00,  2.05824906e+00,  1.41335900e+00,\n",
              "         1.89454057e+00,  2.35775885e+00,  3.00555057e+00,\n",
              "         2.30358359e+00,  2.31051667e+00,  2.29152734e+00,\n",
              "         2.16764767e+00,  2.74604629e+00,  2.26062101e+00,\n",
              "         2.01619339e+00,  2.16928124e+00,  2.54331421e+00,\n",
              "         2.73689281e+00,  1.76066104e+00],\n",
              "       [ 1.83507620e+00,  2.42667416e+00,  2.60353709e+00,\n",
              "         3.13005879e+00,  2.85719285e+00,  2.95132930e+00,\n",
              "         3.17795029e+00,  1.24565076e+00,  2.63684056e+00,\n",
              "         3.10003965e+00,  2.00705550e+00,  2.99111179e+00,\n",
              "         2.60483552e+00,  2.56569958e+00,  2.03961066e+00,\n",
              "         2.08467129e+00,  3.10973368e+00,  2.18288936e+00,\n",
              "         3.35824283e+00,  2.70197734e+00,  3.29551550e+00,\n",
              "         2.77583377e+00,  2.87156977e+00,  2.71491113e+00,\n",
              "         2.76508751e+00,  2.74361361e+00,  2.64974994e+00,\n",
              "         2.32057432e+00,  3.18700798e+00,  1.85790462e+00,\n",
              "         3.08911265e+00,  2.91368359e+00,  2.97406886e+00,\n",
              "         3.44142570e+00,  2.25945016e+00,  1.40641689e+00,\n",
              "         2.06748876e+00,  2.95417791e+00,  3.86634045e+00,\n",
              "         2.61799174e+00,  2.86801698e+00,  2.64896022e+00,\n",
              "         2.45036084e+00,  3.39156607e+00,  2.63492044e+00,\n",
              "         2.27531044e+00,  2.47203541e+00,  2.98079909e+00,\n",
              "         3.43927107e+00,  1.95087504e+00],\n",
              "       [ 1.95239945e+02, -1.76950269e+02, -2.83793343e+02,\n",
              "        -1.89098089e+02,  5.48388697e+02,  5.15513715e+02,\n",
              "         9.60154647e+02,  2.00578919e+02,  2.29458971e+02,\n",
              "        -3.38927281e+01,  2.50730116e+01,  2.33761697e+02,\n",
              "         9.85130620e+01, -1.92163383e+02, -1.31150364e+02,\n",
              "        -1.89767682e+02,  4.05843354e+01, -1.51344213e+02,\n",
              "         3.93662699e+01, -1.53493659e+02,  9.97042404e+01,\n",
              "        -3.03572155e+02, -3.23492160e+02,  6.24996056e+01,\n",
              "        -2.93799761e+02,  1.88508781e+02, -1.66399940e+02,\n",
              "         4.37702650e+01, -4.33315938e+02, -1.84320876e+02,\n",
              "         2.28416544e+02, -2.84619404e+01,  6.47152382e+01,\n",
              "        -8.00146722e+01,  6.24474707e+01,  1.32493763e+02,\n",
              "         2.01247703e+02,  9.90692183e+01, -1.55966695e+02,\n",
              "        -2.65837258e+02,  3.25782760e+02, -2.46368748e+02,\n",
              "         2.11966471e+02, -4.04401056e+01, -3.31815879e+02,\n",
              "         1.20985262e+02,  1.29592461e+02, -1.12479869e+02,\n",
              "        -4.01114216e+02,  6.58934564e+01],\n",
              "       [ 1.71879134e+00,  2.18791678e+00,  2.32935867e+00,\n",
              "         2.78751149e+00,  2.68104906e+00,  2.65533703e+00,\n",
              "         2.83410429e+00,  1.21325152e+00,  2.39440633e+00,\n",
              "         2.81565332e+00,  1.88818204e+00,  2.66257692e+00,\n",
              "         2.39627055e+00,  2.33775371e+00,  1.89472564e+00,\n",
              "         1.95063469e+00,  2.78362719e+00,  2.03256167e+00,\n",
              "         2.92170939e+00,  2.41284305e+00,  2.87758673e+00,\n",
              "         2.50935223e+00,  2.83623607e+00,  2.45633552e+00,\n",
              "         2.48583754e+00,  2.46480665e+00,  2.42027069e+00,\n",
              "         2.01883358e+00,  2.84629175e+00,  1.85167359e+00,\n",
              "         2.72868800e+00,  2.53552557e+00,  2.63678334e+00,\n",
              "         2.87156977e+00,  2.12832398e+00,  1.40078578e+00,\n",
              "         1.94391210e+00,  2.57500346e+00,  3.22832620e+00,\n",
              "         2.38334769e+00,  2.48332132e+00,  2.43746946e+00,\n",
              "         2.27196444e+00,  2.93749942e+00,  2.42137661e+00,\n",
              "         2.12219894e+00,  2.22332447e+00,  2.68455490e+00,\n",
              "         2.98195889e+00,  1.79726400e+00],\n",
              "       [ 1.38573519e+00,  1.75492688e+00,  1.73993141e+00,\n",
              "         1.91551175e+00,  1.82212860e+00,  1.85551713e+00,\n",
              "         1.90216057e+00,  1.05795009e+00,  1.80345495e+00,\n",
              "         1.91657592e+00,  1.61575718e+00,  2.02734166e+00,\n",
              "         1.75946269e+00,  1.70928003e+00,  1.44132428e+00,\n",
              "         1.54220944e+00,  1.89865893e+00,  1.83545623e+00,\n",
              "         1.91588986e+00,  1.75160259e+00,  1.96270457e+00,\n",
              "         1.92281019e+00,  1.79726400e+00,  1.74572563e+00,\n",
              "         1.82633559e+00,  1.77964329e+00,  1.76066104e+00,\n",
              "         1.63328670e+00,  1.97425721e+00,  1.48396292e+00,\n",
              "         1.94888886e+00,  1.73863714e+00,  1.90563787e+00,\n",
              "         1.95087504e+00,  1.63519333e+00,  1.31581776e+00,\n",
              "         1.68510906e+00,  1.64893723e+00,  2.07972325e+00,\n",
              "         1.66115853e+00,  1.68159832e+00,  1.81925792e+00,\n",
              "         1.66758009e+00,  1.97572881e+00,  1.82454299e+00,\n",
              "         1.73479355e+00,  1.67242057e+00,  1.82005769e+00,\n",
              "         2.02160639e+00,  1.77555153e+00],\n",
              "       [ 1.57055314e+00,  2.30169367e+00,  2.33291367e+00,\n",
              "         2.90193447e+00,  2.68332005e+00,  2.77720072e+00,\n",
              "         2.94331217e+00,  1.13261044e+00,  2.29193804e+00,\n",
              "         2.70365607e+00,  1.73172415e+00,  2.68471538e+00,\n",
              "         2.34027492e+00,  2.31349590e+00,  1.88419742e+00,\n",
              "         1.86992296e+00,  2.65021062e+00,  1.94630924e+00,\n",
              "         2.94269957e+00,  2.32321016e+00,  2.95323715e+00,\n",
              "         2.59289184e+00,  2.53552557e+00,  2.39417681e+00,\n",
              "         2.69128589e+00,  2.57216728e+00,  2.40069493e+00,\n",
              "         2.26263716e+00,  2.85964692e+00,  1.65534214e+00,\n",
              "         2.79341153e+00,  2.83660957e+00,  2.59307091e+00,\n",
              "         2.91368359e+00,  2.06236146e+00,  1.21179972e+00,\n",
              "         1.80962177e+00,  2.54852537e+00,  3.43710516e+00,\n",
              "         2.46346306e+00,  2.47760643e+00,  2.32966541e+00,\n",
              "         2.21073636e+00,  3.06225712e+00,  2.46076748e+00,\n",
              "         2.03894431e+00,  2.13824662e+00,  2.80022091e+00,\n",
              "         3.03773346e+00,  1.73863714e+00]])"
            ]
          },
          "metadata": {},
          "execution_count": 129
        }
      ]
    },
    {
      "cell_type": "code",
      "source": [
        "all_elements_reshaped.shape"
      ],
      "metadata": {
        "colab": {
          "base_uri": "https://localhost:8080/"
        },
        "id": "DGU-FNP8f-BY",
        "outputId": "4bfb3d74-e1c8-45b3-e793-40ac848472f0"
      },
      "execution_count": 109,
      "outputs": [
        {
          "output_type": "execute_result",
          "data": {
            "text/plain": [
              "(100, 4500)"
            ]
          },
          "metadata": {},
          "execution_count": 109
        }
      ]
    },
    {
      "cell_type": "code",
      "source": [
        "first_element = all_elements_reshaped[0];"
      ],
      "metadata": {
        "id": "hiYk29V7akmy"
      },
      "execution_count": 110,
      "outputs": []
    },
    {
      "cell_type": "code",
      "source": [
        "first_element.shape"
      ],
      "metadata": {
        "colab": {
          "base_uri": "https://localhost:8080/"
        },
        "id": "YdgwIEGegDLI",
        "outputId": "5d5718ef-c872-4903-e77a-35f7b3826746"
      },
      "execution_count": 111,
      "outputs": [
        {
          "output_type": "execute_result",
          "data": {
            "text/plain": [
              "(4500,)"
            ]
          },
          "metadata": {},
          "execution_count": 111
        }
      ]
    },
    {
      "cell_type": "code",
      "source": [
        "first_element = first_element.reshape(30, 5, 30)"
      ],
      "metadata": {
        "id": "Kxowy6bba0Yf"
      },
      "execution_count": 112,
      "outputs": []
    },
    {
      "cell_type": "code",
      "source": [
        "first_element = first_element.reshape(1, 30, 5, 30)"
      ],
      "metadata": {
        "id": "4Tivk27VhYlU"
      },
      "execution_count": 113,
      "outputs": []
    },
    {
      "cell_type": "code",
      "source": [
        "first_element.shape"
      ],
      "metadata": {
        "colab": {
          "base_uri": "https://localhost:8080/"
        },
        "id": "4OUFujw0bQAe",
        "outputId": "3f32ffc8-d235-438a-e5d4-27dc43f7758e"
      },
      "execution_count": 114,
      "outputs": [
        {
          "output_type": "execute_result",
          "data": {
            "text/plain": [
              "(1, 30, 5, 30)"
            ]
          },
          "metadata": {},
          "execution_count": 114
        }
      ]
    },
    {
      "cell_type": "code",
      "source": [
        "second_element = all_elements_reshaped[1];"
      ],
      "metadata": {
        "id": "Ro52K93MapA5"
      },
      "execution_count": 115,
      "outputs": []
    },
    {
      "cell_type": "code",
      "source": [
        "second_element.shape"
      ],
      "metadata": {
        "colab": {
          "base_uri": "https://localhost:8080/"
        },
        "id": "TuP8wkFBUviX",
        "outputId": "68de1ca9-cf60-4377-b571-26452114d0aa"
      },
      "execution_count": 116,
      "outputs": [
        {
          "output_type": "execute_result",
          "data": {
            "text/plain": [
              "(4500,)"
            ]
          },
          "metadata": {},
          "execution_count": 116
        }
      ]
    },
    {
      "cell_type": "code",
      "source": [
        "second_element = second_element.reshape(30, 5, 30)"
      ],
      "metadata": {
        "id": "KqhmlK_ghb4q"
      },
      "execution_count": 117,
      "outputs": []
    },
    {
      "cell_type": "code",
      "source": [
        "second_element = second_element.reshape(1, 30, 5, 30)"
      ],
      "metadata": {
        "id": "nYHStysKbGOX"
      },
      "execution_count": 118,
      "outputs": []
    },
    {
      "cell_type": "code",
      "source": [
        "F = get_local_kernels(first_element, second_element)"
      ],
      "metadata": {
        "id": "Tyea_5G7K_-s"
      },
      "execution_count": 122,
      "outputs": []
    },
    {
      "cell_type": "code",
      "source": [
        "F[0][0][0]"
      ],
      "metadata": {
        "colab": {
          "base_uri": "https://localhost:8080/"
        },
        "id": "azm5HE_fAecl",
        "outputId": "cae3af25-b8b2-4c53-b24c-4e73cb294a69"
      },
      "execution_count": 123,
      "outputs": [
        {
          "output_type": "execute_result",
          "data": {
            "text/plain": [
              "250.72707594839096"
            ]
          },
          "metadata": {},
          "execution_count": 123
        }
      ]
    },
    {
      "cell_type": "code",
      "source": [
        "L = get_local_kernels(first_element, first_element)"
      ],
      "metadata": {
        "id": "gj971NE5-YuQ"
      },
      "execution_count": 121,
      "outputs": []
    },
    {
      "cell_type": "markdown",
      "source": [
        ""
      ],
      "metadata": {
        "id": "UkyDKokOgMP4"
      }
    },
    {
      "cell_type": "code",
      "source": [
        "K = get_local_kernels(np.asarray(data.head(1)['fchl_rep'].tolist()), np.asarray(data.tail(1)['fchl_rep'].tolist()))"
      ],
      "metadata": {
        "id": "W2GcvKHOcpce"
      },
      "execution_count": 331,
      "outputs": []
    },
    {
      "cell_type": "code",
      "source": [
        "exp = get_local_kernels(np.asarray(data.head(1)['fchl_rep'].tolist()), np.asarray(data.head(1)['fchl_rep'].tolist()))"
      ],
      "metadata": {
        "id": "b_WzawxUUPIo"
      },
      "execution_count": 52,
      "outputs": []
    },
    {
      "cell_type": "code",
      "source": [
        "exp"
      ],
      "metadata": {
        "colab": {
          "base_uri": "https://localhost:8080/"
        },
        "id": "_yqC5ERnUSsu",
        "outputId": "57f20ab5-bda8-4101-d6ef-92b928834e31"
      },
      "execution_count": 51,
      "outputs": [
        {
          "output_type": "execute_result",
          "data": {
            "text/plain": [
              "array([[[408.41627189]]])"
            ]
          },
          "metadata": {},
          "execution_count": 51
        }
      ]
    },
    {
      "cell_type": "code",
      "source": [
        "F"
      ],
      "metadata": {
        "colab": {
          "base_uri": "https://localhost:8080/"
        },
        "id": "5NyHOl9V-ysb",
        "outputId": "10477dd4-d207-43b0-e379-5f87768eeda4"
      },
      "execution_count": 340,
      "outputs": [
        {
          "output_type": "execute_result",
          "data": {
            "text/plain": [
              "array([[[300.32090434]]])"
            ]
          },
          "metadata": {},
          "execution_count": 340
        }
      ]
    },
    {
      "cell_type": "code",
      "source": [
        "L"
      ],
      "metadata": {
        "colab": {
          "base_uri": "https://localhost:8080/"
        },
        "id": "Qg1R5JXr-zsa",
        "outputId": "797605b0-7e1c-4dde-db1d-0bd58c94d774"
      },
      "execution_count": 341,
      "outputs": [
        {
          "output_type": "execute_result",
          "data": {
            "text/plain": [
              "array([[[350.16324304]]])"
            ]
          },
          "metadata": {},
          "execution_count": 341
        }
      ]
    },
    {
      "cell_type": "code",
      "source": [
        "K"
      ],
      "metadata": {
        "colab": {
          "base_uri": "https://localhost:8080/"
        },
        "id": "bdsNw_Re-0Sr",
        "outputId": "7213ba70-05f9-437a-d6a1-a665b1cd0e50"
      },
      "execution_count": 342,
      "outputs": [
        {
          "output_type": "execute_result",
          "data": {
            "text/plain": [
              "array([[[300.32090434]]])"
            ]
          },
          "metadata": {},
          "execution_count": 342
        }
      ]
    },
    {
      "cell_type": "code",
      "source": [
        "np.array_equal(np.asarray(data.head(1)['fchl_rep'].tolist()), first_element)"
      ],
      "metadata": {
        "colab": {
          "base_uri": "https://localhost:8080/"
        },
        "id": "U7DMQGGdm_de",
        "outputId": "79c4990b-d494-4118-ec08-9abe9f11e7e4"
      },
      "execution_count": 332,
      "outputs": [
        {
          "output_type": "execute_result",
          "data": {
            "text/plain": [
              "True"
            ]
          },
          "metadata": {},
          "execution_count": 332
        }
      ]
    },
    {
      "cell_type": "code",
      "source": [
        "np.array_equal(np.asarray(data.tail(1)['fchl_rep'].tolist()), second_element)"
      ],
      "metadata": {
        "colab": {
          "base_uri": "https://localhost:8080/"
        },
        "id": "x8setFxNnW3n",
        "outputId": "e26f6177-ff4f-4dca-fe4a-f2fcdbb2e510"
      },
      "execution_count": 333,
      "outputs": [
        {
          "output_type": "execute_result",
          "data": {
            "text/plain": [
              "True"
            ]
          },
          "metadata": {},
          "execution_count": 333
        }
      ]
    },
    {
      "cell_type": "code",
      "source": [
        "K.shape"
      ],
      "metadata": {
        "colab": {
          "base_uri": "https://localhost:8080/"
        },
        "id": "dVtnpJF4RvTY",
        "outputId": "837c9e09-8dea-48a1-e648-89eacf997154"
      },
      "execution_count": 334,
      "outputs": [
        {
          "output_type": "execute_result",
          "data": {
            "text/plain": [
              "(1, 1, 1)"
            ]
          },
          "metadata": {},
          "execution_count": 334
        }
      ]
    },
    {
      "cell_type": "code",
      "source": [
        "K"
      ],
      "metadata": {
        "colab": {
          "base_uri": "https://localhost:8080/"
        },
        "id": "wrrQ1p4IRyrl",
        "outputId": "6f5c4e9d-cf8d-475c-c2e9-815877a8b4b8"
      },
      "execution_count": 335,
      "outputs": [
        {
          "output_type": "execute_result",
          "data": {
            "text/plain": [
              "array([[[300.32090434]]])"
            ]
          },
          "metadata": {},
          "execution_count": 335
        }
      ]
    },
    {
      "cell_type": "code",
      "source": [
        "F.shape"
      ],
      "metadata": {
        "colab": {
          "base_uri": "https://localhost:8080/"
        },
        "id": "E3NoYZqmgKF2",
        "outputId": "626d2bd4-52ce-40f2-d86a-21441a2e784a"
      },
      "execution_count": 336,
      "outputs": [
        {
          "output_type": "execute_result",
          "data": {
            "text/plain": [
              "(1, 1, 1)"
            ]
          },
          "metadata": {},
          "execution_count": 336
        }
      ]
    },
    {
      "cell_type": "code",
      "source": [
        "F"
      ],
      "metadata": {
        "colab": {
          "base_uri": "https://localhost:8080/"
        },
        "id": "w3TCmlbzgyzk",
        "outputId": "6b207edf-f04b-487a-8f09-50e5d44ce723"
      },
      "execution_count": 337,
      "outputs": [
        {
          "output_type": "execute_result",
          "data": {
            "text/plain": [
              "array([[[300.32090434]]])"
            ]
          },
          "metadata": {},
          "execution_count": 337
        }
      ]
    },
    {
      "cell_type": "code",
      "source": [
        "all_elements.shape"
      ],
      "metadata": {
        "colab": {
          "base_uri": "https://localhost:8080/"
        },
        "id": "eMCE9zUdXGrX",
        "outputId": "6ccbe4ed-07cd-4e62-8f33-c81b8331e538"
      },
      "execution_count": 338,
      "outputs": [
        {
          "output_type": "execute_result",
          "data": {
            "text/plain": [
              "(2000, 30, 5, 30)"
            ]
          },
          "metadata": {},
          "execution_count": 338
        }
      ]
    },
    {
      "cell_type": "code",
      "source": [
        "reshaped_array = all_elements.reshape(-1, 30 * 5 * 30);"
      ],
      "metadata": {
        "id": "WrPNZnGbXSaK"
      },
      "execution_count": 11,
      "outputs": []
    },
    {
      "cell_type": "code",
      "source": [
        "reshaped_array.shape"
      ],
      "metadata": {
        "colab": {
          "base_uri": "https://localhost:8080/"
        },
        "id": "8t_EA0sfXdhq",
        "outputId": "29b54a0a-19e4-4374-aa95-ba8192e034b7"
      },
      "execution_count": 12,
      "outputs": [
        {
          "output_type": "execute_result",
          "data": {
            "text/plain": [
              "(2000, 4500)"
            ]
          },
          "metadata": {},
          "execution_count": 12
        }
      ]
    },
    {
      "cell_type": "code",
      "source": [
        ""
      ],
      "metadata": {
        "id": "pyjv8AMdXi1A"
      },
      "execution_count": null,
      "outputs": []
    },
    {
      "cell_type": "code",
      "source": [
        "from sklearn import datasets, svm\n",
        "from sklearn.kernel_approximation import Nystroem"
      ],
      "metadata": {
        "trusted": true,
        "id": "kS_UMEhbs8l5"
      },
      "execution_count": 6,
      "outputs": []
    },
    {
      "cell_type": "code",
      "source": [
        "import numpy as np\n",
        "from scipy.sparse import csr_matrix\n",
        "import pytest\n",
        "\n",
        "from sklearn.utils._testing import assert_array_equal\n",
        "from sklearn.utils._testing import assert_array_almost_equal, assert_raises\n",
        "\n",
        "from sklearn.metrics.pairwise import kernel_metrics\n",
        "from sklearn.kernel_approximation import RBFSampler\n",
        "from sklearn.kernel_approximation import AdditiveChi2Sampler\n",
        "from sklearn.kernel_approximation import SkewedChi2Sampler\n",
        "from sklearn.kernel_approximation import Nystroem\n",
        "from sklearn.metrics.pairwise import polynomial_kernel, rbf_kernel, chi2_kernel"
      ],
      "metadata": {
        "id": "s8JWgBpsvGr9"
      },
      "execution_count": 8,
      "outputs": []
    },
    {
      "cell_type": "code",
      "source": [
        "    # Non-regression: test Nystroem on precomputed kernel.\n",
        "    # PR - 14706\n",
        "    rnd = np.random.RandomState(12)\n",
        "    X = rnd.uniform(size=(10, 4))\n",
        "\n",
        "    K = polynomial_kernel(X, degree=2, coef0=.1)\n",
        "    nystroem = Nystroem(kernel='precomputed', n_components=X.shape[0])\n",
        "    X_transformed = nystroem.fit_transform(K)\n",
        "    assert_array_almost_equal(np.dot(X_transformed, X_transformed.T), K)\n",
        "\n",
        "    # if degree, gamma or coef0 is passed, we raise a ValueError\n",
        "    msg = \"Don't pass gamma, coef0 or degree to Nystroem\"\n",
        "    params = ({'gamma': 1}, {'coef0': 1}, {'degree': 2})\n",
        "    for param in params:\n",
        "        ny = Nystroem(kernel='precomputed', n_components=X.shape[0],\n",
        "                      **param)\n",
        "        with pytest.raises(ValueError, match=msg):\n",
        "            ny.fit(K)"
      ],
      "metadata": {
        "id": "S7nELJL2u8Lp"
      },
      "execution_count": 9,
      "outputs": []
    },
    {
      "cell_type": "code",
      "source": [
        "def _linear_kernel(X, Y):\n",
        "    return np.dot(X, Y.T)\n",
        "\n"
      ],
      "metadata": {
        "id": "-Q57jRggyed-"
      },
      "execution_count": 14,
      "outputs": []
    },
    {
      "cell_type": "code",
      "source": [
        "    # Test Nystroem on a callable.\n",
        "    rnd = np.random.RandomState(42)\n",
        "    n_samples = 10\n",
        "    X = rnd.uniform(size=(n_samples, 4))\n",
        "\n",
        "    def logging_histogram_kernel(x, y, log):\n",
        "        \"\"\"Histogram kernel that writes to a log.\"\"\"\n",
        "        log.append(1)\n",
        "        return np.minimum(x, y).sum()\n",
        "\n",
        "    kernel_log = []\n",
        "    X = list(X)     # test input validation\n",
        "    Nystroem(kernel=logging_histogram_kernel,\n",
        "             n_components=(n_samples - 1),\n",
        "             kernel_params={'log': kernel_log}).fit(X)\n",
        "    assert len(kernel_log) == n_samples * (n_samples - 1) / 2\n",
        "\n",
        "    # if degree, gamma or coef0 is passed, we raise a warning\n",
        "    msg = \"Don't pass gamma, coef0 or degree to Nystroem\"\n",
        "    params = ({'gamma': 1}, {'coef0': 1}, {'degree': 2})\n",
        "    for param in params:\n",
        "        ny = Nystroem(kernel=_linear_kernel, **param)\n",
        "        with pytest.raises(ValueError, match=msg):\n",
        "            ny.fit(X)"
      ],
      "metadata": {
        "colab": {
          "base_uri": "https://localhost:8080/"
        },
        "id": "5BUF2y6MyWyo",
        "outputId": "5bdf1d5e-c0e3-4599-81a9-a41dad682ad1"
      },
      "execution_count": 19,
      "outputs": [
        {
          "output_type": "stream",
          "name": "stderr",
          "text": [
            "/usr/local/lib/python3.7/dist-packages/sklearn/kernel_approximation.py:886: UserWarning: n_components > n_samples. This is not possible.\n",
            "n_components was set to n_samples, which results in inefficient evaluation of the full kernel.\n",
            "  \"n_components > n_samples. This is not possible.\\n\"\n",
            "/usr/local/lib/python3.7/dist-packages/sklearn/kernel_approximation.py:886: UserWarning: n_components > n_samples. This is not possible.\n",
            "n_components was set to n_samples, which results in inefficient evaluation of the full kernel.\n",
            "  \"n_components > n_samples. This is not possible.\\n\"\n",
            "/usr/local/lib/python3.7/dist-packages/sklearn/kernel_approximation.py:886: UserWarning: n_components > n_samples. This is not possible.\n",
            "n_components was set to n_samples, which results in inefficient evaluation of the full kernel.\n",
            "  \"n_components > n_samples. This is not possible.\\n\"\n"
          ]
        }
      ]
    },
    {
      "cell_type": "code",
      "source": [
        "len(kernel_log)"
      ],
      "metadata": {
        "colab": {
          "base_uri": "https://localhost:8080/"
        },
        "id": "Wer560y9ygfh",
        "outputId": "55b9c31a-eef4-4a69-cba3-81af71667b7e"
      },
      "execution_count": 18,
      "outputs": [
        {
          "output_type": "execute_result",
          "data": {
            "text/plain": [
              "45"
            ]
          },
          "metadata": {},
          "execution_count": 18
        }
      ]
    },
    {
      "cell_type": "code",
      "source": [
        " n_samples * (n_samples - 1) / 2"
      ],
      "metadata": {
        "colab": {
          "base_uri": "https://localhost:8080/"
        },
        "id": "UsMgI9quF2dd",
        "outputId": "24a77e0e-a932-4b17-eef4-1d674d698c84"
      },
      "execution_count": 20,
      "outputs": [
        {
          "output_type": "execute_result",
          "data": {
            "text/plain": [
              "45.0"
            ]
          },
          "metadata": {},
          "execution_count": 20
        }
      ]
    },
    {
      "cell_type": "code",
      "source": [
        "X.shape"
      ],
      "metadata": {
        "colab": {
          "base_uri": "https://localhost:8080/"
        },
        "id": "j62wuW-DvJwE",
        "outputId": "62cb0841-686c-4399-f9f2-347fd35d47a6"
      },
      "execution_count": 11,
      "outputs": [
        {
          "output_type": "execute_result",
          "data": {
            "text/plain": [
              "(10, 4)"
            ]
          },
          "metadata": {},
          "execution_count": 11
        }
      ]
    },
    {
      "cell_type": "code",
      "source": [
        "X_transformed.shape"
      ],
      "metadata": {
        "colab": {
          "base_uri": "https://localhost:8080/"
        },
        "id": "TvhkIWjEvPGS",
        "outputId": "5d91e87d-649c-4217-9971-666430137675"
      },
      "execution_count": 12,
      "outputs": [
        {
          "output_type": "execute_result",
          "data": {
            "text/plain": [
              "(10, 10)"
            ]
          },
          "metadata": {},
          "execution_count": 12
        }
      ]
    },
    {
      "cell_type": "code",
      "source": [
        "fchl_kernel = FCHLKernel()"
      ],
      "metadata": {
        "tags": [],
        "trusted": true,
        "id": "N09onWprs8l7"
      },
      "execution_count": null,
      "outputs": []
    },
    {
      "cell_type": "code",
      "source": [
        "test = np.zeros((3,3))"
      ],
      "metadata": {
        "id": "RFcqGHObs8l7"
      },
      "execution_count": null,
      "outputs": []
    },
    {
      "cell_type": "code",
      "source": [
        "test[0][0]"
      ],
      "metadata": {
        "id": "q-Z-7007s8l7",
        "outputId": "bfac825b-14bf-4d8e-95a0-2d613e18af54"
      },
      "execution_count": null,
      "outputs": [
        {
          "execution_count": 44,
          "output_type": "execute_result",
          "data": {
            "text/plain": "0.0"
          },
          "metadata": {}
        }
      ]
    },
    {
      "cell_type": "markdown",
      "source": [
        "This class provides a method for fitting the FCHL kernel, which captures the points used as training entries"
      ],
      "metadata": {
        "id": "tuXOHzVVs8l8"
      }
    },
    {
      "cell_type": "code",
      "source": [
        "matrix = fchl_kernel.fit_transform(data.head(50)['fchl_rep'].tolist())"
      ],
      "metadata": {
        "tags": [],
        "id": "gXxs6UObs8l8"
      },
      "execution_count": null,
      "outputs": []
    },
    {
      "cell_type": "code",
      "source": [
        "Matrix.shape"
      ],
      "metadata": {
        "id": "BqXe0WnMs8l9",
        "outputId": "fce9c4a5-9087-40ef-e1a9-7c42c463aed7"
      },
      "execution_count": null,
      "outputs": [
        {
          "execution_count": 62,
          "output_type": "execute_result",
          "data": {
            "text/plain": "(50, 50)"
          },
          "metadata": {}
        }
      ]
    },
    {
      "cell_type": "code",
      "source": [
        "nystroem = Nystroem(kernel=FCHLKernel, random_state=1, n_components=50)"
      ],
      "metadata": {
        "id": "tpvaYYp3s8l-"
      },
      "execution_count": 8,
      "outputs": []
    },
    {
      "cell_type": "code",
      "source": [
        "points = nystroem.fit(train_data['fchl_rep'].tolist())"
      ],
      "metadata": {
        "colab": {
          "base_uri": "https://localhost:8080/",
          "height": 343
        },
        "id": "cBoPzQ70s8l-",
        "outputId": "bdb6df3a-655c-4a6b-d0ac-ec1ace79699a"
      },
      "execution_count": 11,
      "outputs": [
        {
          "output_type": "error",
          "ename": "ValueError",
          "evalue": "ignored",
          "traceback": [
            "\u001b[0;31m---------------------------------------------------------------------------\u001b[0m",
            "\u001b[0;31mValueError\u001b[0m                                Traceback (most recent call last)",
            "\u001b[0;32m<ipython-input-11-ad7f485d6bbe>\u001b[0m in \u001b[0;36m<module>\u001b[0;34m()\u001b[0m\n\u001b[0;32m----> 1\u001b[0;31m \u001b[0mpoints\u001b[0m \u001b[0;34m=\u001b[0m \u001b[0mnystroem\u001b[0m\u001b[0;34m.\u001b[0m\u001b[0mfit\u001b[0m\u001b[0;34m(\u001b[0m\u001b[0mtrain_data\u001b[0m\u001b[0;34m[\u001b[0m\u001b[0;34m'fchl_rep'\u001b[0m\u001b[0;34m]\u001b[0m\u001b[0;34m.\u001b[0m\u001b[0mtolist\u001b[0m\u001b[0;34m(\u001b[0m\u001b[0;34m)\u001b[0m\u001b[0;34m)\u001b[0m\u001b[0;34m\u001b[0m\u001b[0;34m\u001b[0m\u001b[0m\n\u001b[0m",
            "\u001b[0;32m/usr/local/lib/python3.7/dist-packages/sklearn/kernel_approximation.py\u001b[0m in \u001b[0;36mfit\u001b[0;34m(self, X, y)\u001b[0m\n\u001b[1;32m    875\u001b[0m             \u001b[0mReturns\u001b[0m \u001b[0mthe\u001b[0m \u001b[0minstance\u001b[0m \u001b[0mitself\u001b[0m\u001b[0;34m.\u001b[0m\u001b[0;34m\u001b[0m\u001b[0;34m\u001b[0m\u001b[0m\n\u001b[1;32m    876\u001b[0m         \"\"\"\n\u001b[0;32m--> 877\u001b[0;31m         \u001b[0mX\u001b[0m \u001b[0;34m=\u001b[0m \u001b[0mself\u001b[0m\u001b[0;34m.\u001b[0m\u001b[0m_validate_data\u001b[0m\u001b[0;34m(\u001b[0m\u001b[0mX\u001b[0m\u001b[0;34m,\u001b[0m \u001b[0maccept_sparse\u001b[0m\u001b[0;34m=\u001b[0m\u001b[0;34m\"csr\"\u001b[0m\u001b[0;34m)\u001b[0m\u001b[0;34m\u001b[0m\u001b[0;34m\u001b[0m\u001b[0m\n\u001b[0m\u001b[1;32m    878\u001b[0m         \u001b[0mrnd\u001b[0m \u001b[0;34m=\u001b[0m \u001b[0mcheck_random_state\u001b[0m\u001b[0;34m(\u001b[0m\u001b[0mself\u001b[0m\u001b[0;34m.\u001b[0m\u001b[0mrandom_state\u001b[0m\u001b[0;34m)\u001b[0m\u001b[0;34m\u001b[0m\u001b[0;34m\u001b[0m\u001b[0m\n\u001b[1;32m    879\u001b[0m         \u001b[0mn_samples\u001b[0m \u001b[0;34m=\u001b[0m \u001b[0mX\u001b[0m\u001b[0;34m.\u001b[0m\u001b[0mshape\u001b[0m\u001b[0;34m[\u001b[0m\u001b[0;36m0\u001b[0m\u001b[0;34m]\u001b[0m\u001b[0;34m\u001b[0m\u001b[0;34m\u001b[0m\u001b[0m\n",
            "\u001b[0;32m/usr/local/lib/python3.7/dist-packages/sklearn/base.py\u001b[0m in \u001b[0;36m_validate_data\u001b[0;34m(self, X, y, reset, validate_separately, **check_params)\u001b[0m\n\u001b[1;32m    564\u001b[0m             \u001b[0;32mraise\u001b[0m \u001b[0mValueError\u001b[0m\u001b[0;34m(\u001b[0m\u001b[0;34m\"Validation should be done on X, y or both.\"\u001b[0m\u001b[0;34m)\u001b[0m\u001b[0;34m\u001b[0m\u001b[0;34m\u001b[0m\u001b[0m\n\u001b[1;32m    565\u001b[0m         \u001b[0;32melif\u001b[0m \u001b[0;32mnot\u001b[0m \u001b[0mno_val_X\u001b[0m \u001b[0;32mand\u001b[0m \u001b[0mno_val_y\u001b[0m\u001b[0;34m:\u001b[0m\u001b[0;34m\u001b[0m\u001b[0;34m\u001b[0m\u001b[0m\n\u001b[0;32m--> 566\u001b[0;31m             \u001b[0mX\u001b[0m \u001b[0;34m=\u001b[0m \u001b[0mcheck_array\u001b[0m\u001b[0;34m(\u001b[0m\u001b[0mX\u001b[0m\u001b[0;34m,\u001b[0m \u001b[0;34m**\u001b[0m\u001b[0mcheck_params\u001b[0m\u001b[0;34m)\u001b[0m\u001b[0;34m\u001b[0m\u001b[0;34m\u001b[0m\u001b[0m\n\u001b[0m\u001b[1;32m    567\u001b[0m             \u001b[0mout\u001b[0m \u001b[0;34m=\u001b[0m \u001b[0mX\u001b[0m\u001b[0;34m\u001b[0m\u001b[0;34m\u001b[0m\u001b[0m\n\u001b[1;32m    568\u001b[0m         \u001b[0;32melif\u001b[0m \u001b[0mno_val_X\u001b[0m \u001b[0;32mand\u001b[0m \u001b[0;32mnot\u001b[0m \u001b[0mno_val_y\u001b[0m\u001b[0;34m:\u001b[0m\u001b[0;34m\u001b[0m\u001b[0;34m\u001b[0m\u001b[0m\n",
            "\u001b[0;32m/usr/local/lib/python3.7/dist-packages/sklearn/utils/validation.py\u001b[0m in \u001b[0;36mcheck_array\u001b[0;34m(array, accept_sparse, accept_large_sparse, dtype, order, copy, force_all_finite, ensure_2d, allow_nd, ensure_min_samples, ensure_min_features, estimator)\u001b[0m\n\u001b[1;32m    794\u001b[0m             raise ValueError(\n\u001b[1;32m    795\u001b[0m                 \u001b[0;34m\"Found array with dim %d. %s expected <= 2.\"\u001b[0m\u001b[0;34m\u001b[0m\u001b[0;34m\u001b[0m\u001b[0m\n\u001b[0;32m--> 796\u001b[0;31m                 \u001b[0;34m%\u001b[0m \u001b[0;34m(\u001b[0m\u001b[0marray\u001b[0m\u001b[0;34m.\u001b[0m\u001b[0mndim\u001b[0m\u001b[0;34m,\u001b[0m \u001b[0mestimator_name\u001b[0m\u001b[0;34m)\u001b[0m\u001b[0;34m\u001b[0m\u001b[0;34m\u001b[0m\u001b[0m\n\u001b[0m\u001b[1;32m    797\u001b[0m             )\n\u001b[1;32m    798\u001b[0m \u001b[0;34m\u001b[0m\u001b[0m\n",
            "\u001b[0;31mValueError\u001b[0m: Found array with dim 4. Estimator expected <= 2."
          ]
        }
      ]
    },
    {
      "cell_type": "code",
      "source": [
        "points.transform(Matrix)"
      ],
      "metadata": {
        "id": "7Bs0hf1fs8l_",
        "outputId": "1d8951b1-9abe-4fa3-bf94-831e084e1116"
      },
      "execution_count": null,
      "outputs": [
        {
          "execution_count": 71,
          "output_type": "execute_result",
          "data": {
            "text/plain": "array([[3.42660929, 2.77636401, 2.94006871, ..., 2.24669118, 3.22674698,\n        2.83745396],\n       [3.52832189, 2.9437388 , 3.18219029, ..., 2.44591691, 3.7129431 ,\n        3.00963934],\n       [2.36300425, 2.19002486, 2.30942483, ..., 2.01331077, 2.34562412,\n        2.14905223],\n       ...,\n       [2.10733913, 2.08920932, 2.07514916, ..., 1.61662547, 2.35574291,\n        2.03669137],\n       [2.27630231, 2.10834852, 2.20017267, ..., 1.98475257, 2.38868322,\n        2.17285284],\n       [2.67695822, 2.36753734, 2.52291597, ..., 1.98994086, 2.78520741,\n        2.40633345]])"
          },
          "metadata": {}
        }
      ]
    },
    {
      "cell_type": "code",
      "source": [
        "print(f'Training set contains {len(fchl_kernel.train_points)} entries')"
      ],
      "metadata": {
        "execution": {
          "iopub.execute_input": "2021-01-25T13:59:24.437318Z",
          "iopub.status.busy": "2021-01-25T13:59:24.436726Z",
          "iopub.status.idle": "2021-01-25T13:59:24.439888Z",
          "shell.execute_reply": "2021-01-25T13:59:24.439262Z"
        },
        "id": "bFV9pHw6s8mA",
        "outputId": "72b2626e-6b3a-4319-ff05-bf325dcd7f48"
      },
      "execution_count": null,
      "outputs": [
        {
          "name": "stdout",
          "output_type": "stream",
          "text": "Training set contains 3 entries\n"
        }
      ]
    },
    {
      "cell_type": "markdown",
      "source": [
        "It can then compute the kernel matrix for new molecules on demand"
      ],
      "metadata": {
        "id": "AauU0EQIs8mA"
      }
    },
    {
      "cell_type": "code",
      "source": [
        "%%time\n",
        "k = fchl_kernel.transform(data['fchl_rep'].tolist())\n",
        "print(f'Computed feature matrix of shape: {k.shape}')"
      ],
      "metadata": {
        "execution": {
          "iopub.execute_input": "2021-01-25T13:59:24.444539Z",
          "iopub.status.busy": "2021-01-25T13:59:24.443758Z",
          "iopub.status.idle": "2021-01-25T13:59:33.714973Z",
          "shell.execute_reply": "2021-01-25T13:59:33.714331Z"
        },
        "id": "UOMKWrnps8mA",
        "outputId": "eb8a46c0-4f0f-446e-912f-462050370537"
      },
      "execution_count": null,
      "outputs": [
        {
          "name": "stdout",
          "output_type": "stream",
          "text": "Computed feature matrix of shape: (2000, 3)\nCPU times: user 22.9 s, sys: 81 ms, total: 23 s\nWall time: 9.27 s\n"
        }
      ]
    },
    {
      "cell_type": "markdown",
      "source": [
        "Now, we build a [`Pipeline`](https://scikit-learn.org/stable/modules/generated/sklearn.pipeline.Pipeline.html) object to streamline fitting the KRR model.\n",
        "The Pipeline will automatically pipe the kernel matrix computed from the FCHL kernel as inputs into the KRR model"
      ],
      "metadata": {
        "id": "bgHFNbzYs8mB"
      }
    },
    {
      "cell_type": "code",
      "source": [
        "model = Pipeline([\n",
        "    ('kernel', ny),\n",
        "    ('krr', KernelRidge(kernel='precomputed'))\n",
        "])"
      ],
      "metadata": {
        "tags": [],
        "trusted": true,
        "id": "5s7Bhu9Fs8mB"
      },
      "execution_count": 7,
      "outputs": []
    },
    {
      "cell_type": "markdown",
      "source": [
        "Here, we demonstrate fitting it to a small subset of the training data"
      ],
      "metadata": {
        "id": "Mv1Tz3r6s8mC"
      }
    },
    {
      "cell_type": "code",
      "source": [
        "train_data = np.asarray(data.tail(100)['fchl_rep'].tolist())"
      ],
      "metadata": {
        "id": "Ade3MB2JLH94"
      },
      "execution_count": 8,
      "outputs": []
    },
    {
      "cell_type": "code",
      "source": [
        "target_data = data.tail(50)['u0_atom'].tolist()"
      ],
      "metadata": {
        "id": "MJdMdjgzMSYM"
      },
      "execution_count": 9,
      "outputs": []
    },
    {
      "cell_type": "code",
      "source": [
        "target_data = np.asarray(target_data).shape"
      ],
      "metadata": {
        "id": "QM0F2kscM_3e"
      },
      "execution_count": 10,
      "outputs": []
    },
    {
      "cell_type": "code",
      "source": [
        "train_data.shape"
      ],
      "metadata": {
        "colab": {
          "base_uri": "https://localhost:8080/"
        },
        "id": "TtpbCxxJLOzm",
        "outputId": "8ceab7f0-d363-488e-c029-f9056856e25a"
      },
      "execution_count": 11,
      "outputs": [
        {
          "output_type": "execute_result",
          "data": {
            "text/plain": [
              "(100, 30, 5, 30)"
            ]
          },
          "metadata": {},
          "execution_count": 11
        }
      ]
    },
    {
      "cell_type": "code",
      "source": [
        "train_data_reshaped = train_data.reshape(100, 30 * 5 * 30)"
      ],
      "metadata": {
        "id": "DW7j9JFAK5sL"
      },
      "execution_count": 12,
      "outputs": []
    },
    {
      "cell_type": "code",
      "source": [
        "%%time\n",
        "model.fit(train_data_reshaped, data.tail(50)['u0_atom'].tolist())"
      ],
      "metadata": {
        "tags": [],
        "trusted": true,
        "id": "qy6j1p33s8mC"
      },
      "execution_count": null,
      "outputs": []
    },
    {
      "cell_type": "markdown",
      "source": [
        "Note that we can compute the kernel matrix and fit the KRR model in one step.\n",
        "\n",
        "Evaluating the model across the entire training set is also simple"
      ],
      "metadata": {
        "id": "2fgH6d6Ps8mD"
      }
    },
    {
      "cell_type": "code",
      "source": [
        "%%time\n",
        "data['u0_atom_pred'] = model.predict(data['fchl_rep'].tolist())"
      ],
      "metadata": {
        "tags": [],
        "trusted": true,
        "id": "dlX97bews8mE"
      },
      "execution_count": null,
      "outputs": []
    },
    {
      "cell_type": "code",
      "source": [
        "mae = mean_absolute_error(data['u0_atom'], data['u0_atom_pred'])\n",
        "print(f'MAE = {mae:.4f} Ha = {mae*627.50947406:.2f} kcal/mol')"
      ],
      "metadata": {
        "tags": [],
        "trusted": true,
        "id": "tOzI0Gnjs8mE",
        "outputId": "b8ee7142-f89a-43bc-c02c-8c4a11060686"
      },
      "execution_count": null,
      "outputs": [
        {
          "traceback": [
            "\u001b[0;31m---------------------------------------------------------------------------\u001b[0m",
            "\u001b[0;31mKeyError\u001b[0m                                  Traceback (most recent call last)",
            "\u001b[0;32m/srv/conda/envs/notebook/lib/python3.7/site-packages/pandas/core/indexes/base.py\u001b[0m in \u001b[0;36mget_loc\u001b[0;34m(self, key, method, tolerance)\u001b[0m\n\u001b[1;32m   3360\u001b[0m             \u001b[0;32mtry\u001b[0m\u001b[0;34m:\u001b[0m\u001b[0;34m\u001b[0m\u001b[0;34m\u001b[0m\u001b[0m\n\u001b[0;32m-> 3361\u001b[0;31m                 \u001b[0;32mreturn\u001b[0m \u001b[0mself\u001b[0m\u001b[0;34m.\u001b[0m\u001b[0m_engine\u001b[0m\u001b[0;34m.\u001b[0m\u001b[0mget_loc\u001b[0m\u001b[0;34m(\u001b[0m\u001b[0mcasted_key\u001b[0m\u001b[0;34m)\u001b[0m\u001b[0;34m\u001b[0m\u001b[0;34m\u001b[0m\u001b[0m\n\u001b[0m\u001b[1;32m   3362\u001b[0m             \u001b[0;32mexcept\u001b[0m \u001b[0mKeyError\u001b[0m \u001b[0;32mas\u001b[0m \u001b[0merr\u001b[0m\u001b[0;34m:\u001b[0m\u001b[0;34m\u001b[0m\u001b[0;34m\u001b[0m\u001b[0m\n",
            "\u001b[0;32m/srv/conda/envs/notebook/lib/python3.7/site-packages/pandas/_libs/index.pyx\u001b[0m in \u001b[0;36mpandas._libs.index.IndexEngine.get_loc\u001b[0;34m()\u001b[0m\n",
            "\u001b[0;32m/srv/conda/envs/notebook/lib/python3.7/site-packages/pandas/_libs/index.pyx\u001b[0m in \u001b[0;36mpandas._libs.index.IndexEngine.get_loc\u001b[0;34m()\u001b[0m\n",
            "\u001b[0;32mpandas/_libs/hashtable_class_helper.pxi\u001b[0m in \u001b[0;36mpandas._libs.hashtable.PyObjectHashTable.get_item\u001b[0;34m()\u001b[0m\n",
            "\u001b[0;32mpandas/_libs/hashtable_class_helper.pxi\u001b[0m in \u001b[0;36mpandas._libs.hashtable.PyObjectHashTable.get_item\u001b[0;34m()\u001b[0m\n",
            "\u001b[0;31mKeyError\u001b[0m: 'u0_atom_pred'",
            "\nThe above exception was the direct cause of the following exception:\n",
            "\u001b[0;31mKeyError\u001b[0m                                  Traceback (most recent call last)",
            "\u001b[0;32m/tmp/ipykernel_165/2721725404.py\u001b[0m in \u001b[0;36m<module>\u001b[0;34m\u001b[0m\n\u001b[0;32m----> 1\u001b[0;31m \u001b[0mmae\u001b[0m \u001b[0;34m=\u001b[0m \u001b[0mmean_absolute_error\u001b[0m\u001b[0;34m(\u001b[0m\u001b[0mdata\u001b[0m\u001b[0;34m[\u001b[0m\u001b[0;34m'u0_atom'\u001b[0m\u001b[0;34m]\u001b[0m\u001b[0;34m,\u001b[0m \u001b[0mdata\u001b[0m\u001b[0;34m[\u001b[0m\u001b[0;34m'u0_atom_pred'\u001b[0m\u001b[0;34m]\u001b[0m\u001b[0;34m)\u001b[0m\u001b[0;34m\u001b[0m\u001b[0;34m\u001b[0m\u001b[0m\n\u001b[0m\u001b[1;32m      2\u001b[0m \u001b[0mprint\u001b[0m\u001b[0;34m(\u001b[0m\u001b[0;34mf'MAE = {mae:.4f} Ha = {mae*627.50947406:.2f} kcal/mol'\u001b[0m\u001b[0;34m)\u001b[0m\u001b[0;34m\u001b[0m\u001b[0;34m\u001b[0m\u001b[0m\n",
            "\u001b[0;32m/srv/conda/envs/notebook/lib/python3.7/site-packages/pandas/core/frame.py\u001b[0m in \u001b[0;36m__getitem__\u001b[0;34m(self, key)\u001b[0m\n\u001b[1;32m   3456\u001b[0m             \u001b[0;32mif\u001b[0m \u001b[0mself\u001b[0m\u001b[0;34m.\u001b[0m\u001b[0mcolumns\u001b[0m\u001b[0;34m.\u001b[0m\u001b[0mnlevels\u001b[0m \u001b[0;34m>\u001b[0m \u001b[0;36m1\u001b[0m\u001b[0;34m:\u001b[0m\u001b[0;34m\u001b[0m\u001b[0;34m\u001b[0m\u001b[0m\n\u001b[1;32m   3457\u001b[0m                 \u001b[0;32mreturn\u001b[0m \u001b[0mself\u001b[0m\u001b[0;34m.\u001b[0m\u001b[0m_getitem_multilevel\u001b[0m\u001b[0;34m(\u001b[0m\u001b[0mkey\u001b[0m\u001b[0;34m)\u001b[0m\u001b[0;34m\u001b[0m\u001b[0;34m\u001b[0m\u001b[0m\n\u001b[0;32m-> 3458\u001b[0;31m             \u001b[0mindexer\u001b[0m \u001b[0;34m=\u001b[0m \u001b[0mself\u001b[0m\u001b[0;34m.\u001b[0m\u001b[0mcolumns\u001b[0m\u001b[0;34m.\u001b[0m\u001b[0mget_loc\u001b[0m\u001b[0;34m(\u001b[0m\u001b[0mkey\u001b[0m\u001b[0;34m)\u001b[0m\u001b[0;34m\u001b[0m\u001b[0;34m\u001b[0m\u001b[0m\n\u001b[0m\u001b[1;32m   3459\u001b[0m             \u001b[0;32mif\u001b[0m \u001b[0mis_integer\u001b[0m\u001b[0;34m(\u001b[0m\u001b[0mindexer\u001b[0m\u001b[0;34m)\u001b[0m\u001b[0;34m:\u001b[0m\u001b[0;34m\u001b[0m\u001b[0;34m\u001b[0m\u001b[0m\n\u001b[1;32m   3460\u001b[0m                 \u001b[0mindexer\u001b[0m \u001b[0;34m=\u001b[0m \u001b[0;34m[\u001b[0m\u001b[0mindexer\u001b[0m\u001b[0;34m]\u001b[0m\u001b[0;34m\u001b[0m\u001b[0;34m\u001b[0m\u001b[0m\n",
            "\u001b[0;32m/srv/conda/envs/notebook/lib/python3.7/site-packages/pandas/core/indexes/base.py\u001b[0m in \u001b[0;36mget_loc\u001b[0;34m(self, key, method, tolerance)\u001b[0m\n\u001b[1;32m   3361\u001b[0m                 \u001b[0;32mreturn\u001b[0m \u001b[0mself\u001b[0m\u001b[0;34m.\u001b[0m\u001b[0m_engine\u001b[0m\u001b[0;34m.\u001b[0m\u001b[0mget_loc\u001b[0m\u001b[0;34m(\u001b[0m\u001b[0mcasted_key\u001b[0m\u001b[0;34m)\u001b[0m\u001b[0;34m\u001b[0m\u001b[0;34m\u001b[0m\u001b[0m\n\u001b[1;32m   3362\u001b[0m             \u001b[0;32mexcept\u001b[0m \u001b[0mKeyError\u001b[0m \u001b[0;32mas\u001b[0m \u001b[0merr\u001b[0m\u001b[0;34m:\u001b[0m\u001b[0;34m\u001b[0m\u001b[0;34m\u001b[0m\u001b[0m\n\u001b[0;32m-> 3363\u001b[0;31m                 \u001b[0;32mraise\u001b[0m \u001b[0mKeyError\u001b[0m\u001b[0;34m(\u001b[0m\u001b[0mkey\u001b[0m\u001b[0;34m)\u001b[0m \u001b[0;32mfrom\u001b[0m \u001b[0merr\u001b[0m\u001b[0;34m\u001b[0m\u001b[0;34m\u001b[0m\u001b[0m\n\u001b[0m\u001b[1;32m   3364\u001b[0m \u001b[0;34m\u001b[0m\u001b[0m\n\u001b[1;32m   3365\u001b[0m         \u001b[0;32mif\u001b[0m \u001b[0mis_scalar\u001b[0m\u001b[0;34m(\u001b[0m\u001b[0mkey\u001b[0m\u001b[0;34m)\u001b[0m \u001b[0;32mand\u001b[0m \u001b[0misna\u001b[0m\u001b[0;34m(\u001b[0m\u001b[0mkey\u001b[0m\u001b[0;34m)\u001b[0m \u001b[0;32mand\u001b[0m \u001b[0;32mnot\u001b[0m \u001b[0mself\u001b[0m\u001b[0;34m.\u001b[0m\u001b[0mhasnans\u001b[0m\u001b[0;34m:\u001b[0m\u001b[0;34m\u001b[0m\u001b[0;34m\u001b[0m\u001b[0m\n",
            "\u001b[0;31mKeyError\u001b[0m: 'u0_atom_pred'"
          ],
          "ename": "KeyError",
          "evalue": "'u0_atom_pred'",
          "output_type": "error"
        }
      ]
    },
    {
      "cell_type": "markdown",
      "source": [
        "We acheive an error of ~20 kcal/mol with only 100 training points. Not bad!"
      ],
      "metadata": {
        "id": "E08GnX00s8mF"
      }
    },
    {
      "cell_type": "code",
      "source": [
        "fig, ax = plt.subplots(figsize=(3.5, 3.5))\n",
        "\n",
        "# Plot the actual vs predicted\n",
        "ax.scatter(data['u0_atom'], data['u0_atom_pred'], s=10)\n",
        "\n",
        "# Place a y=x line on the graph. We fix\n",
        "#  the x and y limits first so that they do not\n",
        "#  re-adjust to create more whitespace after \n",
        "#  adding the new line\n",
        "ax.set_xlim(ax.get_xlim())\n",
        "ax.set_ylim(ax.get_xlim())\n",
        "ax.plot(ax.get_xlim(), ax.get_xlim(), 'k--')\n",
        "\n",
        "ax.set_xlabel('$E_{atom}$, DFT (Ha)')\n",
        "ax.set_ylabel('$E_{atom}$, ML (Ha)')\n",
        "fig.tight_layout()"
      ],
      "metadata": {
        "execution": {
          "iopub.execute_input": "2021-01-25T14:02:39.489599Z",
          "iopub.status.busy": "2021-01-25T14:02:39.485777Z",
          "iopub.status.idle": "2021-01-25T14:02:39.635257Z",
          "shell.execute_reply": "2021-01-25T14:02:39.634812Z"
        },
        "id": "CECi3TtDs8mF",
        "outputId": "00da4576-ba75-4b8b-d46b-0ded8cf6087a"
      },
      "execution_count": null,
      "outputs": [
        {
          "output_type": "display_data",
          "data": {
            "image/png": "[encoded data removed]",
            "text/plain": "<Figure size 252x252 with 1 Axes>"
          },
          "metadata": {
            "needs_background": "light"
          }
        }
      ]
    },
    {
      "cell_type": "markdown",
      "source": [
        "### Fitting Hyperparameters\n",
        "The key hyperparamter for a KRR model is $\\lambda$, which controls the tradeoff between fitness to the training set and model complexity.\n",
        "\n",
        "Scikit-learn provides a convenient tool, [GridSearchCV](https://scikit-learn.org/stable/modules/generated/sklearn.model_selection.GridSearchCV.html), for optimizing hyperparameters that we will use for this exercise."
      ],
      "metadata": {
        "id": "QeEVGD4fs8mF"
      }
    },
    {
      "cell_type": "code",
      "source": [
        "# GridSearchCV wraps over a model performs hyperparameter optimization when you call fit\n",
        "#  by re-running the model with a series of different parameters. For efficiency,\n",
        "#  I wrap the KRR part of the model rather than the whole pipeline so that we do \n",
        "#  not need to re-run the kernel code\n",
        "model = Pipeline([\n",
        "    ('kernel', FCHLKernel()),\n",
        "    ('krr', GridSearchCV(\n",
        "        estimator=KernelRidge(kernel='precomputed'), # Set the estimator to be KRR\n",
        "        param_grid={'alpha': np.logspace(-8, 0, 32)},  # Lambda is known as alpha in sklearn\n",
        "        cv=ShuffleSplit(test_size=0.1, random_state=1),  # Use 10, 90/10% splits\n",
        "        scoring='neg_mean_absolute_error',  # Score based on MAE\n",
        "    ))\n",
        "])"
      ],
      "metadata": {
        "execution": {
          "iopub.execute_input": "2021-01-25T14:02:39.641348Z",
          "iopub.status.busy": "2021-01-25T14:02:39.640671Z",
          "iopub.status.idle": "2021-01-25T14:02:39.643170Z",
          "shell.execute_reply": "2021-01-25T14:02:39.643746Z"
        },
        "id": "SuqX_NRxs8mG"
      },
      "execution_count": null,
      "outputs": []
    },
    {
      "cell_type": "code",
      "source": [
        "%%time\n",
        "model.fit(train_data['fchl_rep'].tolist(), train_data['u0_atom']);"
      ],
      "metadata": {
        "execution": {
          "iopub.execute_input": "2021-01-25T14:02:39.648923Z",
          "iopub.status.busy": "2021-01-25T14:02:39.648172Z",
          "iopub.status.idle": "2021-01-25T14:02:45.389368Z",
          "shell.execute_reply": "2021-01-25T14:02:45.388900Z"
        },
        "id": "IjnLISS_s8mG",
        "outputId": "82a1bd9a-0e5f-4952-d57a-4d6b77386653"
      },
      "execution_count": null,
      "outputs": [
        {
          "name": "stdout",
          "output_type": "stream",
          "text": "CPU times: user 17.4 s, sys: 47.6 ms, total: 17.5 s\nWall time: 5.71 s\n"
        },
        {
          "execution_count": 1,
          "output_type": "execute_result",
          "data": {
            "text/plain": "Pipeline(steps=[('kernel', FCHLKernel()),\n                ('krr',\n                 GridSearchCV(cv=ShuffleSplit(n_splits=10, random_state=1, test_size=0.1, train_size=None),\n                              estimator=KernelRidge(kernel='precomputed'),\n                              param_grid={'alpha': array([1.00000000e-08, 1.81160919e-08, 3.28192787e-08, 5.94557071e-08,\n       1.07710506e-07, 1.95129342e-07, 3.53498111e-07, 6.40400427e-07,\n       1.16015530e-06, 2.10174801...78538e-06,\n       1.24960914e-05, 2.26380341e-05, 4.10112707e-05, 7.42963951e-05,\n       1.34596032e-04, 2.43835410e-04, 4.41734470e-04, 8.00250228e-04,\n       1.44974067e-03, 2.62636353e-03, 4.75794431e-03, 8.61953566e-03,\n       1.56152301e-02, 2.82886943e-02, 5.12480588e-02, 9.28414545e-02,\n       1.68192432e-01, 3.04698957e-01, 5.51995432e-01, 1.00000000e+00])},\n                              scoring='neg_mean_absolute_error'))])"
          },
          "metadata": {}
        }
      ]
    },
    {
      "cell_type": "code",
      "source": [
        "fig, ax = plt.subplots(figsize=(3.5, 2.5))\n",
        "\n",
        "gs = model[1]\n",
        "ax.semilogx(np.array(gs.cv_results_['param_alpha']), -1*gs.cv_results_['mean_test_score'])\n",
        "\n",
        "ax.set_xlabel('$\\lambda$')\n",
        "ax.set_ylabel('MAE (Ha)')\n",
        "fig.tight_layout()"
      ],
      "metadata": {
        "execution": {
          "iopub.execute_input": "2021-01-25T14:02:45.405461Z",
          "iopub.status.busy": "2021-01-25T14:02:45.404975Z",
          "iopub.status.idle": "2021-01-25T14:02:45.649898Z",
          "shell.execute_reply": "2021-01-25T14:02:45.649414Z"
        },
        "id": "kgBP1_2Xs8mG",
        "outputId": "bc4cb3ca-11c6-4c11-e240-89b8444f3028"
      },
      "execution_count": null,
      "outputs": [
        {
          "output_type": "display_data",
          "data": {
            "image/png": "[encoded data removed]",
            "text/plain": "<Figure size 252x180 with 1 Axes>"
          },
          "metadata": {
            "needs_background": "light"
          }
        }
      ]
    },
    {
      "cell_type": "markdown",
      "source": [
        "Note how the error can change by about a factor of 2 when we adjust $\\lambda$"
      ],
      "metadata": {
        "id": "QBWdRCTos8mH"
      }
    },
    {
      "cell_type": "code",
      "source": [
        "%%time\n",
        "data['u0_atom_pred'] = model.predict(data['fchl_rep'].tolist())"
      ],
      "metadata": {
        "execution": {
          "iopub.execute_input": "2021-01-25T14:02:45.653317Z",
          "iopub.status.busy": "2021-01-25T14:02:45.652885Z",
          "iopub.status.idle": "2021-01-25T14:05:48.202377Z",
          "shell.execute_reply": "2021-01-25T14:05:48.201825Z"
        },
        "id": "8ApT5xges8mH",
        "outputId": "eaa2bbbb-7f95-4db5-d9a8-217b73c5c700"
      },
      "execution_count": null,
      "outputs": [
        {
          "name": "stdout",
          "output_type": "stream",
          "text": "CPU times: user 11min 10s, sys: 942 ms, total: 11min 11s\nWall time: 3min 2s\n"
        }
      ]
    },
    {
      "cell_type": "code",
      "source": [
        "mae = mean_absolute_error(data['u0_atom'], data['u0_atom_pred'])\n",
        "print(f'MAE = {mae:.4f} Ha = {mae*627.50947406:.2f} kcal/mol')"
      ],
      "metadata": {
        "execution": {
          "iopub.execute_input": "2021-01-25T14:05:48.206169Z",
          "iopub.status.busy": "2021-01-25T14:05:48.205687Z",
          "iopub.status.idle": "2021-01-25T14:05:48.208365Z",
          "shell.execute_reply": "2021-01-25T14:05:48.208822Z"
        },
        "id": "r8fnYCO2s8mI",
        "outputId": "e1bd2e26-4338-405c-afee-81ebf51f1ed7"
      },
      "execution_count": null,
      "outputs": [
        {
          "name": "stdout",
          "output_type": "stream",
          "text": "MAE = 0.0089 Ha = 5.61 kcal/mol\n"
        }
      ]
    },
    {
      "cell_type": "markdown",
      "source": [
        "By tuning the hyperparameter, we reduced the error to ~5 kcal/mol!"
      ],
      "metadata": {
        "id": "yY_wa0VXs8mI"
      }
    },
    {
      "cell_type": "markdown",
      "source": [
        "### Benefit of Scalable Kernel\n",
        "Here, we repeat the \"split on molecule size\" test from the [Coulomb Matrix example](./fitting-coulomb-matrix.ipynb) to see whether the validation results are as poor."
      ],
      "metadata": {
        "id": "7IX1LVnfs8mJ"
      }
    },
    {
      "cell_type": "code",
      "source": [
        "size = np.percentile(data['n_atom'], 50)\n",
        "train_data = data.query(f'n_atom<={size}').sample(100)\n",
        "test_data = data.query(f'n_atom>{size}') \n",
        "print(f'Made a training set of {len(train_data)} entries and a test set of {len(test_data)} by splitting based on molecule size.')"
      ],
      "metadata": {
        "execution": {
          "iopub.execute_input": "2021-01-25T14:05:48.212991Z",
          "iopub.status.busy": "2021-01-25T14:05:48.212546Z",
          "iopub.status.idle": "2021-01-25T14:05:48.247362Z",
          "shell.execute_reply": "2021-01-25T14:05:48.246901Z"
        },
        "id": "cpWF5xums8mJ",
        "outputId": "d9f61816-6fc6-4376-ed02-1cf4941c491d"
      },
      "execution_count": null,
      "outputs": [
        {
          "name": "stdout",
          "output_type": "stream",
          "text": "Made a training set of 100 entries and a test set of 881 by splitting based on molecule size.\n"
        }
      ]
    },
    {
      "cell_type": "markdown",
      "source": [
        "Train on the smaller size"
      ],
      "metadata": {
        "id": "y4rmEtJ8s8mJ"
      }
    },
    {
      "cell_type": "code",
      "source": [
        "%%time\n",
        "model.fit(train_data['fchl_rep'].tolist(), train_data['u0_atom']);"
      ],
      "metadata": {
        "execution": {
          "iopub.execute_input": "2021-01-25T14:05:48.251444Z",
          "iopub.status.busy": "2021-01-25T14:05:48.250925Z",
          "iopub.status.idle": "2021-01-25T14:05:52.533972Z",
          "shell.execute_reply": "2021-01-25T14:05:52.534451Z"
        },
        "id": "vZjTfnhJs8mK",
        "outputId": "e6946882-343f-4b8d-cf8a-8fd49a051e5e"
      },
      "execution_count": null,
      "outputs": [
        {
          "name": "stdout",
          "output_type": "stream",
          "text": "CPU times: user 11.3 s, sys: 75.7 ms, total: 11.4 s\nWall time: 4.25 s\n"
        },
        {
          "execution_count": 1,
          "output_type": "execute_result",
          "data": {
            "text/plain": "Pipeline(steps=[('kernel', FCHLKernel()),\n                ('krr',\n                 GridSearchCV(cv=ShuffleSplit(n_splits=10, random_state=1, test_size=0.1, train_size=None),\n                              estimator=KernelRidge(kernel='precomputed'),\n                              param_grid={'alpha': array([1.00000000e-08, 1.81160919e-08, 3.28192787e-08, 5.94557071e-08,\n       1.07710506e-07, 1.95129342e-07, 3.53498111e-07, 6.40400427e-07,\n       1.16015530e-06, 2.10174801...78538e-06,\n       1.24960914e-05, 2.26380341e-05, 4.10112707e-05, 7.42963951e-05,\n       1.34596032e-04, 2.43835410e-04, 4.41734470e-04, 8.00250228e-04,\n       1.44974067e-03, 2.62636353e-03, 4.75794431e-03, 8.61953566e-03,\n       1.56152301e-02, 2.82886943e-02, 5.12480588e-02, 9.28414545e-02,\n       1.68192432e-01, 3.04698957e-01, 5.51995432e-01, 1.00000000e+00])},\n                              scoring='neg_mean_absolute_error'))])"
          },
          "metadata": {}
        }
      ]
    },
    {
      "cell_type": "markdown",
      "source": [
        "Evaluate on the larger size"
      ],
      "metadata": {
        "id": "N58Xph2Fs8mK"
      }
    },
    {
      "cell_type": "code",
      "source": [
        "test_data['u0_atom_pred'] = model.predict(test_data['fchl_rep'].tolist())"
      ],
      "metadata": {
        "execution": {
          "iopub.execute_input": "2021-01-25T14:05:52.538440Z",
          "iopub.status.busy": "2021-01-25T14:05:52.537788Z",
          "iopub.status.idle": "2021-01-25T14:07:15.193078Z",
          "shell.execute_reply": "2021-01-25T14:07:15.193683Z"
        },
        "id": "yVK2qQscs8mK",
        "outputId": "f2231d80-6853-4eb2-be12-6aaf2c715f66"
      },
      "execution_count": null,
      "outputs": [
        {
          "name": "stderr",
          "output_type": "stream",
          "text": "/home/wardlt/miniconda3/envs/molml/lib/python3.7/site-packages/ipykernel_launcher.py:1: SettingWithCopyWarning: \nA value is trying to be set on a copy of a slice from a DataFrame.\nTry using .loc[row_indexer,col_indexer] = value instead\n\nSee the caveats in the documentation: https://pandas.pydata.org/pandas-docs/stable/user_guide/indexing.html#returning-a-view-versus-a-copy\n  \"\"\"Entry point for launching an IPython kernel.\n"
        }
      ]
    },
    {
      "cell_type": "code",
      "source": [
        "fig, ax = plt.subplots(figsize=(3.5, 3.5))\n",
        "\n",
        "# Plot the actual vs predicted\n",
        "ax.scatter(test_data['u0_atom'], test_data['u0_atom_pred'], s=10)\n",
        "\n",
        "# Place a y=x line on the graph. We fix\n",
        "#  the x and y limits first so that they do not\n",
        "#  re-adjust to create more whitespace after \n",
        "#  adding the new line\n",
        "ax.set_xlim(ax.get_xlim())\n",
        "ax.set_ylim(ax.get_xlim())\n",
        "ax.plot(ax.get_xlim(), ax.get_xlim(), 'k--')\n",
        "\n",
        "ax.set_xlabel('$E_{atom}$, DFT (Ha)')\n",
        "ax.set_ylabel('$E_{atom}$, ML (Ha)')\n",
        "fig.tight_layout()"
      ],
      "metadata": {
        "execution": {
          "iopub.execute_input": "2021-01-25T14:07:15.210859Z",
          "iopub.status.busy": "2021-01-25T14:07:15.210413Z",
          "iopub.status.idle": "2021-01-25T14:07:15.369258Z",
          "shell.execute_reply": "2021-01-25T14:07:15.368553Z"
        },
        "id": "Q_rWMKKIs8mL",
        "outputId": "227d9e4f-9031-4eda-deda-d63f93e069ce"
      },
      "execution_count": null,
      "outputs": [
        {
          "output_type": "display_data",
          "data": {
            "image/png": "[encoded data removed]",
            "text/plain": "<Figure size 252x252 with 1 Axes>"
          },
          "metadata": {
            "needs_background": "light"
          }
        }
      ]
    },
    {
      "cell_type": "code",
      "source": [
        "mae = mean_absolute_error(test_data['u0_atom'], test_data['u0_atom_pred'])\n",
        "print(f'MAE = {mae:.4f} Ha = {mae*627.50947406:.2f} kcal/mol')"
      ],
      "metadata": {
        "execution": {
          "iopub.execute_input": "2021-01-25T14:07:15.375005Z",
          "iopub.status.busy": "2021-01-25T14:07:15.374306Z",
          "iopub.status.idle": "2021-01-25T14:07:15.377077Z",
          "shell.execute_reply": "2021-01-25T14:07:15.377610Z"
        },
        "id": "qlTySedns8mL",
        "outputId": "521a6c20-8fc0-482d-d400-c58b1c98a345"
      },
      "execution_count": null,
      "outputs": [
        {
          "name": "stdout",
          "output_type": "stream",
          "text": "MAE = 0.0122 Ha = 7.67 kcal/mol\n"
        }
      ]
    },
    {
      "cell_type": "markdown",
      "source": [
        "We still achieve reasonable accuracy on these larger molecules, thanks to the scalable kernel. It is higher than what we observed in the \"random split test,\" but the difference is not as large as what we observed for the Coulomb Matrix."
      ],
      "metadata": {
        "id": "1vE_cw9is8mM"
      }
    },
    {
      "cell_type": "markdown",
      "source": [
        "### Computing a Learning Curve\n",
        "Learning curves show the improvement of a model as you add more training data.\n",
        "Here, we demonstrate how to make a learning curve to illustrate a few additional points about FCHL."
      ],
      "metadata": {
        "id": "oiWiRClWs8mM"
      }
    },
    {
      "cell_type": "code",
      "source": [
        "# Set up the test sizes we will evaluate for the learning curve\n",
        "train_sizes = [10, 30, 100, 300, 1000]"
      ],
      "metadata": {
        "execution": {
          "iopub.execute_input": "2021-01-25T14:07:15.381812Z",
          "iopub.status.busy": "2021-01-25T14:07:15.381216Z",
          "iopub.status.idle": "2021-01-25T14:07:15.383417Z",
          "shell.execute_reply": "2021-01-25T14:07:15.383923Z"
        },
        "id": "fcBqF_oys8mM"
      },
      "execution_count": null,
      "outputs": []
    },
    {
      "cell_type": "code",
      "source": [
        "# Prepare a standard test set\n",
        "train_data, test_data = train_test_split(data, test_size=500, random_state=1) \n",
        "\n",
        "# Avoids warnings about setting values of a copy\n",
        "test_data = test_data.copy()"
      ],
      "metadata": {
        "execution": {
          "iopub.execute_input": "2021-01-25T14:07:15.392111Z",
          "iopub.status.busy": "2021-01-25T14:07:15.391504Z",
          "iopub.status.idle": "2021-01-25T14:07:15.394416Z",
          "shell.execute_reply": "2021-01-25T14:07:15.394983Z"
        },
        "id": "6BEfj8nMs8mN"
      },
      "execution_count": null,
      "outputs": []
    },
    {
      "cell_type": "code",
      "source": [
        "# Loop over the test sizes\n",
        "results = []\n",
        "for ts in tqdm(train_sizes):\n",
        "    # Split off some training data\n",
        "    train_subset = train_data.sample(ts, random_state=1)\n",
        "    \n",
        "    # Fit the model\n",
        "    train_time = perf_counter()\n",
        "    model.fit(train_subset['fchl_rep'].tolist(), train_subset['u0_atom'])\n",
        "    train_time = perf_counter() - train_time\n",
        "    \n",
        "    # Evaluate the model on the test set\n",
        "    test_time = perf_counter()\n",
        "    test_data['u0_atom_pred'] = model.predict(test_data['fchl_rep'].tolist())\n",
        "    test_time = perf_counter() - test_time\n",
        "    \n",
        "    # Store performance information\n",
        "    results.append({\n",
        "        'train_size': ts,\n",
        "        'train_time': train_time,\n",
        "        'test_time': test_time,\n",
        "        'alpha': model[1].best_params_['alpha'],\n",
        "        'mae': mean_absolute_error(test_data['u0_atom'], test_data['u0_atom_pred'])\n",
        "    })"
      ],
      "metadata": {
        "execution": {
          "iopub.execute_input": "2021-01-25T14:07:15.401452Z",
          "iopub.status.busy": "2021-01-25T14:07:15.400944Z",
          "iopub.status.idle": "2021-01-25T14:28:00.438717Z",
          "shell.execute_reply": "2021-01-25T14:28:00.438060Z"
        },
        "id": "5lrB05aNs8mN",
        "outputId": "c666f9c7-4733-477b-c45e-070043aa55ae"
      },
      "execution_count": null,
      "outputs": [
        {
          "name": "stderr",
          "output_type": "stream",
          "text": "100%|██████████| 5/5 [20:45<00:00, 249.01s/it]\n"
        }
      ]
    },
    {
      "cell_type": "code",
      "source": [
        "results = pd.DataFrame(results)"
      ],
      "metadata": {
        "execution": {
          "iopub.execute_input": "2021-01-25T14:28:00.443311Z",
          "iopub.status.busy": "2021-01-25T14:28:00.442696Z",
          "iopub.status.idle": "2021-01-25T14:28:00.444783Z",
          "shell.execute_reply": "2021-01-25T14:28:00.445386Z"
        },
        "id": "WnQtMXA7s8mO"
      },
      "execution_count": null,
      "outputs": []
    },
    {
      "cell_type": "markdown",
      "source": [
        "Comparing performance to the original JCP paper"
      ],
      "metadata": {
        "id": "v_Ejn1Fos8mO"
      }
    },
    {
      "cell_type": "code",
      "source": [
        "jcp_results = pd.DataFrame([\n",
        "    [100, 0.2769171852851224], [1005.3012238214807, 0.06426615177922405],\n",
        "    [2502.606983490659, 0.03831336782897019], [5029.126239917856, 0.02719291345844958],\n",
        "    [10026.471083195112, 0.01905330215897317], [20148.744549550407, 0.013094302135827789]\n",
        "], columns=['size', 'mae'])"
      ],
      "metadata": {
        "execution": {
          "iopub.execute_input": "2021-01-25T14:28:00.451280Z",
          "iopub.status.busy": "2021-01-25T14:28:00.450627Z",
          "iopub.status.idle": "2021-01-25T14:28:00.453598Z",
          "shell.execute_reply": "2021-01-25T14:28:00.452886Z"
        },
        "id": "3dn4T4_Xs8mO"
      },
      "execution_count": null,
      "outputs": []
    },
    {
      "cell_type": "code",
      "source": [
        "fig, ax = plt.subplots()\n",
        "\n",
        "ax.loglog(jcp_results['size'], jcp_results['mae'], 'o--', label='FCHL')\n",
        "ax.loglog(results['train_size'], results['mae'] * 27.2114, 's-', label='This Work')\n",
        "\n",
        "fig.set_size_inches(3.5, 2.5)\n",
        "ax.legend()\n",
        "ax.set_xlabel('Training Set Size')\n",
        "ax.set_ylabel('MAE (eV)')"
      ],
      "metadata": {
        "execution": {
          "iopub.execute_input": "2021-01-25T14:28:00.475519Z",
          "iopub.status.busy": "2021-01-25T14:28:00.475061Z",
          "iopub.status.idle": "2021-01-25T14:28:01.053367Z",
          "shell.execute_reply": "2021-01-25T14:28:01.052834Z"
        },
        "id": "CgEZZmzrs8mO",
        "outputId": "f7458139-25b9-4f9c-cf48-5685997d973c"
      },
      "execution_count": null,
      "outputs": [
        {
          "execution_count": 1,
          "output_type": "execute_result",
          "data": {
            "text/plain": "Text(0, 0.5, 'MAE (eV)')"
          },
          "metadata": {}
        },
        {
          "output_type": "display_data",
          "data": {
            "image/png": "[encoded data removed]",
            "text/plain": "<Figure size 252x180 with 1 Axes>"
          },
          "metadata": {
            "needs_background": "light"
          }
        }
      ]
    },
    {
      "cell_type": "markdown",
      "source": [
        "Our implementation agrees well with the original paper!"
      ],
      "metadata": {
        "id": "SqHbcp3gs8mP"
      }
    },
    {
      "cell_type": "code",
      "source": [
        "fig, axs = plt.subplots(1, 3, figsize=(8.5, 3.))\n",
        "\n",
        "ax = axs[0]\n",
        "ax.loglog(results['train_size'], results['alpha'], '--o')\n",
        "ax.set_ylabel('$\\lambda$')\n",
        "ax.set_title('Hyperparameters')\n",
        "\n",
        "ax = axs[1]\n",
        "ax.loglog(results['train_size'], results['train_time'], '--o')\n",
        "p = linregress(np.log(results['train_size'].iloc[-3:]), np.log(results['train_time'].iloc[-3:]))\n",
        "ax.text(0.1, 0.8, f'$t \\propto N^{{{p[0]:.1f}}}$', transform=ax.transAxes, fontsize=14)\n",
        "ax.set_ylabel('Train Time (s)')\n",
        "ax.set_title('Training Performance')\n",
        "\n",
        "ax = axs[2]\n",
        "ax.loglog(results['train_size'], results['test_time'], '--o')\n",
        "p = linregress(np.log(results['train_size'].iloc[-3:]), np.log(results['test_time'].iloc[-3:]))\n",
        "ax.text(0.1, 0.8, f'$t \\propto N^{{{p[0]:.1f}}}$', transform=ax.transAxes, fontsize=14)\n",
        "ax.set_ylabel('Test Time (s)')\n",
        "ax.set_title('Inference Performance')\n",
        "\n",
        "for ax in axs:\n",
        "    ax.set_xlabel('Train Size')\n",
        "\n",
        "fig.tight_layout()\n",
        "fig.savefig('figures/fchl-scaling.svg')"
      ],
      "metadata": {
        "execution": {
          "iopub.execute_input": "2021-01-25T14:28:01.059143Z",
          "iopub.status.busy": "2021-01-25T14:28:01.058628Z",
          "iopub.status.idle": "2021-01-25T14:28:03.370073Z",
          "shell.execute_reply": "2021-01-25T14:28:03.370614Z"
        },
        "id": "C2UlrAXgs8mP",
        "outputId": "d01f9e10-7efe-4e55-8f3f-4022ccbc6dfe"
      },
      "execution_count": null,
      "outputs": [
        {
          "output_type": "display_data",
          "data": {
            "image/png": "[encoded data removed]",
            "text/plain": "<Figure size 612x216 with 3 Axes>"
          },
          "metadata": {
            "needs_background": "light"
          }
        }
      ]
    },
    {
      "cell_type": "markdown",
      "source": [
        "We can note a few things:\n",
        "\n",
        "1. The hyperparameters do change as a function of training set size. Be careful when fitting this model to always re-tune $\\lambda$\n",
        "2. The training time scales with $O(N^2)$, *i.e.* with the number of training entries. The quadratic scaling is a result of the time it takes to compute the kernel matrix\n",
        "3. The evaluation/test time scales linearly with the training set size, which is driven by the cost of comparing a point to each training entry"
      ],
      "metadata": {
        "id": "-F5kKtt_s8mQ"
      }
    },
    {
      "cell_type": "markdown",
      "source": [
        "## Summary\n",
        "Going back to our learning objectives, let's review that FHCL is...\n",
        "\n",
        "- [x] kernel method (*uses features based on similiarity to training set*)\n",
        "- [x] created with atomistic, scalable kernels (*similarity functions that express atomic contributions to molecular properties*)\n",
        "- [x] that use \"alchemical\" many-body similarity functions (*functions that capture similarity between atoms' environments*)\n",
        "- [x] to regress atomic properties with ridge regression (*using similiarty scores as inputs to a penalized linear regression*)."
      ],
      "metadata": {
        "id": "2O6QdNHns8mQ"
      }
    },
    {
      "cell_type": "code",
      "source": [
        ""
      ],
      "metadata": {
        "id": "3Yd4BbLds8mR"
      },
      "execution_count": null,
      "outputs": []
    }
  ]
}